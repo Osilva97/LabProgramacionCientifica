{
  "nbformat": 4,
  "nbformat_minor": 0,
  "metadata": {
    "colab": {
      "provenance": []
    },
    "kernelspec": {
      "name": "python3",
      "display_name": "Python 3"
    },
    "language_info": {
      "name": "python"
    }
  },
  "cells": [
    {
      "cell_type": "markdown",
      "metadata": {
        "id": "XUZ1dFPHzAHl",
        "cell_id": "e37cb69cb73a49c2ad07cf670e073cb7",
        "deepnote_cell_height": 156.390625,
        "deepnote_cell_type": "markdown"
      },
      "source": [
        "# Laboratorio 4: Spark y EDA 🐼\n",
        "\n",
        "<center><strong>MDS7202: Laboratorio de Programación Científica para Ciencia de Datos</strong></center>"
      ]
    },
    {
      "cell_type": "markdown",
      "source": [
        "### Cuerpo Docente:\n",
        "\n",
        "- Profesores: Ignacio Meza, Sebastián Tinoco\n",
        "- Auxiliar: Catherine Benavides\n",
        "- Ayudante: Nicolás Ojeda, Eduardo Moya"
      ],
      "metadata": {
        "id": "PkEUN6c8S-E_"
      }
    },
    {
      "cell_type": "markdown",
      "metadata": {
        "id": "tXflExjqzAHr",
        "cell_id": "8ebcb0f2f70c43319279fdd28c13fe89",
        "deepnote_cell_height": 171.796875,
        "deepnote_cell_type": "markdown"
      },
      "source": [
        "### Equipo: SUPER IMPORTANTE - notebooks sin nombre no serán revisados\n",
        "\n",
        "- Nombre de alumno 1: Omar Silva Quezada\n",
        "\n",
        "- Nombre de alumno 2:\n"
      ]
    },
    {
      "cell_type": "markdown",
      "metadata": {
        "id": "AD-V0bbZzAHr",
        "cell_id": "290822720f3e4484b09e762655bcdb76",
        "deepnote_cell_height": 62,
        "deepnote_cell_type": "markdown"
      },
      "source": [
        "### **Link de repositorio de GitHub:** `https://github.com/Osilva97/LabProgramacionCientifica.git`"
      ]
    },
    {
      "cell_type": "markdown",
      "metadata": {
        "tags": [],
        "deepnote_cell_height": 216,
        "cell_id": "60255b81ff0349ad9b18f598a8d71386",
        "deepnote_cell_type": "markdown",
        "id": "hnYD2hBMAwXf"
      },
      "source": [
        "### Reglas:\n",
        "\n",
        "- **Grupos de 2 personas**\n",
        "- Fecha de entrega: 7 días desde la publicación, 3 días de atraso con 1 punto de descuento c/u.\n",
        "- Instrucciones del lab el viernes a las 16:15 en formato online. Asistencia no es obligatoria.\n",
        "- <u>Prohibidas las copias</u>. Cualquier intento de copia será debidamente penalizado con el reglamento de la escuela.\n",
        "- Tienen que subir el laboratorio a u-cursos Y a su repositorio de github. Labs que no estén en u-cursos no serán revisados. Recuerden que el repositorio también tiene nota.\n",
        "- Cualquier duda fuera del horario de clases al foro. Mensajes al equipo docente serán respondidos por este medio.\n",
        "- Pueden usar cualquer material del curso que estimen conveniente."
      ]
    },
    {
      "cell_type": "markdown",
      "metadata": {
        "tags": [],
        "cell_id": "5bf6f5f66dcd4da9a6926774cec108ab",
        "deepnote_cell_height": 114.390625,
        "deepnote_cell_type": "markdown",
        "id": "xzz695obAwXg"
      },
      "source": [
        "### Temas a tratar\n",
        "\n",
        "- Introducción al manejo de datos tabulares por medio de la libreria `pandas`."
      ]
    },
    {
      "cell_type": "markdown",
      "metadata": {
        "id": "6uBLPj1PzAHs",
        "cell_id": "50ec30f08f2548a29bc979ed1741f5a0",
        "deepnote_cell_height": 243.390625,
        "deepnote_cell_type": "markdown"
      },
      "source": [
        "### Objetivos principales del laboratorio\n",
        "\n",
        "- Entender, aplicar y aprovechar las ventajas que nos ofrece la libreria `pyspark` para manejar datos tabulares de gran volúmen.\n",
        "- Crear gráficos para el desarrollo de Análisis de Datos Exploratorios (EDA)."
      ]
    },
    {
      "cell_type": "markdown",
      "source": [
        "### Datos del Lab\n",
        "\n",
        "- Base de datos: https://gitlab.com/imezadelajara/datos_clase_7_mds7202/-/raw/main/datos_lab_spark.parquet\n",
        "- Objeto serializado: https://gitlab.com/imezadelajara/datos_clase_7_mds7202/-/raw/main/object.pkl?inline=false"
      ],
      "metadata": {
        "id": "f7hHEyTgm12s"
      }
    },
    {
      "cell_type": "markdown",
      "source": [
        "## Preguntas Teóricas [12 puntos]\n",
        "(2 por pregunta)"
      ],
      "metadata": {
        "id": "6CrDdk5NRAKe"
      }
    },
    {
      "cell_type": "markdown",
      "source": [
        "<center>\n",
        "<img src=\"https://img.buzzfeed.com/buzzfeed-static/static/2018-08/1/17/enhanced/buzzfeed-prod-web-05/anigif_enhanced-9173-1533160033-1.gif\" width=350 />\n",
        "\n"
      ],
      "metadata": {
        "id": "EmDMGUTxLp7M"
      }
    },
    {
      "cell_type": "markdown",
      "source": [
        "Responda en  máximo 5 líneas las siguientes preguntas:\n",
        "1. ¿Qué es Apache Spark y cuáles son sus principales ventajas sobre Pandas?\n",
        "\n",
        "  La principal ventaja consta de que Apache Spark es escalable, dado que, ouede manejar grandes volumenes de datos y a la vez puede ser manejado por ser manejado desde varios frameworks distintos de trabajo al contat con un API distrubuidos de manera eficiente en un entorno de CLuster.\n",
        "  \n",
        "2. ¿Qué es un RDD en Spark? Describe una de sus principales características. ¿Qué tienen que ver con los dataframes?.\n",
        "\n",
        "  Corresponde a una Colección de elementos que son tolerables a fallas que se pueden distruibuir en varios cluster para propiciar el trabajo en paralelo, los dataframes ofrecen un forma mas estructurada de visualizar la información y ademas se tiene las virtudes de RDD, al presentar la resiliencia propia de este.\n",
        "\n",
        "3. Diferencia entre transformaciones y acciones en Spark. Proporciona ejemplos de cada una. ¿Qué ocurre internamente cuando se ejecuta una acción?\n",
        "\n",
        "  Las transformaciones se diferencian de las acciones dado que una tiene como entrada una RDD, a la que se le aplica algunas funciones y se tienes de salida una RDD con los cambios aplicados, por otro lado las acciones desencadenan todo el proceso y ejecuta todos los procesos establecidos en el pipeline definido.\n",
        "  \n",
        "  Un ejemplo de transformaciones pueden ser: map, filter, reduceByKey, etc, por el otro un ejemplo de acciones es: collect, take, count, etc.\n",
        "\n",
        "4. Explica la importancia del particionamiento en Spark y cómo afecta el rendimiento del procesamiento de datos.\n",
        "\n",
        "  Al particionar los datos se obtiene una mejora en el rendimiento del proceso a realizar, dado que se puede aprovechar el procesamiento paralelo, optimizando de forma eficeinte el uso del hardware a nivel fisico, cabe destacar que esto tambien ayuda a balancear la carga entre los nodos de los Cluster presentes.\n",
        "\n",
        "5. ¿Cuáles son las funciones de Spark Driver y Spark Executor?\n",
        "  \n",
        "  Spark Driver funciona como un orquetador, dado que es el encargado de dividir, asignar, coordinar y acontrolar la ejecución de algun programa. Por otro lado el Spark Executor se encarga de paralelizar la ejecución de las tareas en los y a la vez verificar la paralización de las particiones presentas en cada nodo.\n",
        "\n",
        "6. ¿Qué es el Catalyst Optimizer en Apache Spark y cuál es su función principal en la optimización de consultas SQL?\n",
        "\n",
        "  Es un optimizador que tiene como finalidad disminuir el procesamiento al realizar una query en lenguaje SQL, esto lo puede lograr analizando y reescriendo la query solicitada."
      ],
      "metadata": {
        "id": "pGZZcxMWRdIa"
      }
    },
    {
      "cell_type": "markdown",
      "metadata": {
        "cell_id": "00002-bf13ea5a-d8bf-4cee-879e-ba1c7035e657",
        "deepnote_cell_type": "markdown",
        "id": "b020ce37"
      },
      "source": [
        "## Parte Práctica\n",
        "\n"
      ]
    },
    {
      "cell_type": "markdown",
      "source": [
        "<center>\n",
        "<img src=\"https://pbs.twimg.com/ad_img/1285681293590749189/kDckYy6Z?format=png&name=900x900\" width=350 />"
      ],
      "metadata": {
        "id": "k0DaDvtgEYTV"
      }
    },
    {
      "cell_type": "markdown",
      "source": [
        "Juan Carlos Bodoque, el famoso periodista y empresario, decidió diversificar su portafolio de negocios y crear su propia plataforma de e-commerce. Después de varios años de investigar y analizar el mercado financiero, finalmente logró fundar Bodoque E-Shop con el objetivo de ofrecer a sus clientes una experiencia personalizada y confiable en sus transacciones.\n",
        "\n",
        "Sin embargo, con la llegada de los aliens al planeta Tierra, aparecen nuevos desafíos para el negocio. Por ello, Bodoque decide invertir en un equipo de expertos en tecnología y comercio interplanetario, para que Bodoque Shop implemente las últimas innovaciones en servicio al cliente para garantizar la satisfacción y fidelización de sus nuevos clientes.\n",
        "\n",
        "El primer objetivo de Bodoque E-Shop será la hacer un análisis exploratorio para entender mejor el comportamiento de los usuarios en la plataforma. Para ello Bodoque les hace entrega de un extenso dataset en el que se registran las actividades que han realizado sus clientes durante los últimos meses. A continuación se presenta un diccionario de variables que levanto el equipo de consultores interplanetarios de Bodoque:\n",
        "\n",
        "1. `Transaction ID`: A unique identifier for each transaction.\n",
        "2. `Customer ID`: A unique identifier for each customer.\n",
        "3. `Transaction Amount`: The total amount of money exchanged in the transaction in USD.\n",
        "4. `Transaction Date`: The date and time when the transaction took place.\n",
        "5. `Payment Method`: The method used to complete the transaction (e.g., credit card, PayPal, etc.).\n",
        "6. `Product Category`: The category of the product involved in the transaction.\n",
        "7. `Quantity`: The number of products involved in the transaction.\n",
        "8. `Customer Age`: The age of the customer making the transaction.\n",
        "9. `Customer Location`: The geographical location of the customer.\n",
        "10. `Device Used`: The type of device used to make the transaction (e.g., mobile, desktop).\n",
        "11. `IP Address`: The IP address of the device used for the transaction.\n",
        "Shipping Address: The address where the product was shipped.\n",
        "12. `Billing Address`: The address associated with the payment method.\n",
        "13. `Is An Alien`: A binary indicator of whether customer is an alien.\n",
        "14. `Account Age Days`: The age of the customer's account in days at the time of the transaction.\n",
        "15. `Transaction Hour`: The hour of the day when the transaction occurred.\n"
      ],
      "metadata": {
        "id": "uW1dg_5_WR8S"
      }
    },
    {
      "cell_type": "markdown",
      "metadata": {
        "id": "MhISwri4zAHy",
        "cell_id": "1769820f70244385ab5ac51f7509b6de",
        "deepnote_cell_height": 61.133331298828125,
        "deepnote_cell_type": "markdown"
      },
      "source": [
        "### Importamos librerias utiles y cargamos los datos😸"
      ]
    },
    {
      "cell_type": "code",
      "source": [
        "!pip install pyspark\n",
        "!apt-get install openjdk-8-jdk-headless -qq > /dev/null\n",
        "\n",
        "import os\n",
        "os.environ[\"JAVA_HOME\"] = \"/usr/lib/jvm/java-8-openjdk-amd64\""
      ],
      "metadata": {
        "id": "xHoq7VBlJoS3",
        "colab": {
          "base_uri": "https://localhost:8080/"
        },
        "outputId": "e83f37e8-c76e-4f64-d183-4e18a2ccd092"
      },
      "execution_count": 1,
      "outputs": [
        {
          "output_type": "stream",
          "name": "stdout",
          "text": [
            "Collecting pyspark\n",
            "  Downloading pyspark-3.5.1.tar.gz (317.0 MB)\n",
            "\u001b[2K     \u001b[90m━━━━━━━━━━━━━━━━━━━━━━━━━━━━━━━━━━━━━━━━\u001b[0m \u001b[32m317.0/317.0 MB\u001b[0m \u001b[31m2.4 MB/s\u001b[0m eta \u001b[36m0:00:00\u001b[0m\n",
            "\u001b[?25h  Preparing metadata (setup.py) ... \u001b[?25l\u001b[?25hdone\n",
            "Requirement already satisfied: py4j==0.10.9.7 in /usr/local/lib/python3.10/dist-packages (from pyspark) (0.10.9.7)\n",
            "Building wheels for collected packages: pyspark\n",
            "  Building wheel for pyspark (setup.py) ... \u001b[?25l\u001b[?25hdone\n",
            "  Created wheel for pyspark: filename=pyspark-3.5.1-py2.py3-none-any.whl size=317488491 sha256=b7105150aee584a030f4d916fcc55cd468c57937c37af1c96c34774821054a43\n",
            "  Stored in directory: /root/.cache/pip/wheels/80/1d/60/2c256ed38dddce2fdd93be545214a63e02fbd8d74fb0b7f3a6\n",
            "Successfully built pyspark\n",
            "Installing collected packages: pyspark\n",
            "Successfully installed pyspark-3.5.1\n"
          ]
        }
      ]
    },
    {
      "cell_type": "code",
      "source": [
        "# Libreria Core del lab.\n",
        "import pyspark\n",
        "from pyspark import SparkConf, SparkContext\n",
        "from pyspark.sql import SparkSession\n",
        "import pandas as pd\n",
        "from pyspark.sql.types import StringType, IntegerType, FloatType\n",
        "\n",
        "\n",
        "#Libreria para plotear\n",
        "!pip install --upgrade plotly\n",
        "!pip install missingno\n",
        "import matplotlib.pyplot as plt\n",
        "import plotly.express as px"
      ],
      "metadata": {
        "id": "M6MKzLmPSHzY",
        "colab": {
          "base_uri": "https://localhost:8080/"
        },
        "outputId": "03ed2324-f9d3-4167-a820-f66f779bc45d"
      },
      "execution_count": 2,
      "outputs": [
        {
          "output_type": "stream",
          "name": "stdout",
          "text": [
            "Requirement already satisfied: plotly in /usr/local/lib/python3.10/dist-packages (5.15.0)\n",
            "Collecting plotly\n",
            "  Downloading plotly-5.21.0-py3-none-any.whl (15.7 MB)\n",
            "\u001b[2K     \u001b[90m━━━━━━━━━━━━━━━━━━━━━━━━━━━━━━━━━━━━━━━━\u001b[0m \u001b[32m15.7/15.7 MB\u001b[0m \u001b[31m50.8 MB/s\u001b[0m eta \u001b[36m0:00:00\u001b[0m\n",
            "\u001b[?25hRequirement already satisfied: tenacity>=6.2.0 in /usr/local/lib/python3.10/dist-packages (from plotly) (8.2.3)\n",
            "Requirement already satisfied: packaging in /usr/local/lib/python3.10/dist-packages (from plotly) (24.0)\n",
            "Installing collected packages: plotly\n",
            "  Attempting uninstall: plotly\n",
            "    Found existing installation: plotly 5.15.0\n",
            "    Uninstalling plotly-5.15.0:\n",
            "      Successfully uninstalled plotly-5.15.0\n",
            "Successfully installed plotly-5.21.0\n",
            "Requirement already satisfied: missingno in /usr/local/lib/python3.10/dist-packages (0.5.2)\n",
            "Requirement already satisfied: numpy in /usr/local/lib/python3.10/dist-packages (from missingno) (1.25.2)\n",
            "Requirement already satisfied: matplotlib in /usr/local/lib/python3.10/dist-packages (from missingno) (3.7.1)\n",
            "Requirement already satisfied: scipy in /usr/local/lib/python3.10/dist-packages (from missingno) (1.11.4)\n",
            "Requirement already satisfied: seaborn in /usr/local/lib/python3.10/dist-packages (from missingno) (0.13.1)\n",
            "Requirement already satisfied: contourpy>=1.0.1 in /usr/local/lib/python3.10/dist-packages (from matplotlib->missingno) (1.2.1)\n",
            "Requirement already satisfied: cycler>=0.10 in /usr/local/lib/python3.10/dist-packages (from matplotlib->missingno) (0.12.1)\n",
            "Requirement already satisfied: fonttools>=4.22.0 in /usr/local/lib/python3.10/dist-packages (from matplotlib->missingno) (4.51.0)\n",
            "Requirement already satisfied: kiwisolver>=1.0.1 in /usr/local/lib/python3.10/dist-packages (from matplotlib->missingno) (1.4.5)\n",
            "Requirement already satisfied: packaging>=20.0 in /usr/local/lib/python3.10/dist-packages (from matplotlib->missingno) (24.0)\n",
            "Requirement already satisfied: pillow>=6.2.0 in /usr/local/lib/python3.10/dist-packages (from matplotlib->missingno) (9.4.0)\n",
            "Requirement already satisfied: pyparsing>=2.3.1 in /usr/local/lib/python3.10/dist-packages (from matplotlib->missingno) (3.1.2)\n",
            "Requirement already satisfied: python-dateutil>=2.7 in /usr/local/lib/python3.10/dist-packages (from matplotlib->missingno) (2.8.2)\n",
            "Requirement already satisfied: pandas>=1.2 in /usr/local/lib/python3.10/dist-packages (from seaborn->missingno) (2.0.3)\n",
            "Requirement already satisfied: pytz>=2020.1 in /usr/local/lib/python3.10/dist-packages (from pandas>=1.2->seaborn->missingno) (2023.4)\n",
            "Requirement already satisfied: tzdata>=2022.1 in /usr/local/lib/python3.10/dist-packages (from pandas>=1.2->seaborn->missingno) (2024.1)\n",
            "Requirement already satisfied: six>=1.5 in /usr/local/lib/python3.10/dist-packages (from python-dateutil>=2.7->matplotlib->missingno) (1.16.0)\n"
          ]
        }
      ]
    },
    {
      "cell_type": "markdown",
      "source": [
        "Cargue los datos usando **pyspark**"
      ],
      "metadata": {
        "id": "9vJWSlEXYBqq"
      }
    },
    {
      "cell_type": "code",
      "source": [
        "# Escriba su respuesta aquí\n",
        "\n",
        "spark = SparkSession.builder.appName('BodoqueApp').getOrCreate()\n",
        "\n",
        "# dataframe de train y test para california housing\n",
        "\n",
        "df_chtrain = spark.read.csv('/content/sample_data/california_housing_train.csv')\n",
        "df_chtest = spark.read.csv('/content/sample_data/california_housing_test.csv')\n",
        "\n",
        "# dataframe de small train y test para mnist\n",
        "\n",
        "\n",
        "df_mnsmall_train = spark.read.csv('/content/sample_data/mnist_train_small.csv')\n",
        "df_mntest = spark.read.csv('/content/sample_data/mnist_test.csv')\n"
      ],
      "metadata": {
        "id": "i9Uf-BTZXqXe"
      },
      "execution_count": 6,
      "outputs": []
    },
    {
      "cell_type": "markdown",
      "source": [
        "### 2. Limpieza con pyspark [8 puntos]\n",
        "(1 punto por pregunta)"
      ],
      "metadata": {
        "id": "z6l6GNynYnh4"
      }
    },
    {
      "cell_type": "markdown",
      "source": [
        "<center>\n",
        "<img src=\"https://miro.medium.com/v2/resize:fit:600/1*A6PpTrehGLxCJWNcUsDTNg.jpeg\" width=350 />\n",
        "\n"
      ],
      "metadata": {
        "id": "8DVdjYyOGRom"
      }
    },
    {
      "cell_type": "markdown",
      "source": [
        "Para comenzar con el análisis exploratorio usted decide empezar limpiando la base de datos con **pyspark** dado el alto volumen de datos que genera diariamente Bodoque E-Shop.\n",
        "\n",
        "**Nota: NO SE PERMITE EL USO DE PANDAS EN ESTA SECCIÓN**\n",
        "\n",
        "\n",
        "\n",
        "1.   Utilice `.printSchema()` para revisar la estructura de los datos\n",
        "2.   Muestre las primeras 10 filas del dataset. Hint: utilice `.show()`\n",
        "3.   Imprima un muestreo aleatorio con el 5% de los datos diponibles. . Hint: utilice `.sample()`\n",
        "4. Revise los tipos de datos de cada columna con `.dtypes()` y responda la siguiente pregunta: ¿Cuál/es columna/s tiene/n un tipo de dato que no es el adecuado y por qué?\n",
        "5. Complete el código entregado para cambiar el tipo de datos para la/s columna/s problemáticas.\n",
        "6. Cuente la cantidad de datos nulos por variable. Recuerde que Spark no posee un método que le permita calcular directamente los nulos.\n",
        "7. Elimine datos nulos.\n",
        "8. Elimine datos duplicados.\n"
      ],
      "metadata": {
        "id": "sPGV40BjZekP"
      }
    },
    {
      "cell_type": "code",
      "source": [
        "# Escriba su respuesta aquí\n",
        "df_chtrain.printSchema() #ambos set deberian tener los mismos parametros"
      ],
      "metadata": {
        "id": "nw95Jvr-DtwS",
        "colab": {
          "base_uri": "https://localhost:8080/"
        },
        "outputId": "f56ae385-9d33-4b5a-dd52-bb5500307ecc"
      },
      "execution_count": 7,
      "outputs": [
        {
          "output_type": "stream",
          "name": "stdout",
          "text": [
            "root\n",
            " |-- _c0: string (nullable = true)\n",
            " |-- _c1: string (nullable = true)\n",
            " |-- _c2: string (nullable = true)\n",
            " |-- _c3: string (nullable = true)\n",
            " |-- _c4: string (nullable = true)\n",
            " |-- _c5: string (nullable = true)\n",
            " |-- _c6: string (nullable = true)\n",
            " |-- _c7: string (nullable = true)\n",
            " |-- _c8: string (nullable = true)\n",
            "\n"
          ]
        }
      ]
    },
    {
      "cell_type": "code",
      "source": [
        "df_mntest.printSchema() #ambos set deberian tener los mismos parametros"
      ],
      "metadata": {
        "colab": {
          "base_uri": "https://localhost:8080/"
        },
        "id": "gQtr7eIAK_7m",
        "outputId": "429ce14a-3313-443e-e086-8c1f1c95657f"
      },
      "execution_count": 9,
      "outputs": [
        {
          "output_type": "stream",
          "name": "stdout",
          "text": [
            "root\n",
            " |-- _c0: string (nullable = true)\n",
            " |-- _c1: string (nullable = true)\n",
            " |-- _c2: string (nullable = true)\n",
            " |-- _c3: string (nullable = true)\n",
            " |-- _c4: string (nullable = true)\n",
            " |-- _c5: string (nullable = true)\n",
            " |-- _c6: string (nullable = true)\n",
            " |-- _c7: string (nullable = true)\n",
            " |-- _c8: string (nullable = true)\n",
            " |-- _c9: string (nullable = true)\n",
            " |-- _c10: string (nullable = true)\n",
            " |-- _c11: string (nullable = true)\n",
            " |-- _c12: string (nullable = true)\n",
            " |-- _c13: string (nullable = true)\n",
            " |-- _c14: string (nullable = true)\n",
            " |-- _c15: string (nullable = true)\n",
            " |-- _c16: string (nullable = true)\n",
            " |-- _c17: string (nullable = true)\n",
            " |-- _c18: string (nullable = true)\n",
            " |-- _c19: string (nullable = true)\n",
            " |-- _c20: string (nullable = true)\n",
            " |-- _c21: string (nullable = true)\n",
            " |-- _c22: string (nullable = true)\n",
            " |-- _c23: string (nullable = true)\n",
            " |-- _c24: string (nullable = true)\n",
            " |-- _c25: string (nullable = true)\n",
            " |-- _c26: string (nullable = true)\n",
            " |-- _c27: string (nullable = true)\n",
            " |-- _c28: string (nullable = true)\n",
            " |-- _c29: string (nullable = true)\n",
            " |-- _c30: string (nullable = true)\n",
            " |-- _c31: string (nullable = true)\n",
            " |-- _c32: string (nullable = true)\n",
            " |-- _c33: string (nullable = true)\n",
            " |-- _c34: string (nullable = true)\n",
            " |-- _c35: string (nullable = true)\n",
            " |-- _c36: string (nullable = true)\n",
            " |-- _c37: string (nullable = true)\n",
            " |-- _c38: string (nullable = true)\n",
            " |-- _c39: string (nullable = true)\n",
            " |-- _c40: string (nullable = true)\n",
            " |-- _c41: string (nullable = true)\n",
            " |-- _c42: string (nullable = true)\n",
            " |-- _c43: string (nullable = true)\n",
            " |-- _c44: string (nullable = true)\n",
            " |-- _c45: string (nullable = true)\n",
            " |-- _c46: string (nullable = true)\n",
            " |-- _c47: string (nullable = true)\n",
            " |-- _c48: string (nullable = true)\n",
            " |-- _c49: string (nullable = true)\n",
            " |-- _c50: string (nullable = true)\n",
            " |-- _c51: string (nullable = true)\n",
            " |-- _c52: string (nullable = true)\n",
            " |-- _c53: string (nullable = true)\n",
            " |-- _c54: string (nullable = true)\n",
            " |-- _c55: string (nullable = true)\n",
            " |-- _c56: string (nullable = true)\n",
            " |-- _c57: string (nullable = true)\n",
            " |-- _c58: string (nullable = true)\n",
            " |-- _c59: string (nullable = true)\n",
            " |-- _c60: string (nullable = true)\n",
            " |-- _c61: string (nullable = true)\n",
            " |-- _c62: string (nullable = true)\n",
            " |-- _c63: string (nullable = true)\n",
            " |-- _c64: string (nullable = true)\n",
            " |-- _c65: string (nullable = true)\n",
            " |-- _c66: string (nullable = true)\n",
            " |-- _c67: string (nullable = true)\n",
            " |-- _c68: string (nullable = true)\n",
            " |-- _c69: string (nullable = true)\n",
            " |-- _c70: string (nullable = true)\n",
            " |-- _c71: string (nullable = true)\n",
            " |-- _c72: string (nullable = true)\n",
            " |-- _c73: string (nullable = true)\n",
            " |-- _c74: string (nullable = true)\n",
            " |-- _c75: string (nullable = true)\n",
            " |-- _c76: string (nullable = true)\n",
            " |-- _c77: string (nullable = true)\n",
            " |-- _c78: string (nullable = true)\n",
            " |-- _c79: string (nullable = true)\n",
            " |-- _c80: string (nullable = true)\n",
            " |-- _c81: string (nullable = true)\n",
            " |-- _c82: string (nullable = true)\n",
            " |-- _c83: string (nullable = true)\n",
            " |-- _c84: string (nullable = true)\n",
            " |-- _c85: string (nullable = true)\n",
            " |-- _c86: string (nullable = true)\n",
            " |-- _c87: string (nullable = true)\n",
            " |-- _c88: string (nullable = true)\n",
            " |-- _c89: string (nullable = true)\n",
            " |-- _c90: string (nullable = true)\n",
            " |-- _c91: string (nullable = true)\n",
            " |-- _c92: string (nullable = true)\n",
            " |-- _c93: string (nullable = true)\n",
            " |-- _c94: string (nullable = true)\n",
            " |-- _c95: string (nullable = true)\n",
            " |-- _c96: string (nullable = true)\n",
            " |-- _c97: string (nullable = true)\n",
            " |-- _c98: string (nullable = true)\n",
            " |-- _c99: string (nullable = true)\n",
            " |-- _c100: string (nullable = true)\n",
            " |-- _c101: string (nullable = true)\n",
            " |-- _c102: string (nullable = true)\n",
            " |-- _c103: string (nullable = true)\n",
            " |-- _c104: string (nullable = true)\n",
            " |-- _c105: string (nullable = true)\n",
            " |-- _c106: string (nullable = true)\n",
            " |-- _c107: string (nullable = true)\n",
            " |-- _c108: string (nullable = true)\n",
            " |-- _c109: string (nullable = true)\n",
            " |-- _c110: string (nullable = true)\n",
            " |-- _c111: string (nullable = true)\n",
            " |-- _c112: string (nullable = true)\n",
            " |-- _c113: string (nullable = true)\n",
            " |-- _c114: string (nullable = true)\n",
            " |-- _c115: string (nullable = true)\n",
            " |-- _c116: string (nullable = true)\n",
            " |-- _c117: string (nullable = true)\n",
            " |-- _c118: string (nullable = true)\n",
            " |-- _c119: string (nullable = true)\n",
            " |-- _c120: string (nullable = true)\n",
            " |-- _c121: string (nullable = true)\n",
            " |-- _c122: string (nullable = true)\n",
            " |-- _c123: string (nullable = true)\n",
            " |-- _c124: string (nullable = true)\n",
            " |-- _c125: string (nullable = true)\n",
            " |-- _c126: string (nullable = true)\n",
            " |-- _c127: string (nullable = true)\n",
            " |-- _c128: string (nullable = true)\n",
            " |-- _c129: string (nullable = true)\n",
            " |-- _c130: string (nullable = true)\n",
            " |-- _c131: string (nullable = true)\n",
            " |-- _c132: string (nullable = true)\n",
            " |-- _c133: string (nullable = true)\n",
            " |-- _c134: string (nullable = true)\n",
            " |-- _c135: string (nullable = true)\n",
            " |-- _c136: string (nullable = true)\n",
            " |-- _c137: string (nullable = true)\n",
            " |-- _c138: string (nullable = true)\n",
            " |-- _c139: string (nullable = true)\n",
            " |-- _c140: string (nullable = true)\n",
            " |-- _c141: string (nullable = true)\n",
            " |-- _c142: string (nullable = true)\n",
            " |-- _c143: string (nullable = true)\n",
            " |-- _c144: string (nullable = true)\n",
            " |-- _c145: string (nullable = true)\n",
            " |-- _c146: string (nullable = true)\n",
            " |-- _c147: string (nullable = true)\n",
            " |-- _c148: string (nullable = true)\n",
            " |-- _c149: string (nullable = true)\n",
            " |-- _c150: string (nullable = true)\n",
            " |-- _c151: string (nullable = true)\n",
            " |-- _c152: string (nullable = true)\n",
            " |-- _c153: string (nullable = true)\n",
            " |-- _c154: string (nullable = true)\n",
            " |-- _c155: string (nullable = true)\n",
            " |-- _c156: string (nullable = true)\n",
            " |-- _c157: string (nullable = true)\n",
            " |-- _c158: string (nullable = true)\n",
            " |-- _c159: string (nullable = true)\n",
            " |-- _c160: string (nullable = true)\n",
            " |-- _c161: string (nullable = true)\n",
            " |-- _c162: string (nullable = true)\n",
            " |-- _c163: string (nullable = true)\n",
            " |-- _c164: string (nullable = true)\n",
            " |-- _c165: string (nullable = true)\n",
            " |-- _c166: string (nullable = true)\n",
            " |-- _c167: string (nullable = true)\n",
            " |-- _c168: string (nullable = true)\n",
            " |-- _c169: string (nullable = true)\n",
            " |-- _c170: string (nullable = true)\n",
            " |-- _c171: string (nullable = true)\n",
            " |-- _c172: string (nullable = true)\n",
            " |-- _c173: string (nullable = true)\n",
            " |-- _c174: string (nullable = true)\n",
            " |-- _c175: string (nullable = true)\n",
            " |-- _c176: string (nullable = true)\n",
            " |-- _c177: string (nullable = true)\n",
            " |-- _c178: string (nullable = true)\n",
            " |-- _c179: string (nullable = true)\n",
            " |-- _c180: string (nullable = true)\n",
            " |-- _c181: string (nullable = true)\n",
            " |-- _c182: string (nullable = true)\n",
            " |-- _c183: string (nullable = true)\n",
            " |-- _c184: string (nullable = true)\n",
            " |-- _c185: string (nullable = true)\n",
            " |-- _c186: string (nullable = true)\n",
            " |-- _c187: string (nullable = true)\n",
            " |-- _c188: string (nullable = true)\n",
            " |-- _c189: string (nullable = true)\n",
            " |-- _c190: string (nullable = true)\n",
            " |-- _c191: string (nullable = true)\n",
            " |-- _c192: string (nullable = true)\n",
            " |-- _c193: string (nullable = true)\n",
            " |-- _c194: string (nullable = true)\n",
            " |-- _c195: string (nullable = true)\n",
            " |-- _c196: string (nullable = true)\n",
            " |-- _c197: string (nullable = true)\n",
            " |-- _c198: string (nullable = true)\n",
            " |-- _c199: string (nullable = true)\n",
            " |-- _c200: string (nullable = true)\n",
            " |-- _c201: string (nullable = true)\n",
            " |-- _c202: string (nullable = true)\n",
            " |-- _c203: string (nullable = true)\n",
            " |-- _c204: string (nullable = true)\n",
            " |-- _c205: string (nullable = true)\n",
            " |-- _c206: string (nullable = true)\n",
            " |-- _c207: string (nullable = true)\n",
            " |-- _c208: string (nullable = true)\n",
            " |-- _c209: string (nullable = true)\n",
            " |-- _c210: string (nullable = true)\n",
            " |-- _c211: string (nullable = true)\n",
            " |-- _c212: string (nullable = true)\n",
            " |-- _c213: string (nullable = true)\n",
            " |-- _c214: string (nullable = true)\n",
            " |-- _c215: string (nullable = true)\n",
            " |-- _c216: string (nullable = true)\n",
            " |-- _c217: string (nullable = true)\n",
            " |-- _c218: string (nullable = true)\n",
            " |-- _c219: string (nullable = true)\n",
            " |-- _c220: string (nullable = true)\n",
            " |-- _c221: string (nullable = true)\n",
            " |-- _c222: string (nullable = true)\n",
            " |-- _c223: string (nullable = true)\n",
            " |-- _c224: string (nullable = true)\n",
            " |-- _c225: string (nullable = true)\n",
            " |-- _c226: string (nullable = true)\n",
            " |-- _c227: string (nullable = true)\n",
            " |-- _c228: string (nullable = true)\n",
            " |-- _c229: string (nullable = true)\n",
            " |-- _c230: string (nullable = true)\n",
            " |-- _c231: string (nullable = true)\n",
            " |-- _c232: string (nullable = true)\n",
            " |-- _c233: string (nullable = true)\n",
            " |-- _c234: string (nullable = true)\n",
            " |-- _c235: string (nullable = true)\n",
            " |-- _c236: string (nullable = true)\n",
            " |-- _c237: string (nullable = true)\n",
            " |-- _c238: string (nullable = true)\n",
            " |-- _c239: string (nullable = true)\n",
            " |-- _c240: string (nullable = true)\n",
            " |-- _c241: string (nullable = true)\n",
            " |-- _c242: string (nullable = true)\n",
            " |-- _c243: string (nullable = true)\n",
            " |-- _c244: string (nullable = true)\n",
            " |-- _c245: string (nullable = true)\n",
            " |-- _c246: string (nullable = true)\n",
            " |-- _c247: string (nullable = true)\n",
            " |-- _c248: string (nullable = true)\n",
            " |-- _c249: string (nullable = true)\n",
            " |-- _c250: string (nullable = true)\n",
            " |-- _c251: string (nullable = true)\n",
            " |-- _c252: string (nullable = true)\n",
            " |-- _c253: string (nullable = true)\n",
            " |-- _c254: string (nullable = true)\n",
            " |-- _c255: string (nullable = true)\n",
            " |-- _c256: string (nullable = true)\n",
            " |-- _c257: string (nullable = true)\n",
            " |-- _c258: string (nullable = true)\n",
            " |-- _c259: string (nullable = true)\n",
            " |-- _c260: string (nullable = true)\n",
            " |-- _c261: string (nullable = true)\n",
            " |-- _c262: string (nullable = true)\n",
            " |-- _c263: string (nullable = true)\n",
            " |-- _c264: string (nullable = true)\n",
            " |-- _c265: string (nullable = true)\n",
            " |-- _c266: string (nullable = true)\n",
            " |-- _c267: string (nullable = true)\n",
            " |-- _c268: string (nullable = true)\n",
            " |-- _c269: string (nullable = true)\n",
            " |-- _c270: string (nullable = true)\n",
            " |-- _c271: string (nullable = true)\n",
            " |-- _c272: string (nullable = true)\n",
            " |-- _c273: string (nullable = true)\n",
            " |-- _c274: string (nullable = true)\n",
            " |-- _c275: string (nullable = true)\n",
            " |-- _c276: string (nullable = true)\n",
            " |-- _c277: string (nullable = true)\n",
            " |-- _c278: string (nullable = true)\n",
            " |-- _c279: string (nullable = true)\n",
            " |-- _c280: string (nullable = true)\n",
            " |-- _c281: string (nullable = true)\n",
            " |-- _c282: string (nullable = true)\n",
            " |-- _c283: string (nullable = true)\n",
            " |-- _c284: string (nullable = true)\n",
            " |-- _c285: string (nullable = true)\n",
            " |-- _c286: string (nullable = true)\n",
            " |-- _c287: string (nullable = true)\n",
            " |-- _c288: string (nullable = true)\n",
            " |-- _c289: string (nullable = true)\n",
            " |-- _c290: string (nullable = true)\n",
            " |-- _c291: string (nullable = true)\n",
            " |-- _c292: string (nullable = true)\n",
            " |-- _c293: string (nullable = true)\n",
            " |-- _c294: string (nullable = true)\n",
            " |-- _c295: string (nullable = true)\n",
            " |-- _c296: string (nullable = true)\n",
            " |-- _c297: string (nullable = true)\n",
            " |-- _c298: string (nullable = true)\n",
            " |-- _c299: string (nullable = true)\n",
            " |-- _c300: string (nullable = true)\n",
            " |-- _c301: string (nullable = true)\n",
            " |-- _c302: string (nullable = true)\n",
            " |-- _c303: string (nullable = true)\n",
            " |-- _c304: string (nullable = true)\n",
            " |-- _c305: string (nullable = true)\n",
            " |-- _c306: string (nullable = true)\n",
            " |-- _c307: string (nullable = true)\n",
            " |-- _c308: string (nullable = true)\n",
            " |-- _c309: string (nullable = true)\n",
            " |-- _c310: string (nullable = true)\n",
            " |-- _c311: string (nullable = true)\n",
            " |-- _c312: string (nullable = true)\n",
            " |-- _c313: string (nullable = true)\n",
            " |-- _c314: string (nullable = true)\n",
            " |-- _c315: string (nullable = true)\n",
            " |-- _c316: string (nullable = true)\n",
            " |-- _c317: string (nullable = true)\n",
            " |-- _c318: string (nullable = true)\n",
            " |-- _c319: string (nullable = true)\n",
            " |-- _c320: string (nullable = true)\n",
            " |-- _c321: string (nullable = true)\n",
            " |-- _c322: string (nullable = true)\n",
            " |-- _c323: string (nullable = true)\n",
            " |-- _c324: string (nullable = true)\n",
            " |-- _c325: string (nullable = true)\n",
            " |-- _c326: string (nullable = true)\n",
            " |-- _c327: string (nullable = true)\n",
            " |-- _c328: string (nullable = true)\n",
            " |-- _c329: string (nullable = true)\n",
            " |-- _c330: string (nullable = true)\n",
            " |-- _c331: string (nullable = true)\n",
            " |-- _c332: string (nullable = true)\n",
            " |-- _c333: string (nullable = true)\n",
            " |-- _c334: string (nullable = true)\n",
            " |-- _c335: string (nullable = true)\n",
            " |-- _c336: string (nullable = true)\n",
            " |-- _c337: string (nullable = true)\n",
            " |-- _c338: string (nullable = true)\n",
            " |-- _c339: string (nullable = true)\n",
            " |-- _c340: string (nullable = true)\n",
            " |-- _c341: string (nullable = true)\n",
            " |-- _c342: string (nullable = true)\n",
            " |-- _c343: string (nullable = true)\n",
            " |-- _c344: string (nullable = true)\n",
            " |-- _c345: string (nullable = true)\n",
            " |-- _c346: string (nullable = true)\n",
            " |-- _c347: string (nullable = true)\n",
            " |-- _c348: string (nullable = true)\n",
            " |-- _c349: string (nullable = true)\n",
            " |-- _c350: string (nullable = true)\n",
            " |-- _c351: string (nullable = true)\n",
            " |-- _c352: string (nullable = true)\n",
            " |-- _c353: string (nullable = true)\n",
            " |-- _c354: string (nullable = true)\n",
            " |-- _c355: string (nullable = true)\n",
            " |-- _c356: string (nullable = true)\n",
            " |-- _c357: string (nullable = true)\n",
            " |-- _c358: string (nullable = true)\n",
            " |-- _c359: string (nullable = true)\n",
            " |-- _c360: string (nullable = true)\n",
            " |-- _c361: string (nullable = true)\n",
            " |-- _c362: string (nullable = true)\n",
            " |-- _c363: string (nullable = true)\n",
            " |-- _c364: string (nullable = true)\n",
            " |-- _c365: string (nullable = true)\n",
            " |-- _c366: string (nullable = true)\n",
            " |-- _c367: string (nullable = true)\n",
            " |-- _c368: string (nullable = true)\n",
            " |-- _c369: string (nullable = true)\n",
            " |-- _c370: string (nullable = true)\n",
            " |-- _c371: string (nullable = true)\n",
            " |-- _c372: string (nullable = true)\n",
            " |-- _c373: string (nullable = true)\n",
            " |-- _c374: string (nullable = true)\n",
            " |-- _c375: string (nullable = true)\n",
            " |-- _c376: string (nullable = true)\n",
            " |-- _c377: string (nullable = true)\n",
            " |-- _c378: string (nullable = true)\n",
            " |-- _c379: string (nullable = true)\n",
            " |-- _c380: string (nullable = true)\n",
            " |-- _c381: string (nullable = true)\n",
            " |-- _c382: string (nullable = true)\n",
            " |-- _c383: string (nullable = true)\n",
            " |-- _c384: string (nullable = true)\n",
            " |-- _c385: string (nullable = true)\n",
            " |-- _c386: string (nullable = true)\n",
            " |-- _c387: string (nullable = true)\n",
            " |-- _c388: string (nullable = true)\n",
            " |-- _c389: string (nullable = true)\n",
            " |-- _c390: string (nullable = true)\n",
            " |-- _c391: string (nullable = true)\n",
            " |-- _c392: string (nullable = true)\n",
            " |-- _c393: string (nullable = true)\n",
            " |-- _c394: string (nullable = true)\n",
            " |-- _c395: string (nullable = true)\n",
            " |-- _c396: string (nullable = true)\n",
            " |-- _c397: string (nullable = true)\n",
            " |-- _c398: string (nullable = true)\n",
            " |-- _c399: string (nullable = true)\n",
            " |-- _c400: string (nullable = true)\n",
            " |-- _c401: string (nullable = true)\n",
            " |-- _c402: string (nullable = true)\n",
            " |-- _c403: string (nullable = true)\n",
            " |-- _c404: string (nullable = true)\n",
            " |-- _c405: string (nullable = true)\n",
            " |-- _c406: string (nullable = true)\n",
            " |-- _c407: string (nullable = true)\n",
            " |-- _c408: string (nullable = true)\n",
            " |-- _c409: string (nullable = true)\n",
            " |-- _c410: string (nullable = true)\n",
            " |-- _c411: string (nullable = true)\n",
            " |-- _c412: string (nullable = true)\n",
            " |-- _c413: string (nullable = true)\n",
            " |-- _c414: string (nullable = true)\n",
            " |-- _c415: string (nullable = true)\n",
            " |-- _c416: string (nullable = true)\n",
            " |-- _c417: string (nullable = true)\n",
            " |-- _c418: string (nullable = true)\n",
            " |-- _c419: string (nullable = true)\n",
            " |-- _c420: string (nullable = true)\n",
            " |-- _c421: string (nullable = true)\n",
            " |-- _c422: string (nullable = true)\n",
            " |-- _c423: string (nullable = true)\n",
            " |-- _c424: string (nullable = true)\n",
            " |-- _c425: string (nullable = true)\n",
            " |-- _c426: string (nullable = true)\n",
            " |-- _c427: string (nullable = true)\n",
            " |-- _c428: string (nullable = true)\n",
            " |-- _c429: string (nullable = true)\n",
            " |-- _c430: string (nullable = true)\n",
            " |-- _c431: string (nullable = true)\n",
            " |-- _c432: string (nullable = true)\n",
            " |-- _c433: string (nullable = true)\n",
            " |-- _c434: string (nullable = true)\n",
            " |-- _c435: string (nullable = true)\n",
            " |-- _c436: string (nullable = true)\n",
            " |-- _c437: string (nullable = true)\n",
            " |-- _c438: string (nullable = true)\n",
            " |-- _c439: string (nullable = true)\n",
            " |-- _c440: string (nullable = true)\n",
            " |-- _c441: string (nullable = true)\n",
            " |-- _c442: string (nullable = true)\n",
            " |-- _c443: string (nullable = true)\n",
            " |-- _c444: string (nullable = true)\n",
            " |-- _c445: string (nullable = true)\n",
            " |-- _c446: string (nullable = true)\n",
            " |-- _c447: string (nullable = true)\n",
            " |-- _c448: string (nullable = true)\n",
            " |-- _c449: string (nullable = true)\n",
            " |-- _c450: string (nullable = true)\n",
            " |-- _c451: string (nullable = true)\n",
            " |-- _c452: string (nullable = true)\n",
            " |-- _c453: string (nullable = true)\n",
            " |-- _c454: string (nullable = true)\n",
            " |-- _c455: string (nullable = true)\n",
            " |-- _c456: string (nullable = true)\n",
            " |-- _c457: string (nullable = true)\n",
            " |-- _c458: string (nullable = true)\n",
            " |-- _c459: string (nullable = true)\n",
            " |-- _c460: string (nullable = true)\n",
            " |-- _c461: string (nullable = true)\n",
            " |-- _c462: string (nullable = true)\n",
            " |-- _c463: string (nullable = true)\n",
            " |-- _c464: string (nullable = true)\n",
            " |-- _c465: string (nullable = true)\n",
            " |-- _c466: string (nullable = true)\n",
            " |-- _c467: string (nullable = true)\n",
            " |-- _c468: string (nullable = true)\n",
            " |-- _c469: string (nullable = true)\n",
            " |-- _c470: string (nullable = true)\n",
            " |-- _c471: string (nullable = true)\n",
            " |-- _c472: string (nullable = true)\n",
            " |-- _c473: string (nullable = true)\n",
            " |-- _c474: string (nullable = true)\n",
            " |-- _c475: string (nullable = true)\n",
            " |-- _c476: string (nullable = true)\n",
            " |-- _c477: string (nullable = true)\n",
            " |-- _c478: string (nullable = true)\n",
            " |-- _c479: string (nullable = true)\n",
            " |-- _c480: string (nullable = true)\n",
            " |-- _c481: string (nullable = true)\n",
            " |-- _c482: string (nullable = true)\n",
            " |-- _c483: string (nullable = true)\n",
            " |-- _c484: string (nullable = true)\n",
            " |-- _c485: string (nullable = true)\n",
            " |-- _c486: string (nullable = true)\n",
            " |-- _c487: string (nullable = true)\n",
            " |-- _c488: string (nullable = true)\n",
            " |-- _c489: string (nullable = true)\n",
            " |-- _c490: string (nullable = true)\n",
            " |-- _c491: string (nullable = true)\n",
            " |-- _c492: string (nullable = true)\n",
            " |-- _c493: string (nullable = true)\n",
            " |-- _c494: string (nullable = true)\n",
            " |-- _c495: string (nullable = true)\n",
            " |-- _c496: string (nullable = true)\n",
            " |-- _c497: string (nullable = true)\n",
            " |-- _c498: string (nullable = true)\n",
            " |-- _c499: string (nullable = true)\n",
            " |-- _c500: string (nullable = true)\n",
            " |-- _c501: string (nullable = true)\n",
            " |-- _c502: string (nullable = true)\n",
            " |-- _c503: string (nullable = true)\n",
            " |-- _c504: string (nullable = true)\n",
            " |-- _c505: string (nullable = true)\n",
            " |-- _c506: string (nullable = true)\n",
            " |-- _c507: string (nullable = true)\n",
            " |-- _c508: string (nullable = true)\n",
            " |-- _c509: string (nullable = true)\n",
            " |-- _c510: string (nullable = true)\n",
            " |-- _c511: string (nullable = true)\n",
            " |-- _c512: string (nullable = true)\n",
            " |-- _c513: string (nullable = true)\n",
            " |-- _c514: string (nullable = true)\n",
            " |-- _c515: string (nullable = true)\n",
            " |-- _c516: string (nullable = true)\n",
            " |-- _c517: string (nullable = true)\n",
            " |-- _c518: string (nullable = true)\n",
            " |-- _c519: string (nullable = true)\n",
            " |-- _c520: string (nullable = true)\n",
            " |-- _c521: string (nullable = true)\n",
            " |-- _c522: string (nullable = true)\n",
            " |-- _c523: string (nullable = true)\n",
            " |-- _c524: string (nullable = true)\n",
            " |-- _c525: string (nullable = true)\n",
            " |-- _c526: string (nullable = true)\n",
            " |-- _c527: string (nullable = true)\n",
            " |-- _c528: string (nullable = true)\n",
            " |-- _c529: string (nullable = true)\n",
            " |-- _c530: string (nullable = true)\n",
            " |-- _c531: string (nullable = true)\n",
            " |-- _c532: string (nullable = true)\n",
            " |-- _c533: string (nullable = true)\n",
            " |-- _c534: string (nullable = true)\n",
            " |-- _c535: string (nullable = true)\n",
            " |-- _c536: string (nullable = true)\n",
            " |-- _c537: string (nullable = true)\n",
            " |-- _c538: string (nullable = true)\n",
            " |-- _c539: string (nullable = true)\n",
            " |-- _c540: string (nullable = true)\n",
            " |-- _c541: string (nullable = true)\n",
            " |-- _c542: string (nullable = true)\n",
            " |-- _c543: string (nullable = true)\n",
            " |-- _c544: string (nullable = true)\n",
            " |-- _c545: string (nullable = true)\n",
            " |-- _c546: string (nullable = true)\n",
            " |-- _c547: string (nullable = true)\n",
            " |-- _c548: string (nullable = true)\n",
            " |-- _c549: string (nullable = true)\n",
            " |-- _c550: string (nullable = true)\n",
            " |-- _c551: string (nullable = true)\n",
            " |-- _c552: string (nullable = true)\n",
            " |-- _c553: string (nullable = true)\n",
            " |-- _c554: string (nullable = true)\n",
            " |-- _c555: string (nullable = true)\n",
            " |-- _c556: string (nullable = true)\n",
            " |-- _c557: string (nullable = true)\n",
            " |-- _c558: string (nullable = true)\n",
            " |-- _c559: string (nullable = true)\n",
            " |-- _c560: string (nullable = true)\n",
            " |-- _c561: string (nullable = true)\n",
            " |-- _c562: string (nullable = true)\n",
            " |-- _c563: string (nullable = true)\n",
            " |-- _c564: string (nullable = true)\n",
            " |-- _c565: string (nullable = true)\n",
            " |-- _c566: string (nullable = true)\n",
            " |-- _c567: string (nullable = true)\n",
            " |-- _c568: string (nullable = true)\n",
            " |-- _c569: string (nullable = true)\n",
            " |-- _c570: string (nullable = true)\n",
            " |-- _c571: string (nullable = true)\n",
            " |-- _c572: string (nullable = true)\n",
            " |-- _c573: string (nullable = true)\n",
            " |-- _c574: string (nullable = true)\n",
            " |-- _c575: string (nullable = true)\n",
            " |-- _c576: string (nullable = true)\n",
            " |-- _c577: string (nullable = true)\n",
            " |-- _c578: string (nullable = true)\n",
            " |-- _c579: string (nullable = true)\n",
            " |-- _c580: string (nullable = true)\n",
            " |-- _c581: string (nullable = true)\n",
            " |-- _c582: string (nullable = true)\n",
            " |-- _c583: string (nullable = true)\n",
            " |-- _c584: string (nullable = true)\n",
            " |-- _c585: string (nullable = true)\n",
            " |-- _c586: string (nullable = true)\n",
            " |-- _c587: string (nullable = true)\n",
            " |-- _c588: string (nullable = true)\n",
            " |-- _c589: string (nullable = true)\n",
            " |-- _c590: string (nullable = true)\n",
            " |-- _c591: string (nullable = true)\n",
            " |-- _c592: string (nullable = true)\n",
            " |-- _c593: string (nullable = true)\n",
            " |-- _c594: string (nullable = true)\n",
            " |-- _c595: string (nullable = true)\n",
            " |-- _c596: string (nullable = true)\n",
            " |-- _c597: string (nullable = true)\n",
            " |-- _c598: string (nullable = true)\n",
            " |-- _c599: string (nullable = true)\n",
            " |-- _c600: string (nullable = true)\n",
            " |-- _c601: string (nullable = true)\n",
            " |-- _c602: string (nullable = true)\n",
            " |-- _c603: string (nullable = true)\n",
            " |-- _c604: string (nullable = true)\n",
            " |-- _c605: string (nullable = true)\n",
            " |-- _c606: string (nullable = true)\n",
            " |-- _c607: string (nullable = true)\n",
            " |-- _c608: string (nullable = true)\n",
            " |-- _c609: string (nullable = true)\n",
            " |-- _c610: string (nullable = true)\n",
            " |-- _c611: string (nullable = true)\n",
            " |-- _c612: string (nullable = true)\n",
            " |-- _c613: string (nullable = true)\n",
            " |-- _c614: string (nullable = true)\n",
            " |-- _c615: string (nullable = true)\n",
            " |-- _c616: string (nullable = true)\n",
            " |-- _c617: string (nullable = true)\n",
            " |-- _c618: string (nullable = true)\n",
            " |-- _c619: string (nullable = true)\n",
            " |-- _c620: string (nullable = true)\n",
            " |-- _c621: string (nullable = true)\n",
            " |-- _c622: string (nullable = true)\n",
            " |-- _c623: string (nullable = true)\n",
            " |-- _c624: string (nullable = true)\n",
            " |-- _c625: string (nullable = true)\n",
            " |-- _c626: string (nullable = true)\n",
            " |-- _c627: string (nullable = true)\n",
            " |-- _c628: string (nullable = true)\n",
            " |-- _c629: string (nullable = true)\n",
            " |-- _c630: string (nullable = true)\n",
            " |-- _c631: string (nullable = true)\n",
            " |-- _c632: string (nullable = true)\n",
            " |-- _c633: string (nullable = true)\n",
            " |-- _c634: string (nullable = true)\n",
            " |-- _c635: string (nullable = true)\n",
            " |-- _c636: string (nullable = true)\n",
            " |-- _c637: string (nullable = true)\n",
            " |-- _c638: string (nullable = true)\n",
            " |-- _c639: string (nullable = true)\n",
            " |-- _c640: string (nullable = true)\n",
            " |-- _c641: string (nullable = true)\n",
            " |-- _c642: string (nullable = true)\n",
            " |-- _c643: string (nullable = true)\n",
            " |-- _c644: string (nullable = true)\n",
            " |-- _c645: string (nullable = true)\n",
            " |-- _c646: string (nullable = true)\n",
            " |-- _c647: string (nullable = true)\n",
            " |-- _c648: string (nullable = true)\n",
            " |-- _c649: string (nullable = true)\n",
            " |-- _c650: string (nullable = true)\n",
            " |-- _c651: string (nullable = true)\n",
            " |-- _c652: string (nullable = true)\n",
            " |-- _c653: string (nullable = true)\n",
            " |-- _c654: string (nullable = true)\n",
            " |-- _c655: string (nullable = true)\n",
            " |-- _c656: string (nullable = true)\n",
            " |-- _c657: string (nullable = true)\n",
            " |-- _c658: string (nullable = true)\n",
            " |-- _c659: string (nullable = true)\n",
            " |-- _c660: string (nullable = true)\n",
            " |-- _c661: string (nullable = true)\n",
            " |-- _c662: string (nullable = true)\n",
            " |-- _c663: string (nullable = true)\n",
            " |-- _c664: string (nullable = true)\n",
            " |-- _c665: string (nullable = true)\n",
            " |-- _c666: string (nullable = true)\n",
            " |-- _c667: string (nullable = true)\n",
            " |-- _c668: string (nullable = true)\n",
            " |-- _c669: string (nullable = true)\n",
            " |-- _c670: string (nullable = true)\n",
            " |-- _c671: string (nullable = true)\n",
            " |-- _c672: string (nullable = true)\n",
            " |-- _c673: string (nullable = true)\n",
            " |-- _c674: string (nullable = true)\n",
            " |-- _c675: string (nullable = true)\n",
            " |-- _c676: string (nullable = true)\n",
            " |-- _c677: string (nullable = true)\n",
            " |-- _c678: string (nullable = true)\n",
            " |-- _c679: string (nullable = true)\n",
            " |-- _c680: string (nullable = true)\n",
            " |-- _c681: string (nullable = true)\n",
            " |-- _c682: string (nullable = true)\n",
            " |-- _c683: string (nullable = true)\n",
            " |-- _c684: string (nullable = true)\n",
            " |-- _c685: string (nullable = true)\n",
            " |-- _c686: string (nullable = true)\n",
            " |-- _c687: string (nullable = true)\n",
            " |-- _c688: string (nullable = true)\n",
            " |-- _c689: string (nullable = true)\n",
            " |-- _c690: string (nullable = true)\n",
            " |-- _c691: string (nullable = true)\n",
            " |-- _c692: string (nullable = true)\n",
            " |-- _c693: string (nullable = true)\n",
            " |-- _c694: string (nullable = true)\n",
            " |-- _c695: string (nullable = true)\n",
            " |-- _c696: string (nullable = true)\n",
            " |-- _c697: string (nullable = true)\n",
            " |-- _c698: string (nullable = true)\n",
            " |-- _c699: string (nullable = true)\n",
            " |-- _c700: string (nullable = true)\n",
            " |-- _c701: string (nullable = true)\n",
            " |-- _c702: string (nullable = true)\n",
            " |-- _c703: string (nullable = true)\n",
            " |-- _c704: string (nullable = true)\n",
            " |-- _c705: string (nullable = true)\n",
            " |-- _c706: string (nullable = true)\n",
            " |-- _c707: string (nullable = true)\n",
            " |-- _c708: string (nullable = true)\n",
            " |-- _c709: string (nullable = true)\n",
            " |-- _c710: string (nullable = true)\n",
            " |-- _c711: string (nullable = true)\n",
            " |-- _c712: string (nullable = true)\n",
            " |-- _c713: string (nullable = true)\n",
            " |-- _c714: string (nullable = true)\n",
            " |-- _c715: string (nullable = true)\n",
            " |-- _c716: string (nullable = true)\n",
            " |-- _c717: string (nullable = true)\n",
            " |-- _c718: string (nullable = true)\n",
            " |-- _c719: string (nullable = true)\n",
            " |-- _c720: string (nullable = true)\n",
            " |-- _c721: string (nullable = true)\n",
            " |-- _c722: string (nullable = true)\n",
            " |-- _c723: string (nullable = true)\n",
            " |-- _c724: string (nullable = true)\n",
            " |-- _c725: string (nullable = true)\n",
            " |-- _c726: string (nullable = true)\n",
            " |-- _c727: string (nullable = true)\n",
            " |-- _c728: string (nullable = true)\n",
            " |-- _c729: string (nullable = true)\n",
            " |-- _c730: string (nullable = true)\n",
            " |-- _c731: string (nullable = true)\n",
            " |-- _c732: string (nullable = true)\n",
            " |-- _c733: string (nullable = true)\n",
            " |-- _c734: string (nullable = true)\n",
            " |-- _c735: string (nullable = true)\n",
            " |-- _c736: string (nullable = true)\n",
            " |-- _c737: string (nullable = true)\n",
            " |-- _c738: string (nullable = true)\n",
            " |-- _c739: string (nullable = true)\n",
            " |-- _c740: string (nullable = true)\n",
            " |-- _c741: string (nullable = true)\n",
            " |-- _c742: string (nullable = true)\n",
            " |-- _c743: string (nullable = true)\n",
            " |-- _c744: string (nullable = true)\n",
            " |-- _c745: string (nullable = true)\n",
            " |-- _c746: string (nullable = true)\n",
            " |-- _c747: string (nullable = true)\n",
            " |-- _c748: string (nullable = true)\n",
            " |-- _c749: string (nullable = true)\n",
            " |-- _c750: string (nullable = true)\n",
            " |-- _c751: string (nullable = true)\n",
            " |-- _c752: string (nullable = true)\n",
            " |-- _c753: string (nullable = true)\n",
            " |-- _c754: string (nullable = true)\n",
            " |-- _c755: string (nullable = true)\n",
            " |-- _c756: string (nullable = true)\n",
            " |-- _c757: string (nullable = true)\n",
            " |-- _c758: string (nullable = true)\n",
            " |-- _c759: string (nullable = true)\n",
            " |-- _c760: string (nullable = true)\n",
            " |-- _c761: string (nullable = true)\n",
            " |-- _c762: string (nullable = true)\n",
            " |-- _c763: string (nullable = true)\n",
            " |-- _c764: string (nullable = true)\n",
            " |-- _c765: string (nullable = true)\n",
            " |-- _c766: string (nullable = true)\n",
            " |-- _c767: string (nullable = true)\n",
            " |-- _c768: string (nullable = true)\n",
            " |-- _c769: string (nullable = true)\n",
            " |-- _c770: string (nullable = true)\n",
            " |-- _c771: string (nullable = true)\n",
            " |-- _c772: string (nullable = true)\n",
            " |-- _c773: string (nullable = true)\n",
            " |-- _c774: string (nullable = true)\n",
            " |-- _c775: string (nullable = true)\n",
            " |-- _c776: string (nullable = true)\n",
            " |-- _c777: string (nullable = true)\n",
            " |-- _c778: string (nullable = true)\n",
            " |-- _c779: string (nullable = true)\n",
            " |-- _c780: string (nullable = true)\n",
            " |-- _c781: string (nullable = true)\n",
            " |-- _c782: string (nullable = true)\n",
            " |-- _c783: string (nullable = true)\n",
            " |-- _c784: string (nullable = true)\n",
            "\n"
          ]
        }
      ]
    },
    {
      "cell_type": "code",
      "source": [
        "df_chtrain.show()"
      ],
      "metadata": {
        "colab": {
          "base_uri": "https://localhost:8080/"
        },
        "id": "9wy-qn3VLhYr",
        "outputId": "f3e92657-92c3-46f9-d4bb-993e36202811"
      },
      "execution_count": 11,
      "outputs": [
        {
          "output_type": "stream",
          "name": "stdout",
          "text": [
            "+-----------+---------+------------------+-----------+--------------+-----------+-----------+-------------+------------------+\n",
            "|        _c0|      _c1|               _c2|        _c3|           _c4|        _c5|        _c6|          _c7|               _c8|\n",
            "+-----------+---------+------------------+-----------+--------------+-----------+-----------+-------------+------------------+\n",
            "|  longitude| latitude|housing_median_age|total_rooms|total_bedrooms| population| households|median_income|median_house_value|\n",
            "|-114.310000|34.190000|         15.000000|5612.000000|   1283.000000|1015.000000| 472.000000|     1.493600|      66900.000000|\n",
            "|-114.470000|34.400000|         19.000000|7650.000000|   1901.000000|1129.000000| 463.000000|     1.820000|      80100.000000|\n",
            "|-114.560000|33.690000|         17.000000| 720.000000|    174.000000| 333.000000| 117.000000|     1.650900|      85700.000000|\n",
            "|-114.570000|33.640000|         14.000000|1501.000000|    337.000000| 515.000000| 226.000000|     3.191700|      73400.000000|\n",
            "|-114.570000|33.570000|         20.000000|1454.000000|    326.000000| 624.000000| 262.000000|     1.925000|      65500.000000|\n",
            "|-114.580000|33.630000|         29.000000|1387.000000|    236.000000| 671.000000| 239.000000|     3.343800|      74000.000000|\n",
            "|-114.580000|33.610000|         25.000000|2907.000000|    680.000000|1841.000000| 633.000000|     2.676800|      82400.000000|\n",
            "|-114.590000|34.830000|         41.000000| 812.000000|    168.000000| 375.000000| 158.000000|     1.708300|      48500.000000|\n",
            "|-114.590000|33.610000|         34.000000|4789.000000|   1175.000000|3134.000000|1056.000000|     2.178200|      58400.000000|\n",
            "|-114.600000|34.830000|         46.000000|1497.000000|    309.000000| 787.000000| 271.000000|     2.190800|      48100.000000|\n",
            "|-114.600000|33.620000|         16.000000|3741.000000|    801.000000|2434.000000| 824.000000|     2.679700|      86500.000000|\n",
            "|-114.600000|33.600000|         21.000000|1988.000000|    483.000000|1182.000000| 437.000000|     1.625000|      62000.000000|\n",
            "|-114.610000|34.840000|         48.000000|1291.000000|    248.000000| 580.000000| 211.000000|     2.157100|      48600.000000|\n",
            "|-114.610000|34.830000|         31.000000|2478.000000|    464.000000|1346.000000| 479.000000|     3.212000|      70400.000000|\n",
            "|-114.630000|32.760000|         15.000000|1448.000000|    378.000000| 949.000000| 300.000000|     0.858500|      45000.000000|\n",
            "|-114.650000|34.890000|         17.000000|2556.000000|    587.000000|1005.000000| 401.000000|     1.699100|      69100.000000|\n",
            "|-114.650000|33.600000|         28.000000|1678.000000|    322.000000| 666.000000| 256.000000|     2.965300|      94900.000000|\n",
            "|-114.650000|32.790000|         21.000000|  44.000000|     33.000000|  64.000000|  27.000000|     0.857100|      25000.000000|\n",
            "|-114.660000|32.740000|         17.000000|1388.000000|    386.000000| 775.000000| 320.000000|     1.204900|      44000.000000|\n",
            "+-----------+---------+------------------+-----------+--------------+-----------+-----------+-------------+------------------+\n",
            "only showing top 20 rows\n",
            "\n"
          ]
        }
      ]
    },
    {
      "cell_type": "code",
      "source": [
        "df_mnsmall_train.show()"
      ],
      "metadata": {
        "colab": {
          "base_uri": "https://localhost:8080/"
        },
        "id": "LOiP6iXILoRE",
        "outputId": "aad0d3b4-0b80-445f-90b5-e068fc7c631c"
      },
      "execution_count": 12,
      "outputs": [
        {
          "output_type": "stream",
          "name": "stdout",
          "text": [
            "+---+---+---+---+---+---+---+---+---+---+----+----+----+----+----+----+----+----+----+----+----+----+----+----+----+----+----+----+----+----+----+----+----+----+----+----+----+----+----+----+----+----+----+----+----+----+----+----+----+----+----+----+----+----+----+----+----+----+----+----+----+----+----+----+----+----+----+----+----+----+----+----+----+----+----+----+----+----+----+----+----+----+----+----+----+----+----+----+----+----+----+----+----+----+----+----+----+----+----+----+-----+-----+-----+-----+-----+-----+-----+-----+-----+-----+-----+-----+-----+-----+-----+-----+-----+-----+-----+-----+-----+-----+-----+-----+-----+-----+-----+-----+-----+-----+-----+-----+-----+-----+-----+-----+-----+-----+-----+-----+-----+-----+-----+-----+-----+-----+-----+-----+-----+-----+-----+-----+-----+-----+-----+-----+-----+-----+-----+-----+-----+-----+-----+-----+-----+-----+-----+-----+-----+-----+-----+-----+-----+-----+-----+-----+-----+-----+-----+-----+-----+-----+-----+-----+-----+-----+-----+-----+-----+-----+-----+-----+-----+-----+-----+-----+-----+-----+-----+-----+-----+-----+-----+-----+-----+-----+-----+-----+-----+-----+-----+-----+-----+-----+-----+-----+-----+-----+-----+-----+-----+-----+-----+-----+-----+-----+-----+-----+-----+-----+-----+-----+-----+-----+-----+-----+-----+-----+-----+-----+-----+-----+-----+-----+-----+-----+-----+-----+-----+-----+-----+-----+-----+-----+-----+-----+-----+-----+-----+-----+-----+-----+-----+-----+-----+-----+-----+-----+-----+-----+-----+-----+-----+-----+-----+-----+-----+-----+-----+-----+-----+-----+-----+-----+-----+-----+-----+-----+-----+-----+-----+-----+-----+-----+-----+-----+-----+-----+-----+-----+-----+-----+-----+-----+-----+-----+-----+-----+-----+-----+-----+-----+-----+-----+-----+-----+-----+-----+-----+-----+-----+-----+-----+-----+-----+-----+-----+-----+-----+-----+-----+-----+-----+-----+-----+-----+-----+-----+-----+-----+-----+-----+-----+-----+-----+-----+-----+-----+-----+-----+-----+-----+-----+-----+-----+-----+-----+-----+-----+-----+-----+-----+-----+-----+-----+-----+-----+-----+-----+-----+-----+-----+-----+-----+-----+-----+-----+-----+-----+-----+-----+-----+-----+-----+-----+-----+-----+-----+-----+-----+-----+-----+-----+-----+-----+-----+-----+-----+-----+-----+-----+-----+-----+-----+-----+-----+-----+-----+-----+-----+-----+-----+-----+-----+-----+-----+-----+-----+-----+-----+-----+-----+-----+-----+-----+-----+-----+-----+-----+-----+-----+-----+-----+-----+-----+-----+-----+-----+-----+-----+-----+-----+-----+-----+-----+-----+-----+-----+-----+-----+-----+-----+-----+-----+-----+-----+-----+-----+-----+-----+-----+-----+-----+-----+-----+-----+-----+-----+-----+-----+-----+-----+-----+-----+-----+-----+-----+-----+-----+-----+-----+-----+-----+-----+-----+-----+-----+-----+-----+-----+-----+-----+-----+-----+-----+-----+-----+-----+-----+-----+-----+-----+-----+-----+-----+-----+-----+-----+-----+-----+-----+-----+-----+-----+-----+-----+-----+-----+-----+-----+-----+-----+-----+-----+-----+-----+-----+-----+-----+-----+-----+-----+-----+-----+-----+-----+-----+-----+-----+-----+-----+-----+-----+-----+-----+-----+-----+-----+-----+-----+-----+-----+-----+-----+-----+-----+-----+-----+-----+-----+-----+-----+-----+-----+-----+-----+-----+-----+-----+-----+-----+-----+-----+-----+-----+-----+-----+-----+-----+-----+-----+-----+-----+-----+-----+-----+-----+-----+-----+-----+-----+-----+-----+-----+-----+-----+-----+-----+-----+-----+-----+-----+-----+-----+-----+-----+-----+-----+-----+-----+-----+-----+-----+-----+-----+-----+-----+-----+-----+-----+-----+-----+-----+-----+-----+-----+-----+-----+-----+-----+-----+-----+-----+-----+-----+-----+-----+-----+-----+-----+-----+-----+-----+-----+-----+-----+-----+-----+-----+-----+-----+-----+-----+-----+-----+-----+-----+-----+-----+-----+-----+-----+-----+-----+-----+-----+-----+-----+-----+-----+-----+-----+-----+-----+-----+-----+-----+-----+-----+-----+-----+-----+-----+-----+-----+-----+-----+-----+-----+-----+-----+-----+-----+-----+-----+-----+-----+-----+-----+-----+-----+-----+-----+-----+-----+-----+-----+-----+-----+-----+-----+-----+-----+-----+-----+-----+-----+-----+-----+-----+-----+-----+-----+-----+-----+-----+-----+-----+-----+-----+-----+-----+-----+-----+-----+-----+-----+-----+-----+-----+-----+-----+-----+-----+-----+-----+-----+-----+-----+-----+-----+-----+-----+-----+-----+-----+-----+-----+-----+-----+-----+-----+-----+-----+-----+-----+-----+-----+-----+-----+-----+-----+-----+-----+-----+-----+-----+-----+-----+-----+-----+-----+-----+-----+-----+\n",
            "|_c0|_c1|_c2|_c3|_c4|_c5|_c6|_c7|_c8|_c9|_c10|_c11|_c12|_c13|_c14|_c15|_c16|_c17|_c18|_c19|_c20|_c21|_c22|_c23|_c24|_c25|_c26|_c27|_c28|_c29|_c30|_c31|_c32|_c33|_c34|_c35|_c36|_c37|_c38|_c39|_c40|_c41|_c42|_c43|_c44|_c45|_c46|_c47|_c48|_c49|_c50|_c51|_c52|_c53|_c54|_c55|_c56|_c57|_c58|_c59|_c60|_c61|_c62|_c63|_c64|_c65|_c66|_c67|_c68|_c69|_c70|_c71|_c72|_c73|_c74|_c75|_c76|_c77|_c78|_c79|_c80|_c81|_c82|_c83|_c84|_c85|_c86|_c87|_c88|_c89|_c90|_c91|_c92|_c93|_c94|_c95|_c96|_c97|_c98|_c99|_c100|_c101|_c102|_c103|_c104|_c105|_c106|_c107|_c108|_c109|_c110|_c111|_c112|_c113|_c114|_c115|_c116|_c117|_c118|_c119|_c120|_c121|_c122|_c123|_c124|_c125|_c126|_c127|_c128|_c129|_c130|_c131|_c132|_c133|_c134|_c135|_c136|_c137|_c138|_c139|_c140|_c141|_c142|_c143|_c144|_c145|_c146|_c147|_c148|_c149|_c150|_c151|_c152|_c153|_c154|_c155|_c156|_c157|_c158|_c159|_c160|_c161|_c162|_c163|_c164|_c165|_c166|_c167|_c168|_c169|_c170|_c171|_c172|_c173|_c174|_c175|_c176|_c177|_c178|_c179|_c180|_c181|_c182|_c183|_c184|_c185|_c186|_c187|_c188|_c189|_c190|_c191|_c192|_c193|_c194|_c195|_c196|_c197|_c198|_c199|_c200|_c201|_c202|_c203|_c204|_c205|_c206|_c207|_c208|_c209|_c210|_c211|_c212|_c213|_c214|_c215|_c216|_c217|_c218|_c219|_c220|_c221|_c222|_c223|_c224|_c225|_c226|_c227|_c228|_c229|_c230|_c231|_c232|_c233|_c234|_c235|_c236|_c237|_c238|_c239|_c240|_c241|_c242|_c243|_c244|_c245|_c246|_c247|_c248|_c249|_c250|_c251|_c252|_c253|_c254|_c255|_c256|_c257|_c258|_c259|_c260|_c261|_c262|_c263|_c264|_c265|_c266|_c267|_c268|_c269|_c270|_c271|_c272|_c273|_c274|_c275|_c276|_c277|_c278|_c279|_c280|_c281|_c282|_c283|_c284|_c285|_c286|_c287|_c288|_c289|_c290|_c291|_c292|_c293|_c294|_c295|_c296|_c297|_c298|_c299|_c300|_c301|_c302|_c303|_c304|_c305|_c306|_c307|_c308|_c309|_c310|_c311|_c312|_c313|_c314|_c315|_c316|_c317|_c318|_c319|_c320|_c321|_c322|_c323|_c324|_c325|_c326|_c327|_c328|_c329|_c330|_c331|_c332|_c333|_c334|_c335|_c336|_c337|_c338|_c339|_c340|_c341|_c342|_c343|_c344|_c345|_c346|_c347|_c348|_c349|_c350|_c351|_c352|_c353|_c354|_c355|_c356|_c357|_c358|_c359|_c360|_c361|_c362|_c363|_c364|_c365|_c366|_c367|_c368|_c369|_c370|_c371|_c372|_c373|_c374|_c375|_c376|_c377|_c378|_c379|_c380|_c381|_c382|_c383|_c384|_c385|_c386|_c387|_c388|_c389|_c390|_c391|_c392|_c393|_c394|_c395|_c396|_c397|_c398|_c399|_c400|_c401|_c402|_c403|_c404|_c405|_c406|_c407|_c408|_c409|_c410|_c411|_c412|_c413|_c414|_c415|_c416|_c417|_c418|_c419|_c420|_c421|_c422|_c423|_c424|_c425|_c426|_c427|_c428|_c429|_c430|_c431|_c432|_c433|_c434|_c435|_c436|_c437|_c438|_c439|_c440|_c441|_c442|_c443|_c444|_c445|_c446|_c447|_c448|_c449|_c450|_c451|_c452|_c453|_c454|_c455|_c456|_c457|_c458|_c459|_c460|_c461|_c462|_c463|_c464|_c465|_c466|_c467|_c468|_c469|_c470|_c471|_c472|_c473|_c474|_c475|_c476|_c477|_c478|_c479|_c480|_c481|_c482|_c483|_c484|_c485|_c486|_c487|_c488|_c489|_c490|_c491|_c492|_c493|_c494|_c495|_c496|_c497|_c498|_c499|_c500|_c501|_c502|_c503|_c504|_c505|_c506|_c507|_c508|_c509|_c510|_c511|_c512|_c513|_c514|_c515|_c516|_c517|_c518|_c519|_c520|_c521|_c522|_c523|_c524|_c525|_c526|_c527|_c528|_c529|_c530|_c531|_c532|_c533|_c534|_c535|_c536|_c537|_c538|_c539|_c540|_c541|_c542|_c543|_c544|_c545|_c546|_c547|_c548|_c549|_c550|_c551|_c552|_c553|_c554|_c555|_c556|_c557|_c558|_c559|_c560|_c561|_c562|_c563|_c564|_c565|_c566|_c567|_c568|_c569|_c570|_c571|_c572|_c573|_c574|_c575|_c576|_c577|_c578|_c579|_c580|_c581|_c582|_c583|_c584|_c585|_c586|_c587|_c588|_c589|_c590|_c591|_c592|_c593|_c594|_c595|_c596|_c597|_c598|_c599|_c600|_c601|_c602|_c603|_c604|_c605|_c606|_c607|_c608|_c609|_c610|_c611|_c612|_c613|_c614|_c615|_c616|_c617|_c618|_c619|_c620|_c621|_c622|_c623|_c624|_c625|_c626|_c627|_c628|_c629|_c630|_c631|_c632|_c633|_c634|_c635|_c636|_c637|_c638|_c639|_c640|_c641|_c642|_c643|_c644|_c645|_c646|_c647|_c648|_c649|_c650|_c651|_c652|_c653|_c654|_c655|_c656|_c657|_c658|_c659|_c660|_c661|_c662|_c663|_c664|_c665|_c666|_c667|_c668|_c669|_c670|_c671|_c672|_c673|_c674|_c675|_c676|_c677|_c678|_c679|_c680|_c681|_c682|_c683|_c684|_c685|_c686|_c687|_c688|_c689|_c690|_c691|_c692|_c693|_c694|_c695|_c696|_c697|_c698|_c699|_c700|_c701|_c702|_c703|_c704|_c705|_c706|_c707|_c708|_c709|_c710|_c711|_c712|_c713|_c714|_c715|_c716|_c717|_c718|_c719|_c720|_c721|_c722|_c723|_c724|_c725|_c726|_c727|_c728|_c729|_c730|_c731|_c732|_c733|_c734|_c735|_c736|_c737|_c738|_c739|_c740|_c741|_c742|_c743|_c744|_c745|_c746|_c747|_c748|_c749|_c750|_c751|_c752|_c753|_c754|_c755|_c756|_c757|_c758|_c759|_c760|_c761|_c762|_c763|_c764|_c765|_c766|_c767|_c768|_c769|_c770|_c771|_c772|_c773|_c774|_c775|_c776|_c777|_c778|_c779|_c780|_c781|_c782|_c783|_c784|\n",
            "+---+---+---+---+---+---+---+---+---+---+----+----+----+----+----+----+----+----+----+----+----+----+----+----+----+----+----+----+----+----+----+----+----+----+----+----+----+----+----+----+----+----+----+----+----+----+----+----+----+----+----+----+----+----+----+----+----+----+----+----+----+----+----+----+----+----+----+----+----+----+----+----+----+----+----+----+----+----+----+----+----+----+----+----+----+----+----+----+----+----+----+----+----+----+----+----+----+----+----+----+-----+-----+-----+-----+-----+-----+-----+-----+-----+-----+-----+-----+-----+-----+-----+-----+-----+-----+-----+-----+-----+-----+-----+-----+-----+-----+-----+-----+-----+-----+-----+-----+-----+-----+-----+-----+-----+-----+-----+-----+-----+-----+-----+-----+-----+-----+-----+-----+-----+-----+-----+-----+-----+-----+-----+-----+-----+-----+-----+-----+-----+-----+-----+-----+-----+-----+-----+-----+-----+-----+-----+-----+-----+-----+-----+-----+-----+-----+-----+-----+-----+-----+-----+-----+-----+-----+-----+-----+-----+-----+-----+-----+-----+-----+-----+-----+-----+-----+-----+-----+-----+-----+-----+-----+-----+-----+-----+-----+-----+-----+-----+-----+-----+-----+-----+-----+-----+-----+-----+-----+-----+-----+-----+-----+-----+-----+-----+-----+-----+-----+-----+-----+-----+-----+-----+-----+-----+-----+-----+-----+-----+-----+-----+-----+-----+-----+-----+-----+-----+-----+-----+-----+-----+-----+-----+-----+-----+-----+-----+-----+-----+-----+-----+-----+-----+-----+-----+-----+-----+-----+-----+-----+-----+-----+-----+-----+-----+-----+-----+-----+-----+-----+-----+-----+-----+-----+-----+-----+-----+-----+-----+-----+-----+-----+-----+-----+-----+-----+-----+-----+-----+-----+-----+-----+-----+-----+-----+-----+-----+-----+-----+-----+-----+-----+-----+-----+-----+-----+-----+-----+-----+-----+-----+-----+-----+-----+-----+-----+-----+-----+-----+-----+-----+-----+-----+-----+-----+-----+-----+-----+-----+-----+-----+-----+-----+-----+-----+-----+-----+-----+-----+-----+-----+-----+-----+-----+-----+-----+-----+-----+-----+-----+-----+-----+-----+-----+-----+-----+-----+-----+-----+-----+-----+-----+-----+-----+-----+-----+-----+-----+-----+-----+-----+-----+-----+-----+-----+-----+-----+-----+-----+-----+-----+-----+-----+-----+-----+-----+-----+-----+-----+-----+-----+-----+-----+-----+-----+-----+-----+-----+-----+-----+-----+-----+-----+-----+-----+-----+-----+-----+-----+-----+-----+-----+-----+-----+-----+-----+-----+-----+-----+-----+-----+-----+-----+-----+-----+-----+-----+-----+-----+-----+-----+-----+-----+-----+-----+-----+-----+-----+-----+-----+-----+-----+-----+-----+-----+-----+-----+-----+-----+-----+-----+-----+-----+-----+-----+-----+-----+-----+-----+-----+-----+-----+-----+-----+-----+-----+-----+-----+-----+-----+-----+-----+-----+-----+-----+-----+-----+-----+-----+-----+-----+-----+-----+-----+-----+-----+-----+-----+-----+-----+-----+-----+-----+-----+-----+-----+-----+-----+-----+-----+-----+-----+-----+-----+-----+-----+-----+-----+-----+-----+-----+-----+-----+-----+-----+-----+-----+-----+-----+-----+-----+-----+-----+-----+-----+-----+-----+-----+-----+-----+-----+-----+-----+-----+-----+-----+-----+-----+-----+-----+-----+-----+-----+-----+-----+-----+-----+-----+-----+-----+-----+-----+-----+-----+-----+-----+-----+-----+-----+-----+-----+-----+-----+-----+-----+-----+-----+-----+-----+-----+-----+-----+-----+-----+-----+-----+-----+-----+-----+-----+-----+-----+-----+-----+-----+-----+-----+-----+-----+-----+-----+-----+-----+-----+-----+-----+-----+-----+-----+-----+-----+-----+-----+-----+-----+-----+-----+-----+-----+-----+-----+-----+-----+-----+-----+-----+-----+-----+-----+-----+-----+-----+-----+-----+-----+-----+-----+-----+-----+-----+-----+-----+-----+-----+-----+-----+-----+-----+-----+-----+-----+-----+-----+-----+-----+-----+-----+-----+-----+-----+-----+-----+-----+-----+-----+-----+-----+-----+-----+-----+-----+-----+-----+-----+-----+-----+-----+-----+-----+-----+-----+-----+-----+-----+-----+-----+-----+-----+-----+-----+-----+-----+-----+-----+-----+-----+-----+-----+-----+-----+-----+-----+-----+-----+-----+-----+-----+-----+-----+-----+-----+-----+-----+-----+-----+-----+-----+-----+-----+-----+-----+-----+-----+-----+-----+-----+-----+-----+-----+-----+-----+-----+-----+-----+-----+-----+-----+-----+-----+-----+-----+-----+-----+-----+-----+-----+-----+-----+-----+-----+-----+-----+-----+-----+-----+-----+-----+-----+-----+-----+-----+-----+-----+-----+-----+-----+-----+-----+-----+-----+-----+-----+-----+-----+-----+-----+-----+-----+-----+-----+-----+-----+-----+\n",
            "|  6|  0|  0|  0|  0|  0|  0|  0|  0|  0|   0|   0|   0|   0|   0|   0|   0|   0|   0|   0|   0|   0|   0|   0|   0|   0|   0|   0|   0|   0|   0|   0|   0|   0|   0|   0|   0|   0|   0|   0|   0|   0|   0|   0|   0|   0|   0|   0|   0|   0|   0|   0|   0|   0|   0|   0|   0|   0|   0|   0|   0|   0|   0|   0|   0|   0|   0|   0|   0|   0|   0|   0|   0|   0|   0|   0|   0|   0|   0|   0|   0|   0|   0|   0|   0|   0|   0|   0|   0|   0|   0|   0|   0|   0|   0|   0|   0|   0|   0|   0|    0|    0|    0|    0|    0|    0|    0|    0|    0|    0|    0|    0|    0|    0|    0|    0|    0|    0|    0|    0|    0|    0|    0|   24|   67|   67|   18|    0|    0|    0|    0|    0|    0|    0|    0|    0|    0|    0|    0|    0|    0|    0|    0|    0|    0|    0|    0|    0|    0|    0|    0|  131|  252|  252|   66|    0|    0|    0|    0|    0|    0|    0|    0|    0|    0|    0|    0|    0|    0|    0|    0|    0|    0|    0|    0|    0|    0|    0|  159|  250|  232|   30|   32|    0|    0|    0|    0|    0|    0|    0|    0|    0|    0|    0|    0|    0|    0|    0|    0|    0|    0|    0|    0|    0|    0|   15|  222|  252|  108|    0|    0|    0|    0|    0|    0|    0|    0|    0|    0|    0|    0|    0|    0|    0|    0|    0|    0|    0|    0|    0|    0|    0|    0|  147|  252|  183|    5|    0|    0|    0|    0|    0|    0|    0|   20|   89|   89|   73|    0|    0|    0|    0|    0|    0|    0|    0|    0|    0|    0|    0|   48|  247|  252|  159|    0|    0|    0|    0|    0|    0|    0|   79|  236|  252|  252|  249|  198|   16|    0|    0|    0|    0|    0|    0|    0|    0|    0|   41|  193|  252|  199|   22|    0|    0|    0|    0|    0|   12|  135|  248|  252|  252|  252|  252|  252|  100|    0|    0|    0|    0|    0|    0|    0|    0|    0|  100|  252|  252|   88|    0|    0|    0|    0|    0|   11|  171|  252|  252|  235|  175|  178|  252|  252|  224|    0|    0|    0|    0|    0|    0|    0|    0|   15|  209|  252|  233|   12|    0|    0|    0|    0|   49|  177|  252|  252|   89|   26|    0|    2|  166|  252|  252|    0|    0|    0|    0|    0|    0|    0|    0|   96|  253|  253|   59|    0|    0|    0|    0|   11|  177|  255|  253|   92|    0|    0|    0|    0|  155|  253|  128|    0|    0|    0|    0|    0|    0|    0|    0|  143|  252|  252|   10|    0|    0|    0|   12|  171|  252|  216|  110|   13|    0|    0|    0|    3|  180|  232|   24|    0|    0|    0|    0|    0|    0|    0|    0|  143|  252|  170|    2|    0|    0|    0|  135|  252|  209|   19|    0|    0|    0|    0|    0|   12|  252|  132|    0|    0|    0|    0|    0|    0|    0|    0|    0|  249|  252|   96|    0|    0|    0|   21|  248|  246|   34|    0|    0|    0|    0|    5|   61|  234|  152|    3|    0|    0|    0|    0|    0|    0|    0|    0|    0|  253|  252|   44|    0|    0|    0|  145|  252|  104|    0|    0|    0|   46|  114|  184|  252|  149|   34|    0|    0|    0|    0|    0|    0|    0|    0|    0|    0|  253|  252|   82|    0|    0|   31|  239|  252|   66|   39|   89|  165|  243|  252|  233|  126|    5|    0|    0|    0|    0|    0|    0|    0|    0|    0|    0|    0|  249|  252|  244|  126|   98|  143|  252|  252|  237|  240|  253|  252|  243|  174|   17|    0|    0|    0|    0|    0|    0|    0|    0|    0|    0|    0|    0|    0|  119|  239|  252|  252|  252|  252|  252|  252|  252|  252|  228|  179|   17|    0|    0|    0|    0|    0|    0|    0|    0|    0|    0|    0|    0|    0|    0|    0|    0|   46|   66|   66|   66|   66|   66|   66|   66|   66|   29|    0|    0|    0|    0|    0|    0|    0|    0|    0|    0|    0|    0|    0|    0|    0|    0|    0|    0|    0|    0|    0|    0|    0|    0|    0|    0|    0|    0|    0|    0|    0|    0|    0|    0|    0|    0|    0|    0|    0|    0|    0|    0|    0|    0|    0|    0|    0|    0|    0|    0|    0|    0|    0|    0|    0|    0|    0|    0|    0|    0|    0|    0|    0|    0|    0|    0|    0|    0|    0|    0|    0|    0|    0|    0|    0|    0|    0|    0|    0|    0|    0|    0|    0|    0|    0|    0|    0|    0|    0|    0|    0|    0|    0|    0|    0|    0|    0|    0|    0|    0|    0|    0|    0|    0|    0|    0|    0|    0|    0|    0|    0|    0|    0|    0|    0|    0|    0|    0|    0|    0|    0|    0|    0|    0|    0|    0|    0|    0|    0|    0|    0|    0|    0|    0|    0|    0|    0|    0|    0|    0|    0|    0|    0|    0|    0|    0|    0|    0|    0|    0|    0|    0|    0|    0|    0|    0|    0|    0|    0|    0|    0|    0|    0|    0|    0|    0|    0|    0|    0|    0|    0|    0|    0|    0|    0|    0|    0|    0|    0|    0|\n",
            "|  5|  0|  0|  0|  0|  0|  0|  0|  0|  0|   0|   0|   0|   0|   0|   0|   0|   0|   0|   0|   0|   0|   0|   0|   0|   0|   0|   0|   0|   0|   0|   0|   0|   0|   0|   0|   0|   0|   0|   0|   0|   0|   0|   0|   0|   0|   0|   0|   0|   0|   0|   0|   0|   0|   0|   0|   0|   0|   0|   0|   0|   0|   0|   0|   0|   0|   0|   0|   0|   0|   0|   0|   0|   0|   0|   0|   0|   0|   0|   0|   0|   0|   0|   0|   0|   0|   0|   0|   0|   0|   0|   0|   0|   0|   0|   0|   0|   0|   0|   0|    0|    0|    0|    0|    0|    0|    0|    0|    0|    0|    0|    0|    0|    0|    0|    0|    0|    0|    0|    0|    0|    0|    0|    0|    0|    0|    0|    0|    0|    0|    0|    0|    0|    0|    0|    0|    0|    0|    0|    0|    0|    0|    0|    0|    0|    0|    0|    0|    0|    0|    0|    0|   28|   59|   50|    0|   23|    0|    0|   32|  134|  180|  254|  206|    8|    0|    0|    0|    0|    0|    0|    0|    0|    0|    0|    0|    0|    4|   96|  216|  233|  254|  248|  215|  231|  215|  215|  236|  254|  250|  181|   27|    0|    0|    0|    0|    0|    0|    0|    0|    0|    0|    0|    0|    0|  108|  254|  254|  247|  175|  175|  175|  176|  175|  175|  205|  175|   60|    0|    0|    0|    0|    0|    0|    0|    0|    0|    0|    0|    0|    0|    0|    0|   47|  254|  245|   85|    0|    0|    0|    0|    0|    0|    8|    0|    0|    0|    0|    0|    0|    0|    0|    0|    0|    0|    0|    0|    0|    0|    0|    0|  152|  254|  158|    0|    0|    0|    0|    0|    0|    0|    0|    0|    0|    0|    0|    0|    0|    0|    0|    0|    0|    0|    0|    0|    0|    0|    0|   19|  240|  255|   38|    0|   41|   50|    0|    0|    0|    0|    0|    0|    0|    0|    0|    0|    0|    0|    0|    0|    0|    0|    0|    0|    0|    0|    0|   87|  254|  254|  178|  215|  242|  248|  215|   96|   19|    0|    0|    0|    0|    0|    0|    0|    0|    0|    0|    0|    0|    0|    0|    0|    0|    0|    0|  176|  254|  254|  254|  217|  175|  187|  254|  254|  248|   85|    0|    0|    0|    0|    0|    0|    0|    0|    0|    0|    0|    0|    0|    0|    0|    0|    0|  161|  247|  214|   57|   11|    0|    3|   19|  177|  248|  248|  129|    9|    0|    0|    0|    0|    0|    0|    0|    0|    0|    0|    0|    0|    0|    0|    0|   18|   49|    0|    0|    0|    0|    0|    0|    0|   57|  224|  254|  171|    0|    0|    0|    0|    0|    0|    0|    0|    0|    0|    0|    0|    0|    0|    0|    0|    0|    0|    0|    0|    0|    0|    0|    0|    0|    0|  213|  255|  122|    0|    0|    0|    0|    0|    0|    0|    0|    0|    0|    0|    0|    0|    0|    0|    0|    0|    0|    0|    0|    0|    0|    0|    0|    0|   92|  254|  196|    0|    0|    0|    0|    0|    0|    0|    0|    0|    0|    0|    0|    0|    0|    0|    0|    0|    0|    0|    0|    0|    0|    0|    0|    0|   40|  254|  196|    0|    0|    0|    0|    0|    0|    0|    0|    0|    0|    0|    0|    0|    0|    0|    0|    0|    0|    0|    0|    0|    0|    0|    0|    0|  145|  254|  196|    0|    0|    0|    0|    0|    0|    0|    0|    0|    0|    0|    0|    0|    0|   31|  188|   45|    0|    0|    0|    0|    0|    0|    0|   99|  249|  254|  121|    0|    0|    0|    0|    0|    0|    0|    0|    0|    0|    0|    0|    0|    0|  139|  245|   45|    0|    0|    0|    0|    0|    0|  140|  254|  254|  133|    0|    0|    0|    0|    0|    0|    0|    0|    0|    0|    0|    0|    0|    0|   17|  242|  169|    0|    0|    0|    0|    4|   58|  216|  248|  254|  167|    9|    0|    0|    0|    0|    0|    0|    0|    0|    0|    0|    0|    0|    0|    0|   14|  230|  196|   79|   49|   79|   79|  181|  254|  254|  247|  108|    6|    0|    0|    0|    0|    0|    0|    0|    0|    0|    0|    0|    0|    0|    0|    0|    0|   44|  213|  254|  247|  254|  254|  254|  254|  192|   32|    0|    0|    0|    0|    0|    0|    0|    0|    0|    0|    0|    0|    0|    0|    0|    0|    0|    0|    0|    9|  133|  156|  193|  155|  140|   58|    0|    0|    0|    0|    0|    0|    0|    0|    0|    0|    0|    0|    0|    0|    0|    0|    0|    0|    0|    0|    0|    0|    0|    0|    0|    0|    0|    0|    0|    0|    0|    0|    0|    0|    0|    0|    0|    0|    0|    0|    0|    0|    0|    0|    0|    0|    0|    0|    0|    0|    0|    0|    0|    0|    0|    0|    0|    0|    0|    0|    0|    0|    0|    0|    0|    0|    0|    0|    0|    0|    0|    0|    0|    0|    0|    0|    0|    0|    0|    0|    0|    0|    0|    0|    0|    0|    0|    0|    0|    0|    0|    0|    0|    0|    0|    0|    0|\n",
            "|  7|  0|  0|  0|  0|  0|  0|  0|  0|  0|   0|   0|   0|   0|   0|   0|   0|   0|   0|   0|   0|   0|   0|   0|   0|   0|   0|   0|   0|   0|   0|   0|   0|   0|   0|   0|   0|   0|   0|   0|   0|   0|   0|   0|   0|   0|   0|   0|   0|   0|   0|   0|   0|   0|   0|   0|   0|   0|   0|   0|   0|   0|   0|   0|   0|   0|   0|   0|   0|   0|   0|   0|   0|   0|   0|   0|   0|   0|   0|   0|   0|   0|   0|   0|   0|   0|   0|   0|   0|   0|   0|   0|   0|   0|   0|   0|   0|   0|   0|   0|    0|    0|    0|    0|    0|    0|    0|    0|    0|    0|    0|    0|    0|    0|    0|    0|    0|    0|    0|    0|    0|    0|    0|    0|    0|    0|    0|    0|    0|    0|    0|    0|    0|    0|    0|    0|    0|    0|    0|    0|    0|    0|    0|    0|    0|    0|    0|    0|    0|    0|    0|    0|    0|    0|    0|    0|    0|    0|    0|    0|    0|    0|    0|    0|    0|    0|    0|    0|    0|    0|    0|    0|    0|    0|    0|    0|    0|    0|    0|    0|    0|    0|    0|    0|    0|    0|   32|   97|  179|  254|  223|   72|    0|    0|    0|    0|    0|    0|    0|    0|    0|    0|    0|    0|    0|    0|    0|    0|    0|    0|    0|   13|   65|  185|  235|  253|  254|  253|  253|  199|    0|    0|    0|    0|    0|    0|    0|    0|    0|    0|    0|    0|    0|    0|    0|   37|   55|    0|   61|  224|  253|  253|  253|  192|   78|  226|  253|  213|    0|    0|    0|    0|    0|    0|    0|    0|    0|    0|    0|    0|    0|    0|  100|  228|  247|  159|  248|  254|  234|  183|   64|    5|    0|  177|  253|  161|    0|    0|    0|    0|    0|    0|    0|    0|    0|    0|    0|    0|    0|   76|  254|  253|  253|  253|  253|  193|   46|    0|    0|    0|    0|  214|  253|  117|    0|    0|    0|    0|    0|    0|    0|    0|    0|    0|    0|    0|    0|  121|  255|  254|  254|  146|   60|    0|    0|    0|    0|    0|   14|  224|  254|   57|    0|    0|    0|    0|    0|    0|    0|    0|    0|    0|    0|    0|   79|  244|  254|  243|  106|    3|    0|    0|    0|    0|    0|    0|  186|  253|  216|   10|    0|    0|    0|    0|    0|    0|    0|    0|    0|    0|    0|    0|  166|  253|  254|  135|    0|    0|    0|    0|    0|    0|    0|    0|  254|  253|  107|    0|    0|    0|    0|    0|    0|    0|    0|    0|    0|    0|    0|  126|  251|  253|  146|    3|    0|    0|    0|    0|    0|    0|    0|  106|  254|  242|   36|    0|    0|    0|    0|    0|    0|    0|    0|    0|    0|    0|    8|  205|  253|  215|   23|    0|    0|    0|    0|    0|    0|    0|   31|  239|  254|  121|    0|    0|    0|    0|    0|    0|    0|    0|    0|    0|    0|    0|  178|  254|  244|   83|    0|    0|    0|    0|    0|    0|    0|   19|  201|  254|  196|   15|    0|    0|    0|    0|    0|    0|    0|    0|    0|    0|    0|   28|  232|  253|  124|    0|    0|    0|    0|    0|    0|    0|    2|  129|  253|  253|   15|    0|    0|    0|    0|    0|    0|    0|    0|    0|    0|    0|    0|   18|  220|  174|   13|    0|    0|    0|    0|    0|    0|    0|   88|  253|  253|  154|    0|    0|    0|    0|    0|    0|    0|    0|    0|    0|    0|    0|    0|    0|   15|    0|    0|    0|    0|    0|    0|    0|    0|   10|  175|  253|  231|   27|    0|    0|    0|    0|    0|    0|    0|    0|    0|    0|    0|    0|    0|    0|    0|    0|    0|    0|    0|    0|    0|    0|    0|  134|  253|  253|  138|    0|    0|    0|    0|    0|    0|    0|    0|    0|    0|    0|    0|    0|    0|    0|    0|    0|    0|    0|    0|    0|    0|    0|   83|  255|  254|  152|    0|    0|    0|    0|    0|    0|    0|    0|    0|    0|    0|    0|    0|    0|    0|    0|    0|    0|    0|    0|    0|    0|    0|   19|  222|  254|  191|   12|    0|    0|    0|    0|    0|    0|    0|    0|    0|    0|    0|    0|    0|    0|    0|    0|    0|    0|    0|    0|    0|    0|    0|  137|  253|  254|  135|    0|    0|    0|    0|    0|    0|    0|    0|    0|    0|    0|    0|    0|    0|    0|    0|    0|    0|    0|    0|    0|    0|    0|    0|  234|  253|  254|  173|    0|    0|    0|    0|    0|    0|    0|    0|    0|    0|    0|    0|    0|    0|    0|    0|    0|    0|    0|    0|    0|    0|    0|    0|  159|  253|  193|   46|    0|    0|    0|    0|    0|    0|    0|    0|    0|    0|    0|    0|    0|    0|    0|    0|    0|    0|    0|    0|    0|    0|    0|    0|    0|    0|    0|    0|    0|    0|    0|    0|    0|    0|    0|    0|    0|    0|    0|    0|    0|    0|    0|    0|    0|    0|    0|    0|    0|    0|    0|    0|    0|    0|    0|    0|    0|    0|    0|    0|    0|    0|    0|    0|    0|    0|    0|    0|\n",
            "|  9|  0|  0|  0|  0|  0|  0|  0|  0|  0|   0|   0|   0|   0|   0|   0|   0|   0|   0|   0|   0|   0|   0|   0|   0|   0|   0|   0|   0|   0|   0|   0|   0|   0|   0|   0|   0|   0|   0|   0|   0|   0|   0|   0|   0|   0|   0|   0|   0|   0|   0|   0|   0|   0|   0|   0|   0|   0|   0|   0|   0|   0|   0|   0|   0|   0|   0|   0|   0|   0|   0|   0|   0|   0|   0|   0|   0|   0|   0|   0|   0|   0|   0|   0|   0|   0|   0|   0|   0|   0|   0|   0|   0|   0|   0|   0|   0|   0|   0|   0|    0|    0|    0|    0|    0|    0|    0|    0|    0|    0|    0|    0|    0|    0|    0|    0|    0|    0|    0|    0|    0|    0|    0|    0|    0|    0|    0|    0|    0|    0|    0|    0|    0|    0|    0|    0|    0|    0|    0|    0|    0|    0|    0|    0|    0|    0|    0|    0|    0|    0|    0|    0|    0|    0|    0|    0|    0|    0|    0|    0|    0|    0|    0|    0|    0|    0|    0|    0|    0|    0|    0|    0|    0|    0|    0|    0|    0|    0|    0|    0|    0|    0|    0|    0|    0|    0|    0|    0|    0|    0|    0|    0|    0|    0|    0|    0|    0|    0|    0|    0|    0|    0|    0|    0|    0|    0|   25|  114|  181|  219|  255|  196|  126|  122|   22|    0|    0|    0|    0|    0|    0|    0|    0|    0|    0|    0|    0|    0|    0|    0|    0|    0|    0|   74|  212|  218|  254|  254|  225|  217|  216|  245|  133|    0|    0|    0|    0|    0|    0|    0|    0|    0|    0|    0|    0|    0|    0|    0|    0|   46|  104|  187|  253|  213|  129|   56|   15|    0|    0|   86|  237|   88|    0|    0|    0|    0|    0|    0|    0|    0|    0|    0|    0|    0|    0|    0|   82|  235|  254|  254|  143|    0|    0|    0|    0|    0|    0|   10|  254|  113|    0|    0|    0|    0|    0|    0|    0|    0|    0|    0|    0|    0|    0|    0|  226|  254|  254|   70|    4|    0|    0|    0|    0|    0|    0|    1|   50|  100|   22|   79|  111|    0|    0|    0|    0|    0|    0|    0|    0|    0|    0|    0|  226|  254|  254|   71|    4|   45|   93|   90|   90|   19|    5|   23|  207|  228|  228|  254|  243|   73|    0|    0|    0|    0|    0|    0|    0|    0|    0|    0|  195|  254|  254|  254|  193|  232|  254|  254|  254|  254|  198|  254|  254|  254|  254|  254|  254|  131|    0|    0|    0|    0|    0|    0|    0|    0|    0|    0|   19|  176|  235|  254|  254|  254|  254|  254|  254|  254|  254|  254|  254|  254|  254|  254|  254|  111|    0|    0|    0|    0|    0|    0|    0|    0|    0|    0|    0|    0|   25|  125|  131|  162|  225|  215|  131|  201|  131|  169|  209|  254|  254|  254|  216|   20|    0|    0|    0|    0|    0|    0|    0|    0|    0|    0|    0|    0|    0|    0|    0|    0|    0|    0|    0|    0|    0|    0|  169|  254|  254|  222|   30|    0|    0|    0|    0|    0|    0|    0|    0|    0|    0|    0|    0|    0|    0|    0|    0|    0|    0|    0|    0|    0|    0|    6|  223|  254|  254|  145|    0|    0|    0|    0|    0|    0|    0|    0|    0|    0|    0|    0|    0|    0|    0|    0|    0|    0|    0|    0|    0|    0|    0|   73|  254|  254|  152|    9|    0|    0|    0|    0|    0|    0|    0|    0|    0|    0|    0|    0|    0|    0|    0|    0|    0|    0|    0|    0|    0|    0|    2|  200|  254|  252|   66|    0|    0|    0|    0|    0|    0|    0|    0|    0|    0|    0|    0|    0|    0|    0|    0|    0|    0|    0|    0|    0|    0|    0|  101|  254|  254|  143|    0|    0|    0|    0|    0|    0|    0|    0|    0|    0|    0|    0|    0|    0|    0|    0|    0|    0|    0|    0|    0|    0|    0|    0|   80|  254|  254|   95|    0|    0|    0|    0|    0|    0|    0|    0|    0|    0|    0|    0|    0|    0|    0|    0|    0|    0|    0|    0|    0|    0|    0|    0|  157|  254|  213|   10|    0|    0|    0|    0|    0|    0|    0|    0|    0|    0|    0|    0|    0|    0|    0|    0|    0|    0|    0|    0|    0|    0|    0|   23|  235|  254|   85|    0|    0|    0|    0|    0|    0|    0|    0|    0|    0|    0|    0|    0|    0|    0|    0|    0|    0|    0|    0|    0|    0|    0|    0|   88|  254|  251|   66|    0|    0|    0|    0|    0|    0|    0|    0|    0|    0|    0|    0|    0|    0|    0|    0|    0|    0|    0|    0|    0|    0|    0|    0|  160|  254|  153|    0|    0|    0|    0|    0|    0|    0|    0|    0|    0|    0|    0|    0|    0|    0|    0|    0|    0|    0|    0|    0|    0|    0|    0|    0|   91|  225|   15|    0|    0|    0|    0|    0|    0|    0|    0|    0|    0|    0|    0|    0|    0|    0|    0|    0|    0|    0|    0|    0|    0|    0|    0|    0|    0|    0|    0|    0|    0|    0|    0|    0|    0|    0|    0|    0|    0|    0|\n",
            "|  5|  0|  0|  0|  0|  0|  0|  0|  0|  0|   0|   0|   0|   0|   0|   0|   0|   0|   0|   0|   0|   0|   0|   0|   0|   0|   0|   0|   0|   0|   0|   0|   0|   0|   0|   0|   0|   0|   0|   0|   0|   0|   0|   0|   0|   0|   0|   0|   0|   0|   0|   0|   0|   0|   0|   0|   0|   0|   0|   0|   0|   0|   0|   0|   0|   0|   0|   0|   0|   0|   0|   0|   0|   0|   0|   0|   0|   0|   0|   0|   0|   0|   0|   0|   0|   0|   0|   0|   0|   0|   0|   0|   0|   0|   0|   0|   0|   0|   0|   0|    0|    0|    0|    0|    0|    0|    0|    0|    0|    0|    0|    0|    0|    0|    0|    0|    0|    0|    0|    0|    0|    0|    0|    0|    0|    0|    0|    0|    0|    0|   20|  206|  210|    0|    0|    0|    0|    0|    0|    0|    0|    0|    0|    0|    0|    0|    0|    0|    0|    0|    0|    0|    0|    0|    0|    0|   47|  179|  248|  239|  122|    0|    0|    0|    0|    0|    0|    0|    0|    0|    0|    0|    0|    0|    0|    0|    0|    0|   78|  192|  237|  237|  206|  237|  249|  254|  239|  123|    0|    0|    0|    0|    0|    0|    0|    0|    0|    0|    0|    0|    0|    0|    0|    0|    0|   48|  229|  254|  254|  235|  254|  254|  174|  114|   26|    0|    0|    0|    0|    0|    0|    0|    0|    0|    0|    0|    0|    0|    0|    0|    0|    0|    0|  155|  254|  132|   35|   23|   35|   35|    0|    0|    0|    0|    0|    0|    0|    0|    0|    0|    0|    0|    0|    0|    0|    0|    0|    0|    0|    0|    9|  232|  232|   23|    0|    0|    0|    0|    0|    0|    0|    0|    0|    0|    0|    0|    0|    0|    0|    0|    0|    0|    0|    0|    0|    0|    0|    0|  131|  254|  140|    0|   12|   63|   51|   27|    0|    0|    0|    0|    0|    0|    0|    0|    0|    0|    0|    0|    0|    0|    0|    0|    0|    0|    0|    0|  149|  254|  126|   61|  172|  254|  254|  254|  166|   82|   14|    0|    0|    0|    0|    0|    0|    0|    0|    0|    0|    0|    0|    0|    0|    0|    0|    0|  149|  254|  230|  254|  250|  208|  160|  245|  251|  254|  237|  135|   20|    0|    0|    0|    0|    0|    0|    0|    0|    0|    0|    0|    0|    0|    0|    0|  149|  254|  254|  241|   92|    0|    0|    0|   52|  133|  248|  254|  225|   46|    0|    0|    0|    0|    0|    0|    0|    0|    0|    0|    0|    0|    0|    0|  149|  255|  241|   61|    0|    0|    0|    0|    0|    0|   22|  153|  254|  242|   89|    0|    0|    0|    0|    0|    0|    0|    0|    0|    0|    0|    0|    0|   26|  127|   49|    0|    0|    0|    0|    0|    0|    0|    0|   20|  153|  254|  227|    0|    0|    0|    0|    0|    0|    0|    0|    0|    0|    0|    0|    0|    0|    0|    0|    0|    0|    0|    0|    0|    0|    0|    0|    0|   19|  228|  252|   57|    0|    0|    0|    0|    0|    0|    0|    0|    0|    0|    0|    0|    0|    0|    0|    0|    0|    0|    0|    0|    0|    0|    0|    0|    0|  211|  254|   61|    0|    0|    0|    0|    0|    0|    0|    0|    0|    0|    0|    0|    0|    0|    0|    0|    0|    0|    0|    0|    0|    0|    0|    0|    0|  211|  254|   61|    0|    0|    0|    0|    0|    0|    0|    0|    0|    0|    0|    0|    0|    0|    0|    0|    0|    0|    0|    0|    0|    0|    0|    0|   49|  246|  241|   32|    0|    0|    0|    0|    0|    0|    0|    0|    0|    0|    0|    0|    0|   33|  159|  105|    0|    0|    0|    0|    0|    0|    0|   42|  217|  254|  179|    0|    0|    0|    0|    0|    0|    0|    0|    0|    0|    0|    0|    0|   26|  218|  254|   71|    0|    0|    0|    0|    0|   18|  122|  248|  254|  215|   13|    0|    0|    0|    0|    0|    0|    0|    0|    0|    0|    0|    0|    0|   39|  241|  254|  208|   97|   91|   43|  128|  185|  251|  254|  252|  184|   12|    0|    0|    0|    0|    0|    0|    0|    0|    0|    0|    0|    0|    0|    0|    0|   93|  242|  254|  254|  254|  254|  254|  254|  254|  202|   71|    0|    0|    0|    0|    0|    0|    0|    0|    0|    0|    0|    0|    0|    0|    0|    0|    0|    0|    0|    0|    0|    0|    0|    0|    0|    0|    0|    0|    0|    0|    0|    0|    0|    0|    0|    0|    0|    0|    0|    0|    0|    0|    0|    0|    0|    0|    0|    0|    0|    0|    0|    0|    0|    0|    0|    0|    0|    0|    0|    0|    0|    0|    0|    0|    0|    0|    0|    0|    0|    0|    0|    0|    0|    0|    0|    0|    0|    0|    0|    0|    0|    0|    0|    0|    0|    0|    0|    0|    0|    0|    0|    0|    0|    0|    0|    0|    0|    0|    0|    0|    0|    0|    0|    0|    0|    0|    0|    0|    0|    0|    0|    0|    0|    0|    0|    0|    0|    0|    0|    0|    0|\n",
            "|  2|  0|  0|  0|  0|  0|  0|  0|  0|  0|   0|   0|   0|   0|   0|   0|   0|   0|   0|   0|   0|   0|   0|   0|   0|   0|   0|   0|   0|   0|   0|   0|   0|   0|   0|   0|   0|   0|   0|   0|   0|   0|   0|   0|   0|   0|   0|   0|   0|   0|   0|   0|   0|   0|   0|   0|   0|   0|   0|   0|   0|   0|   0|   0|   0|   0|   0|   0|   0|   0|   0|   0|   0|   0|   0|   0|   0|   0|   0|   0|   0|   0|   0|   0|   0|   0|   0|   0|   0|   0|   0|   0|   0|   0|   0|   0|   0|   0|   0|   0|    0|    0|    0|    0|    0|    0|    0|    0|    0|    0|    0|    0|    0|    0|    0|    0|    0|    0|    0|    0|    0|    0|    0|    0|    0|   16|   54|  141|  191|  255|  253|  165|   41|    0|    0|    0|    0|    0|    0|    0|    0|    0|    0|    0|    0|    0|    0|    0|    0|    0|    0|    0|    0|  216|  252|  252|  252|  253|  252|  252|  252|   76|    0|    0|    0|    0|    0|    0|    0|    0|    0|    0|    0|    0|    0|    0|    0|    0|    0|   29|  185|  253|  233|  168|   68|   56|   81|  196|  252|  210|   28|    0|    0|    0|    0|    0|    0|    0|    0|    0|    0|    0|    0|    0|    0|    0|    0|  134|  252|  241|   59|    0|    0|    0|    0|   10|  228|  253|   84|    0|    0|    0|    0|    0|    0|    0|    0|    0|    0|    0|    0|    0|    0|    0|    7|  204|  253|   51|    0|    0|    0|    0|    0|    0|  226|  254|   84|    0|    0|    0|    0|    0|    0|    0|    0|    0|    0|    0|    0|    0|    0|    0|   44|  240|  177|    0|    0|    0|    0|    0|    0|    0|  225|  253|   84|    0|    0|    0|    0|    0|    0|    0|    0|    0|    0|    0|    0|    0|    0|    0|    0|  159|  103|    0|    0|    0|    0|    0|    0|   67|  246|  231|   19|    0|    0|    0|    0|    0|    0|    0|    0|    0|    0|    0|    0|    0|    0|    0|    0|   10|    3|    0|    0|    0|    0|    0|    0|  134|  252|  175|    0|    0|    0|    0|    0|    0|    0|    0|    0|    0|    0|    0|    0|    0|    0|    0|    0|    0|    0|    0|    0|    0|    0|    0|   32|  229|  253|  101|    0|    0|    0|    0|    0|    0|    0|    0|    0|    0|    0|    0|    0|    0|    0|    0|    0|    0|    0|    0|    0|    0|    0|    7|  150|  252|  227|    0|    0|    0|    0|    0|    0|    0|    0|    0|    0|    0|    0|    0|    0|    0|    0|    0|    0|    0|    0|    0|    0|    0|    0|  117|  252|  252|  103|    0|    0|    0|    0|    0|    0|    0|    0|    0|    0|    0|    0|    0|    0|    0|    0|    0|    0|    0|    0|    0|    0|    0|    0|  241|  252|  214|   15|    0|    0|    0|    0|    0|    0|    0|    0|    0|    0|    0|    0|    0|    0|    0|   26|  141|  141|  178|  253|  204|  178|  141|  191|  254|  228|   53|    4|    0|    0|    0|    0|    0|    0|    0|    0|    0|    0|    0|    0|    0|   13|  144|  243|  253|  252|  252|  252|  253|  252|  252|  252|  253|  252|  252|  178|  108|   57|   38|    0|    0|    0|    0|    0|    0|    0|    0|    0|   10|  172|  252|  214|  156|   56|   56|   56|  106|  187|  252|  252|  206|  168|  196|  252|  253|  252|  234|   22|    0|    0|    0|    0|    0|    0|    0|    0|  128|  252|  177|   15|    0|    0|    0|    0|  176|  243|  252|  102|   13|    0|   10|   28|   28|   53|  139|   66|    0|    0|    0|    0|    0|    0|    0|    0|  141|  253|   56|    0|    0|    0|   10|  179|  254|  253|  194|   13|    0|    0|    0|    0|    0|    0|    0|    0|    0|    0|    0|    0|    0|    0|    0|    0|  141|  252|  149|    7|   57|   82|  197|  252|  253|  189|   19|    0|    0|    0|    0|    0|    0|    0|    0|    0|    0|    0|    0|    0|    0|    0|    0|    0|   44|  187|  252|  203|  253|  252|  252|  252|  106|   19|    0|    0|    0|    0|    0|    0|    0|    0|    0|    0|    0|    0|    0|    0|    0|    0|    0|    0|    0|   32|  177|  252|  253|  227|  139|   40|    0|    0|    0|    0|    0|    0|    0|    0|    0|    0|    0|    0|    0|    0|    0|    0|    0|    0|    0|    0|    0|    0|    0|    0|    0|    0|    0|    0|    0|    0|    0|    0|    0|    0|    0|    0|    0|    0|    0|    0|    0|    0|    0|    0|    0|    0|    0|    0|    0|    0|    0|    0|    0|    0|    0|    0|    0|    0|    0|    0|    0|    0|    0|    0|    0|    0|    0|    0|    0|    0|    0|    0|    0|    0|    0|    0|    0|    0|    0|    0|    0|    0|    0|    0|    0|    0|    0|    0|    0|    0|    0|    0|    0|    0|    0|    0|    0|    0|    0|    0|    0|    0|    0|    0|    0|    0|    0|    0|    0|    0|    0|    0|    0|    0|    0|    0|    0|    0|    0|    0|    0|    0|    0|    0|    0|    0|    0|    0|\n",
            "|  0|  0|  0|  0|  0|  0|  0|  0|  0|  0|   0|   0|   0|   0|   0|   0|   0|   0|   0|   0|   0|   0|   0|   0|   0|   0|   0|   0|   0|   0|   0|   0|   0|   0|   0|   0|   0|   0|   0|   0|   0|   0|   0|   0|   0|   0|   0|   0|   0|   0|   0|   0|   0|   0|   0|   0|   0|   0|   0|   0|   0|   0|   0|   0|   0|   0|   0|   0|   0|   0|   0|   0|   0|   0|   0|   0|   0|   0|   0|   0|   0|   0|   0|   0|   0|   0|   0|   0|   0|   0|   0|   0|   0|   0|   0|   0|   0|   0|   0|   0|    0|    0|    0|    0|    0|    0|    0|    0|    0|    0|    0|    0|    0|    0|    0|    0|    0|    0|    0|    0|    0|    0|    0|   10|   79|  141|  141|  229|  253|  242|  116|   19|    0|    0|    0|    0|    0|    0|    0|    0|    0|    0|    0|    0|    0|    0|    0|    0|    0|    0|   63|  197|  252|  253|  252|  252|  252|  253|  252|  224|  169|    0|    0|    0|    0|    0|    0|    0|    0|    0|    0|    0|    0|    0|    0|    0|    0|   10|  197|  252|  252|  253|  252|  252|  252|  253|  252|  252|  252|  185|   28|    0|    0|    0|    0|    0|    0|    0|    0|    0|    0|    0|    0|    0|    0|   29|  177|  103|  178|  253|  252|  252|  252|  253|  227|  139|  240|  253|   84|    0|    0|    0|    0|    0|    0|    0|    0|    0|    0|    0|    0|    0|    0|    0|    7|  154|  253|  255|  253|  244|  125|  114|   38|    0|  101|  255|  228|   44|    0|    0|    0|    0|    0|    0|    0|    0|    0|    0|    0|    0|    0|    0|  131|  252|  252|  222|  196|  130|    0|    0|    0|    0|    0|  253|  252|  168|    0|    0|    0|    0|    0|    0|    0|    0|    0|    0|    0|    0|    0|   23|  234|  252|  252|   25|    0|    0|    0|    0|    0|    0|    0|  128|  252|  168|    0|    0|    0|    0|    0|    0|    0|    0|    0|    0|    0|    0|    0|  179|  252|  252|  151|    0|    0|    0|    0|    0|    0|    0|    0|   29|  252|  243|   25|    0|    0|    0|    0|    0|    0|    0|    0|    0|    0|    0|   76|  254|  253|  206|   13|    0|    0|    0|    0|    0|    0|    0|  114|  104|  253|  253|   28|    0|    0|    0|    0|    0|    0|    0|    0|    0|    0|   57|  243|  253|  252|   93|    0|    0|    0|    0|    0|    0|    0|    0|   38|  253|  252|  233|   22|    0|    0|    0|    0|    0|    0|    0|    0|    0|    0|   85|  252|  253|  170|   13|    0|    0|    0|    0|    0|    0|    0|    0|    0|  253|  252|  234|   22|    0|    0|    0|    0|    0|    0|    0|    0|    0|    0|  134|  252|  253|   84|    0|    0|    0|    0|    0|    0|    0|    0|    0|  101|  253|  252|  177|    3|    0|    0|    0|    0|    0|    0|    0|    0|    0|    7|  204|  253|  239|   38|    0|    0|    0|    0|    0|    0|    0|    0|    0|  114|  254|  253|  168|    0|    0|    0|    0|    0|    0|    0|    0|    0|    0|   82|  252|  252|  125|    0|    0|    0|    0|    0|    0|    0|    0|    0|    0|  188|  253|  252|  168|    0|    0|    0|    0|    0|    0|    0|    0|    0|   10|  197|  252|  252|    0|    0|    0|    0|    0|    0|    0|    0|    0|    0|   67|  246|  253|  252|   80|    0|    0|    0|    0|    0|    0|    0|    0|    0|   29|  252|  252|  202|    0|    0|    0|    0|    0|    0|    0|    0|    0|    0|   47|  240|  253|  151|    6|    0|    0|    0|    0|    0|    0|    0|    0|    0|   29|  253|  253|  153|    0|    0|    0|    0|    0|    0|    0|    0|    0|   19|  104|  253|  254|   84|    0|    0|    0|    0|    0|    0|    0|    0|    0|    0|   10|  196|  252|  252|  169|  169|  169|  169|  169|   94|   57|  107|  169|  225|  252|  252|  209|   28|    0|    0|    0|    0|    0|    0|    0|    0|    0|    0|    0|  131|  252|  252|  253|  252|  252|  252|  253|  252|  252|  252|  253|  252|  252|  252|   25|    0|    0|    0|    0|    0|    0|    0|    0|    0|    0|    0|    0|    7|  116|  139|  253|  252|  252|  252|  253|  227|  177|  252|  140|  139|  139|   40|    0|    0|    0|    0|    0|    0|    0|    0|    0|    0|    0|    0|    0|    0|    0|    0|    0|    0|    0|    0|    0|    0|    0|    0|    0|    0|    0|    0|    0|    0|    0|    0|    0|    0|    0|    0|    0|    0|    0|    0|    0|    0|    0|    0|    0|    0|    0|    0|    0|    0|    0|    0|    0|    0|    0|    0|    0|    0|    0|    0|    0|    0|    0|    0|    0|    0|    0|    0|    0|    0|    0|    0|    0|    0|    0|    0|    0|    0|    0|    0|    0|    0|    0|    0|    0|    0|    0|    0|    0|    0|    0|    0|    0|    0|    0|    0|    0|    0|    0|    0|    0|    0|    0|    0|    0|    0|    0|    0|    0|    0|    0|    0|    0|    0|    0|    0|    0|    0|    0|    0|\n",
            "|  6|  0|  0|  0|  0|  0|  0|  0|  0|  0|   0|   0|   0|   0|   0|   0|   0|   0|   0|   0|   0|   0|   0|   0|   0|   0|   0|   0|   0|   0|   0|   0|   0|   0|   0|   0|   0|   0|   0|   0|   0|   0|   0|   0|   0|   0|   0|   0|   0|   0|   0|   0|   0|   0|   0|   0|   0|   0|   0|   0|   0|   0|   0|   0|   0|   0|   0|   0|   0|   0|   0|   2|  18| 129| 178|   0|   0|   0|   0|   0|   0|   0|   0|   0|   0|   0|   0|   0|   0|   0|   0|   0|   0|   0|   0|   0|   0|   0|   0|  41|  254|  246|   97|    0|    0|    0|    0|    0|    0|    0|    0|    0|    0|    0|    0|    0|    0|    0|    0|    0|    0|    0|    0|    0|    0|    0|   85|  218|  254|  115|    0|    0|    0|    0|    0|    0|    0|    0|    0|    0|    0|    0|    0|    0|    0|    0|    0|    0|    0|    0|    0|    0|    0|    0|  126|  254|  223|   20|    0|    0|    0|    0|    0|    0|    0|    0|    0|    0|    0|    0|    0|    0|    0|    0|    0|    0|    0|    0|    0|    0|    0|    0|  222|  246|   83|    0|    0|    0|    0|    0|    0|    0|    0|    0|    0|    0|    0|    0|    0|    0|    0|    0|    0|    0|    0|    0|    0|    0|    0|   96|  253|  181|    0|    0|    0|    0|    0|    0|    0|    0|    0|    0|    0|    0|    0|    0|    0|    0|    0|    0|    0|    0|    0|    0|    0|    0|    0|  221|  249|   58|    0|    0|    0|    0|    0|    0|    0|    0|    0|    0|    0|    0|    0|    0|    0|    0|    0|    0|    0|    0|    0|    0|    0|    0|   51|  242|  129|    0|    0|    0|    0|    0|    0|    0|    0|    0|    0|    0|    0|    0|    0|    0|    0|    0|    0|    0|    0|    0|    0|    0|    0|    0|  164|  254|  129|    0|    0|    0|    0|    0|    0|    0|    0|    0|    0|    0|    0|    0|    0|    0|    0|    0|    0|    0|    0|    0|    0|    0|    0|    0|  208|  255|   47|    0|    0|    0|    0|    0|    0|    0|    0|    0|    0|    0|    0|    0|    0|    0|    0|    0|    0|    0|    0|    0|    0|    0|    0|   56|  244|  172|    3|    0|    0|    0|    0|    0|    0|    0|    0|    0|    0|    0|    0|    0|    0|    0|    0|    0|    0|    0|    0|    0|    0|    0|    0|  117|  255|  147|    0|    0|    0|    0|    0|    0|    0|    0|    0|    0|    0|    0|    0|    0|    0|    0|    0|    0|    0|    0|    0|    0|    0|    0|   49|  249|  254|   40|    0|    0|    0|    0|    0|    0|    0|    0|    0|    0|    0|    0|    0|    0|    0|    0|    0|    0|    0|    0|    0|    0|    0|    0|   54|  255|  254|   29|    0|    0|    0|    0|    0|    0|    0|    0|    0|    0|    0|    0|    0|    0|    0|    0|    0|    0|    0|    0|    0|    0|    0|    0|   23|  217|  255|   29|    0|    3|   30|   79|    0|    0|    0|    0|    0|    0|   14|    0|    0|    0|    0|    0|    0|    0|    0|    0|    0|    0|    0|    0|    0|  168|  254|  107|   24|   68|  254|  118|    0|    0|    0|    0|    6|   70|  165|    0|    0|    0|    0|    0|    0|    0|    0|    0|    0|    0|    0|    0|    0|   72|  254|  225|  163|  254|  194|   22|    0|    0|    0|    0|  117|  254|  189|    0|    0|    0|    0|    0|    0|    0|    0|    0|    0|    0|    0|    0|    0|   15|  124|  254|  254|  254|  146|   25|    0|    0|    0|   43|  169|  198|   72|    0|    0|    0|    0|    0|    0|    0|    0|    0|    0|    0|    0|    0|    0|    0|   13|  140|  250|  254|  254|  230|  220|  220|  220|  238|  243|   70|    0|    0|    0|    0|    0|    0|    0|    0|    0|    0|    0|    0|    0|    0|    0|    0|    0|    0|   78|  254|  254|  227|  172|  154|  135|  135|   65|    0|    0|    0|    0|    0|    0|    0|    0|    0|    0|    0|    0|    0|    0|    0|    0|    0|    0|    0|    0|    0|    0|    0|    0|    0|    0|    0|    0|    0|    0|    0|    0|    0|    0|    0|    0|    0|    0|    0|    0|    0|    0|    0|    0|    0|    0|    0|    0|    0|    0|    0|    0|    0|    0|    0|    0|    0|    0|    0|    0|    0|    0|    0|    0|    0|    0|    0|    0|    0|    0|    0|    0|    0|    0|    0|    0|    0|    0|    0|    0|    0|    0|    0|    0|    0|    0|    0|    0|    0|    0|    0|    0|    0|    0|    0|    0|    0|    0|    0|    0|    0|    0|    0|    0|    0|    0|    0|    0|    0|    0|    0|    0|    0|    0|    0|    0|    0|    0|    0|    0|    0|    0|    0|    0|    0|    0|    0|    0|    0|    0|    0|    0|    0|    0|    0|    0|    0|    0|    0|    0|    0|    0|    0|    0|    0|    0|    0|    0|    0|    0|    0|    0|    0|    0|    0|    0|    0|    0|    0|    0|    0|    0|    0|    0|    0|    0|    0|    0|    0|    0|    0|    0|    0|    0|\n",
            "|  5|  0|  0|  0|  0|  0|  0|  0|  0|  0|   0|   0|   0|   0|   0|   0|   0|   0|   0|   0|   0|   0|   0|   0|   0|   0|   0|   0|   0|   0|   0|   0|   0|   0|   0|   0|   0|   0|   0|   0|   0|   0|   0|   0|   0|   0|   0|   0|   0|   0|   0|   0|   0|   0|   0|   0|   0|   0|   0|   0|   0|   0|   0|   0|   0|   0|   0|   0|   0|   0|   0|   0|   0|   0|   0|   0|   0|   0|   0|   0|   0|   0|   0|   0|   0|   0|   0|   0|   0|   0|   0|   0|   0|   0|   0|   0|   0|   0|   0|   0|    0|    0|    0|    0|    0|    0|    0|    0|    0|    0|    0|    0|    0|    0|    0|    0|    0|    0|    0|    0|    0|    0|    0|    0|    0|    0|    0|    0|    0|    0|    0|    0|    0|    0|    0|    0|    0|    0|    0|    0|    0|    0|    0|    0|    0|    0|    0|    0|    0|    0|    0|    0|    0|   36|  143|  143|   48|   34|   63|  143|  143|  143|  230|  253|  234|   52|    0|    0|    0|    0|    0|    0|    0|    0|    0|    0|    0|    0|    6|  138|  128|  246|  252|  252|  252|  253|  252|  252|  252|  252|  252|  252|  252|  175|    0|    0|    0|    0|    0|    0|    0|    0|    0|    0|    0|    0|  114|  252|  252|  252|  252|  252|  252|  253|  252|  252|  252|  252|  252|  248|  153|   59|    0|    0|    0|    0|    0|    0|    0|    0|    0|    0|    0|    9|  191|  252|  252|  252|  252|  252|  252|  231|  230|  230|  221|  121|   34|   10|    0|    0|    0|    0|    0|    0|    0|    0|    0|    0|    0|    0|    0|  124|  252|  252|  170|   88|   88|   88|   88|    0|    0|    0|    0|    0|    0|    0|    0|    0|    0|    0|    0|    0|    0|    0|    0|    0|    0|    0|   91|  243|  252|  233|   36|    0|    0|    0|    0|    0|    0|    0|    0|    0|    0|    0|    0|    0|    0|    0|    0|    0|    0|    0|    0|    0|    0|    0|  176|  252|  252|  200|    8|    0|    0|    0|    0|    0|    0|    0|    0|    0|    0|    0|    0|    0|    0|    0|    0|    0|    0|    0|    0|    0|    0|    0|  176|  252|  252|  252|  218|  102|   37|    0|    0|    0|    0|    0|    0|    0|    0|    0|    0|    0|    0|    0|    0|    0|    0|    0|    0|    0|    0|    0|  142|  252|  252|  252|  252|  252|  241|  153|   44|    0|    0|    0|    0|    0|    0|    0|    0|    0|    0|    0|    0|    0|    0|    0|    0|    0|    0|    0|    9|   76|  200|  252|  252|  252|  252|  252|  238|   97|    0|    0|    0|    0|    0|    0|    0|    0|    0|    0|    0|    0|    0|    0|    0|    0|    0|    0|    0|    0|    0|   25|  111|  163|  226|  253|  253|  255|  139|    0|    0|    0|    0|    0|    0|    0|    0|    0|    0|    0|    0|    0|    0|    0|    0|    0|    0|    0|    0|    0|    0|    0|   14|  158|  244|  253|  203|   12|    0|    0|    0|    0|    0|    0|    0|    0|    0|    0|    0|    0|    0|    0|    0|    0|    0|    0|    0|    0|    0|    0|    0|    0|  177|  253|  252|  173|    4|    0|    0|    0|    0|    0|    0|    0|    0|    0|    0|    0|    0|    0|    0|    0|    0|    0|    0|    0|    0|    0|    0|    0|   53|  253|  252|  252|   10|    0|    0|    0|    0|    0|    0|    0|    0|    0|    0|    0|    0|    0|    0|    0|    0|    0|    0|    0|    0|    0|    0|    0|    0|  253|  252|  252|   10|    0|    0|    0|    0|    0|    0|    0|    0|    0|    0|    0|    0|    0|    0|    0|    0|    0|    0|    0|    0|    0|    0|    0|    0|  253|  252|  252|   10|    0|    0|    0|    0|    0|    0|    0|    0|    0|    0|    0|    0|    0|    0|    2|  118|  188|   64|   12|   12|   12|   31|  122|  217|  253|  252|  252|   10|    0|    0|    0|    0|    0|    0|    0|    0|    0|    0|    0|    0|    0|    0|   34|  252|  252|  252|  252|  252|  252|  252|  252|  252|  253|  252|  172|    4|    0|    0|    0|    0|    0|    0|    0|    0|    0|    0|    0|    0|    0|    0|    9|  196|  252|  252|  252|  252|  252|  252|  252|  252|  253|  169|   12|    0|    0|    0|    0|    0|    0|    0|    0|    0|    0|    0|    0|    0|    0|    0|    0|   23|  124|  142|  142|  142|  243|  252|  252|  156|   81|   10|    0|    0|    0|    0|    0|    0|    0|    0|    0|    0|    0|    0|    0|    0|    0|    0|    0|    0|    0|    0|    0|    0|    0|    0|    0|    0|    0|    0|    0|    0|    0|    0|    0|    0|    0|    0|    0|    0|    0|    0|    0|    0|    0|    0|    0|    0|    0|    0|    0|    0|    0|    0|    0|    0|    0|    0|    0|    0|    0|    0|    0|    0|    0|    0|    0|    0|    0|    0|    0|    0|    0|    0|    0|    0|    0|    0|    0|    0|    0|    0|    0|    0|    0|    0|    0|    0|    0|    0|    0|    0|    0|    0|    0|    0|\n",
            "|  5|  0|  0|  0|  0|  0|  0|  0|  0|  0|   0|   0|   0|   0|   0|   0|   0|   0|   0|   0|   0|   0|   0|   0|   0|   0|   0|   0|   0|   0|   0|   0|   0|   0|   0|   0|   0|   0|   0|   0|   0|   0|   0|   0|   0|   0|   0|   0|   0|   0|   0|   0|   0|   0|   0|   0|   0|   0|   0|   0|   0|   0|   0|   0|   0|   0|   0|   0|   0|   0|   0|   0|   0|   0|   0|   0|   0|   0|   0|   0|   0|   0|   0|   0|   0|   0|   0|   0|   0|   0|   0|   0|   0|   0|   0|   0|   0|   0|   0|   0|    0|    0|    0|    0|    0|    0|    0|    0|    0|    0|    0|    0|    0|    0|    0|    0|    0|    0|    0|    0|    0|    0|    0|    0|    0|    0|  110|  109|  212|  253|  110|  109|   94|    0|    0|    0|    0|    0|    0|    0|    0|    0|    0|    0|    0|    0|    0|    0|    0|    0|    0|   63|   94|  217|  253|  252|  252|  252|  253|  252|  247|   93|    0|    0|    0|    0|    0|    0|    0|    0|    0|    0|    0|    0|    0|    0|    0|    0|   16|  222|  252|  252|  253|  252|  226|  215|  217|  215|  215|   92|    0|    0|    0|    0|    0|    0|    0|    0|    0|    0|    0|    0|    0|    0|    0|    0|  109|  252|  252|  252|  191|  108|   31|    0|    0|    0|    0|    0|    0|    0|    0|    0|    0|    0|    0|    0|    0|    0|    0|    0|    0|    0|    0|    0|   62|  237|  252|  252|    0|    0|    0|    0|    0|    0|    0|    0|    0|    0|    0|    0|    0|    0|    0|    0|    0|    0|    0|    0|    0|    0|    0|    0|   32|  227|  252|  210|    0|    0|    0|    0|    0|    0|    0|    0|    0|    0|    0|    0|    0|    0|    0|    0|    0|    0|    0|    0|    0|    0|    0|    1|  129|  252|  252|  108|    0|    0|    0|    0|    0|    0|    0|    0|    0|    0|    0|    0|    0|    0|    0|    0|    0|    0|    0|    0|    0|    0|    0|    1|  252|  252|  231|   46|    0|    0|    0|    0|    0|    0|    0|    0|    0|    0|    0|    0|    0|    0|    0|    0|    0|    0|    0|    0|    0|    0|    0|    1|  253|  253|  217|    0|    0|   94|  212|  253|  255|  211|  109|   47|    0|    0|    0|    0|    0|    0|    0|    0|    0|    0|    0|    0|    0|    0|    0|   42|  252|  252|  226|   73|  218|  247|  252|  252|  253|  252|  252|  148|    0|    0|    0|    0|    0|    0|    0|    0|    0|    0|    0|    0|    0|    0|    0|  144|  252|  252|  252|  252|  253|  252|  252|  231|  217|  247|  252|  252|  105|    0|    0|    0|    0|    0|    0|    0|    0|    0|    0|    0|    0|    0|    0|  144|  252|  252|  252|  252|  253|  252|  148|   46|    0|  134|  252|  252|  144|    0|    0|    0|    0|    0|    0|    0|    0|    0|    0|    0|    0|    0|    0|  145|  253|  253|  253|  191|   84|    0|    0|    0|    0|   73|  253|  253|  145|    0|    0|    0|    0|    0|    0|    0|    0|    0|    0|    0|    0|    0|    0|   20|   98|  179|  158|   15|    0|    0|    0|    0|    0|  115|  252|  252|  144|    0|    0|    0|    0|    0|    0|    0|    0|    0|    0|    0|    0|    0|    0|    0|    0|    0|    0|    0|    0|    0|    0|    0|   37|  222|  252|  252|  125|    0|    0|    0|    0|    0|    0|    0|    0|    0|    0|    0|    0|    0|    0|    0|    0|    0|    0|    0|    0|    0|    0|    0|  253|  252|  252|  168|    0|    0|    0|    0|    0|    0|    0|    0|    0|    0|    0|    0|    0|    0|    0|    0|    0|    0|    0|    0|    0|    0|   16|  191|  255|  253|  253|  108|    0|    0|    0|    0|    0|    0|    0|    0|    0|    0|    0|    0|    0|    0|    0|    0|    0|    0|   32|  217|  218|  217|  222|  252|  253|  252|  179|   15|    0|    0|    0|    0|    0|    0|    0|    0|    0|    0|    0|    0|    0|    0|    0|    0|    0|    0|   37|  252|  253|  252|  252|  252|  237|  174|   20|    0|    0|    0|    0|    0|    0|    0|    0|    0|    0|    0|    0|    0|    0|    0|    0|    0|    0|    0|   16|  190|  253|  252|  252|  252|   62|    0|    0|    0|    0|    0|    0|    0|    0|    0|    0|    0|    0|    0|    0|    0|    0|    0|    0|    0|    0|    0|    0|    0|    0|    0|    0|    0|    0|    0|    0|    0|    0|    0|    0|    0|    0|    0|    0|    0|    0|    0|    0|    0|    0|    0|    0|    0|    0|    0|    0|    0|    0|    0|    0|    0|    0|    0|    0|    0|    0|    0|    0|    0|    0|    0|    0|    0|    0|    0|    0|    0|    0|    0|    0|    0|    0|    0|    0|    0|    0|    0|    0|    0|    0|    0|    0|    0|    0|    0|    0|    0|    0|    0|    0|    0|    0|    0|    0|    0|    0|    0|    0|    0|    0|    0|    0|    0|    0|    0|    0|    0|    0|    0|    0|    0|    0|    0|    0|    0|    0|    0|    0|\n",
            "|  2|  0|  0|  0|  0|  0|  0|  0|  0|  0|   0|   0|   0|   0|   0|   0|   0|   0|   0|   0|   0|   0|   0|   0|   0|   0|   0|   0|   0|   0|   0|   0|   0|   0|   0|   0|   0|   0|   0|   0|   0|   0|   0|   0|   0|   0|   0|   0|   0|   0|   0|   0|   0|   0|   0|   0|   0|   0|   0|   0|   0|   0|   0|   0|   0|   0|   0|   0|   0|   0|   0|   0|   0|   0|   0|   0|   0|   0|   0|   0|   0|   0|   0|   0|   0|   0|   0|   0|   0|   0|   0|   0|   0|   0|   0|   0|   0|   0|   0|   0|    0|    0|    0|    0|    0|    0|    0|    0|    0|    0|    0|    0|    0|    0|    0|    0|    0|    0|    0|    0|    0|    0|    0|    0|    0|    0|    0|    0|    0|    0|    0|    0|    0|    0|    0|    0|    0|    0|    0|    0|    0|    0|    0|    0|    0|    0|    0|    0|    0|    0|   49|  238|  254|  254|  254|  254|  224|   35|    0|    0|    0|    0|    0|    0|    0|    0|    0|    0|    0|    0|    0|    0|    0|    0|    0|    0|    0|    0|   99|  253|  253|  253|  253|  253|  253|  222|   97|    0|    0|    0|    0|    0|    0|    0|    0|    0|    0|    0|    0|    0|    0|    0|    0|    0|  106|  112|  166|  253|  253|  253|  253|  253|  253|  253|  251|  137|    0|    0|    0|    0|    0|    0|    0|    0|    0|    0|    0|    0|    0|    0|    0|    0|  187|  253|  253|  253|  253|  253|  253|  253|  253|  253|  253|  230|   38|    0|    0|    0|    0|    0|    0|    0|    0|    0|    0|    0|    0|    0|    0|    0|   69|  246|  253|  253|  253|  253|  253|  253|  253|  253|  253|  238|   56|    0|    0|    0|    0|    0|    0|    0|    0|    0|    0|    0|    0|    0|    0|    0|    0|  150|  162|  162|  209|  237|  253|  253|  253|  253|  253|  248|   80|    0|    0|    0|    0|    0|    0|    0|    0|    0|    0|    0|    0|    0|    0|    0|    0|    0|    0|    0|   20|   58|  227|  253|  253|  253|  253|  240|   60|    0|    0|    0|    0|    0|    0|    0|    0|    0|    0|    0|    0|    0|    0|    0|    0|    0|    0|    0|    0|   79|  253|  253|  253|  253|  253|  214|    0|    0|    0|    0|    0|    0|    0|    0|    0|    0|    0|    0|    0|    0|    0|    0|    0|    0|    0|    0|    0|  116|  253|  253|  253|  253|  253|  177|    0|    0|    0|    0|    0|    0|    0|    0|    0|    0|    0|    0|    0|    0|    0|    0|    0|    0|    0|    0|   66|  243|  253|  253|  253|  253|  253|  151|    0|    0|    0|    0|    0|    0|    0|    0|    0|    0|    0|    0|    0|    0|    0|    0|    0|    0|    0|   52|  191|  253|  253|  253|  253|  253|  243|   65|    0|    0|    0|    0|    0|    0|    0|    0|    0|    0|    0|    0|    0|    0|    0|    0|    0|    0|   98|  244|  253|  253|  253|  253|  253|  253|  114|    0|    0|    0|    0|    0|    0|    0|    0|    0|    0|    0|    0|    0|    0|    0|    0|    0|    0|    0|  228|  253|  253|  253|  253|  253|  253|  253|  101|    0|    0|    0|    0|    0|    0|    0|    0|    0|    0|    0|    0|    0|    0|    0|    0|    0|    0|   71|  245|  253|  253|  253|  253|  253|  253|  253|  238|   77|    0|    0|    0|    0|    0|    0|    0|    0|    0|    0|    0|    0|    0|    0|    0|    0|    0|   92|  250|  253|  253|  253|  253|  253|  253|  253|  253|  239|  146|   13|    0|    0|    0|    0|    0|    0|    0|    0|    0|    0|    0|    0|    0|    0|    0|    0|  228|  253|  253|  253|  253|  199|  200|  253|  253|  253|  253|  193|  156|  148|    0|    0|    0|    0|    0|    0|    0|    0|    0|    0|    0|    0|    0|    0|  151|  253|  253|  253|  248|   54|   24|  201|  253|  253|  253|  253|  252|  154|    0|    0|    0|    0|    0|    0|    0|    0|    0|    0|    0|    0|    0|    0|   99|  253|  253|  253|  181|    0|    0|   23|  110|  197|  223|  110|  102|    0|    0|    0|    0|    0|    0|    0|    0|    0|    0|    0|    0|    0|    0|    0|   45|  233|  253|  253|  178|    0|    0|    0|    0|    0|    0|    0|    0|    0|    0|    0|    0|    0|    0|    0|    0|    0|    0|    0|    0|    0|    0|    0|    0|   45|  123|  190|   25|    0|    0|    0|    0|    0|    0|    0|    0|    0|    0|    0|    0|    0|    0|    0|    0|    0|    0|    0|    0|    0|    0|    0|    0|    0|    0|    0|    0|    0|    0|    0|    0|    0|    0|    0|    0|    0|    0|    0|    0|    0|    0|    0|    0|    0|    0|    0|    0|    0|    0|    0|    0|    0|    0|    0|    0|    0|    0|    0|    0|    0|    0|    0|    0|    0|    0|    0|    0|    0|    0|    0|    0|    0|    0|    0|    0|    0|    0|    0|    0|    0|    0|    0|    0|    0|    0|    0|    0|    0|    0|    0|    0|    0|    0|    0|    0|    0|    0|\n",
            "|  7|  0|  0|  0|  0|  0|  0|  0|  0|  0|   0|   0|   0|   0|   0|   0|   0|   0|   0|   0|   0|   0|   0|   0|   0|   0|   0|   0|   0|   0|   0|   0|   0|   0|   0|   0|   0|   0|   0|   0|   0|   0|   0|   0|   0|   0|   0|   0|   0|   0|   0|   0|   0|   0|   0|   0|   0|   0|   0|   0|   0|   0|   0|   0|   0|   0|   0|   0|   0|   0|   0|   0|   0|   0|   0|   0|   0|   0|   0|   0|   0|   0|   0|   0|   0|   0|   0|   0|   0|   0|   0|   0|   0|   0|   0|   0|   0|   0|   0|   0|    0|    0|    0|    0|    0|    0|    0|    0|    0|    0|    0|    0|    0|    0|    0|    0|    0|    0|    0|    0|    0|    0|    0|    0|    0|    0|    0|    0|    0|    0|    0|    0|    0|    0|    0|    0|    0|    0|    0|    0|    0|    0|    0|    0|    0|    0|    0|    0|    0|    0|    0|    0|    0|    0|    0|    0|    0|    0|    0|    0|    0|    0|    0|    0|    0|    0|    0|    0|    0|    0|    0|    0|    0|    0|    0|    0|    0|    0|    0|    0|    0|    0|    0|    0|    0|    0|    0|    0|    0|    0|    0|    0|    0|    0|    0|    0|    0|    0|    0|    0|    0|    0|    0|    0|    0|    0|    0|  152|  233|  254|  172|   92|   51|    0|    0|    0|    0|    0|    0|    0|    0|    0|    0|    0|    0|    0|    0|    0|    0|    0|    0|    0|    0|   21|  142|  253|  252|  253|  252|  253|  252|  123|    0|    0|    0|    0|    0|    0|    0|    0|    0|    0|    0|    0|    0|    0|    0|    0|    0|    0|   21|  173|  253|  254|  253|  254|  253|  254|  253|  234|  112|  152|  152|  123|    0|    0|    0|    0|    0|    0|    0|    0|    0|    0|    0|    0|    0|  123|  223|  253|  252|  253|  252|  233|  151|  151|  232|  253|  252|  253|  252|  243|   40|    0|    0|    0|    0|    0|    0|    0|    0|    0|    0|    0|    0|  173|  253|  254|  253|  224|  122|   41|    0|    0|    0|  102|  203|  254|  253|  255|  233|    0|    0|    0|    0|    0|    0|    0|    0|    0|    0|    0|    0|  131|  252|  253|  212|   20|    0|    0|    0|    0|    0|    0|   61|  253|  252|  253|  232|    0|    0|    0|    0|    0|    0|    0|    0|    0|    0|    0|    0|   21|  102|   41|    0|    0|    0|    0|    0|    0|    0|   92|  253|  254|  253|  224|   40|    0|    0|    0|    0|    0|    0|    0|    0|    0|    0|    0|    0|    0|    0|    0|    0|    0|    0|    0|    0|    0|    0|  253|  252|  253|  252|  142|    0|    0|    0|    0|    0|    0|    0|    0|    0|    0|    0|    0|    0|    0|    0|    0|    0|    0|    0|    0|    0|   11|  173|  254|  253|  254|  192|    0|    0|    0|    0|    0|    0|    0|    0|    0|    0|    0|    0|    0|    0|    0|    0|    0|    0|    0|    0|    0|    0|  132|  252|  253|  252|  172|   30|    0|    0|    0|    0|    0|    0|    0|    0|    0|    0|    0|    0|    0|    0|    0|    0|    0|    0|    0|    0|    0|   82|  254|  253|  254|  213|   41|    0|    0|    0|    0|    0|    0|    0|    0|    0|    0|    0|    0|    0|    0|    0|    0|    0|    0|    0|    0|    0|   62|  223|  253|  252|  192|   30|    0|    0|    0|    0|    0|    0|    0|    0|    0|    0|    0|    0|    0|    0|    0|    0|    0|    0|    0|    0|    0|    0|  132|  253|  254|  253|   41|    0|    0|    0|    0|    0|    0|    0|    0|    0|    0|    0|    0|    0|    0|    0|    0|    0|    0|    0|    0|    0|    0|    0|  253|  252|  253|  171|    0|    0|    0|    0|    0|    0|    0|    0|    0|    0|    0|    0|    0|    0|    0|    0|    0|    0|    0|    0|    0|    0|    0|  142|  254|  253|  224|   20|    0|    0|    0|    0|    0|    0|    0|    0|    0|    0|    0|    0|    0|    0|    0|    0|    0|    0|    0|    0|    0|    0|   21|  203|  253|  252|   40|    0|    0|    0|    0|    0|    0|    0|    0|    0|    0|    0|    0|    0|    0|    0|    0|    0|    0|    0|    0|    0|    0|    0|  152|  253|  254|  213|    0|    0|    0|    0|    0|    0|    0|    0|    0|    0|    0|    0|    0|    0|    0|    0|    0|    0|    0|    0|    0|    0|    0|    0|  233|  252|  253|   90|    0|    0|    0|    0|    0|    0|    0|    0|    0|    0|    0|    0|    0|    0|    0|    0|    0|    0|    0|    0|    0|    0|    0|    0|  214|  253|  163|   20|    0|    0|    0|    0|    0|    0|    0|    0|    0|    0|    0|    0|    0|    0|    0|    0|    0|    0|    0|    0|    0|    0|    0|    0|  213|  252|  102|    0|    0|    0|    0|    0|    0|    0|    0|    0|    0|    0|    0|    0|    0|    0|    0|    0|    0|    0|    0|    0|    0|    0|    0|    0|    0|    0|    0|    0|    0|    0|    0|    0|    0|    0|    0|    0|    0|    0|    0|    0|    0|    0|\n",
            "|  7|  0|  0|  0|  0|  0|  0|  0|  0|  0|   0|   0|   0|   0|   0|   0|   0|   0|   0|   0|   0|   0|   0|   0|   0|   0|   0|   0|   0|   0|   0|   0|   0|   0|   0|   0|   0|   0|   0|   0|   0|   0|   0|   0|   0|   0|   0|   0|   0|   0|   0|   0|   0|   0|   0|   0|   0|   0|   0|   0|   0|   0|   0|   0|   0|   0|   0|   0|   0|   0|   0|   0|   0|   0|   0|   0|   0|   0|   0|   0|   0|   0|   0|   0|   0|   0|   0|   0|   0|   0|   0|   0|   0|   0|   0|   0|   0|   0|   0|   0|    0|    0|    0|    0|    0|    0|    0|    0|    0|    0|    0|    0|    0|    0|    0|    0|    0|    0|    0|    0|    0|    0|    0|    0|    0|    0|    0|    0|    0|    0|    0|    0|    0|    0|    0|    0|    0|    0|    0|    0|    0|    0|    0|    0|    0|    0|    0|    0|    0|    0|    0|    0|    0|    0|    0|    0|    0|    0|    0|    0|    0|    0|    0|    0|    0|    0|    0|    0|    0|    0|    0|    0|    0|    0|    0|    0|    0|    0|    0|    0|    0|    0|    0|    0|    0|    3|   94|  247|  177|   72|    0|    0|    0|    0|    0|    0|    0|    0|    0|    0|    0|    0|    0|    0|    0|    0|    0|    0|    0|    0|   28|   63|  180|  226|  253|  253|  253|  243|    8|    0|    0|    0|    0|    0|    0|    0|    0|    0|    0|    0|    0|    0|    3|   97|  104|  104|  194|  197|  238|  254|  253|  253|  253|  253|  253|  249|    9|    0|    0|    0|    0|    0|    0|    0|    0|    0|    0|    0|    0|    0|  104|  253|  253|  253|  253|  253|  253|  254|  253|  253|  253|  253|  253|  106|    0|    0|    0|    0|    0|    0|    0|    0|    0|    0|    0|    0|    0|    0|  117|  253|  253|  253|  253|  253|  235|  147|  112|  187|  253|  253|  249|   61|    0|    0|    0|    0|    0|    0|    0|    0|    0|    0|    0|    0|    0|    0|   14|  221|  234|  167|  140|   95|   29|    0|   17|  222|  253|  253|  185|    0|    0|    0|    0|    0|    0|    0|    0|    0|    0|    0|    0|    0|    0|    0|    0|    0|    0|    0|    0|    0|    0|    0|   70|  253|  253|  237|   31|    0|    0|    0|    0|    0|    0|    0|    0|    0|    0|    0|    0|    0|    0|    0|    0|    0|    0|    0|    0|    0|    0|   15|  228|  253|  253|   95|    0|    0|    0|    0|    0|    0|    0|    0|    0|    0|    0|    0|    0|    0|    0|    0|    0|    0|    0|    0|    0|    0|    0|   87|  253|  253|  253|   45|   71|   56|   12|    0|    0|    0|    0|    0|    0|    0|    0|    0|    0|    0|    0|    0|   63|   95|   25|   95|   95|  174|  188|  254|  253|  253|  253|  253|  253|  253|  137|    0|    0|    0|    0|    0|    0|    0|    0|    0|    0|    0|   63|  254|  254|  254|  254|  254|  254|  254|  254|  255|  254|  254|  254|  254|  254|  254|  254|   37|    0|    0|    0|    0|    0|    0|    0|    0|    0|    0|  131|  253|  253|  253|  253|  253|  253|  253|  253|  254|  247|  215|  187|  208|  215|  215|  104|    4|    0|    0|    0|    0|    0|    0|    0|    0|    0|    0|   57|  247|  253|  244|  166|  119|   56|  154|  253|  254|  176|    0|    0|    0|    0|    0|    0|    0|    0|    0|    0|    0|    0|    0|    0|    0|    0|    0|    0|   35|   84|    6|    0|    0|   17|  227|  253|  234|   51|    0|    0|    0|    0|    0|    0|    0|    0|    0|    0|    0|    0|    0|    0|    0|    0|    0|    0|    0|    0|    0|    0|    0|  143|  253|  253|  170|    0|    0|    0|    0|    0|    0|    0|    0|    0|    0|    0|    0|    0|    0|    0|    0|    0|    0|    0|    0|    0|    0|    0|    0|  157|  253|  253|   95|    0|    0|    0|    0|    0|    0|    0|    0|    0|    0|    0|    0|    0|    0|    0|    0|    0|    0|    0|    0|    0|    0|    0|   60|  250|  253|  253|  160|    0|    0|    0|    0|    0|    0|    0|    0|    0|    0|    0|    0|    0|    0|    0|    0|    0|    0|    0|    0|    0|    0|    0|   85|  253|  253|  253|  188|    0|    0|    0|    0|    0|    0|    0|    0|    0|    0|    0|    0|    0|    0|    0|    0|    0|    0|    0|    0|    0|    0|    0|   13|  245|  253|  253|  188|    0|    0|    0|    0|    0|    0|    0|    0|    0|    0|    0|    0|    0|    0|    0|    0|    0|    0|    0|    0|    0|    0|    0|    0|  119|  169|  183|   49|    0|    0|    0|    0|    0|    0|    0|    0|    0|    0|    0|    0|    0|    0|    0|    0|    0|    0|    0|    0|    0|    0|    0|    0|    0|    0|    0|    0|    0|    0|    0|    0|    0|    0|    0|    0|    0|    0|    0|    0|    0|    0|    0|    0|    0|    0|    0|    0|    0|    0|    0|    0|    0|    0|    0|    0|    0|    0|    0|    0|    0|    0|    0|    0|    0|    0|    0|    0|    0|\n",
            "|  6|  0|  0|  0|  0|  0|  0|  0|  0|  0|   0|   0|   0|   0|   0|   0|   0|   0|   0|   0|   0|   0|   0|   0|   0|   0|   0|   0|   0|   0|   0|   0|   0|   0|   0|   0|   0|   0|   0|   0|   0|   0|   0|   0|   0|   0|   0|   0|   0|   0|   0|   0|   0|   0|   0|   0|   0|   0|   0|   0|   0|   0|   0|   0|   0|   0|   0|   7| 154|  91|   0|   0|   0|   0|   0|   0|   0|   0|   0|   0|   0|   0|   0|   0|   0|   0|   0|   0|   0|   0|   0|   0|   0|   0|   0| 131| 252| 115|   0|   0|    0|    0|    0|    0|    0|    0|    0|    0|    0|    0|    0|    0|    0|    0|    0|    0|    0|    0|    0|    0|    0|    0|   23|  234|  186|    6|    0|    0|    0|    0|    0|    0|    0|    0|    0|    0|    0|    0|    0|    0|    0|    0|    0|    0|    0|    0|    0|    0|    0|    0|   79|  252|  168|    0|    0|    0|    0|    0|    0|    0|    0|    0|    0|    0|    0|    0|    0|    0|    0|    0|    0|    0|    0|    0|    0|    0|    0|    0|  255|  253|   56|    0|    0|    0|    0|    0|    0|    0|    0|    0|    0|    0|    0|    0|    0|    0|    0|    0|    0|    0|    0|    0|    0|    0|    0|    0|  253|  214|   19|    0|    0|    0|    0|    0|    0|    0|    0|    0|    0|    0|    0|    0|    0|    0|    0|    0|    0|    0|    0|    0|    0|    0|    0|   38|  253|  158|    0|    0|    0|    0|    0|    0|    0|    0|    0|    0|    0|    0|    0|    0|    0|    0|    0|    0|    0|    0|    0|    0|    0|    0|    0|  113|  253|   84|    0|    0|    0|    0|    0|    0|    0|    0|    0|    0|    0|    0|    0|    0|    0|    0|    0|    0|    0|    0|    0|    0|    0|    0|    0|  176|  254|   84|    0|    0|    0|    0|    0|    0|    0|    0|   60|  141|   29|   29|    7|    0|    0|    0|    0|    0|    0|    0|    0|    0|    0|    0|    0|  225|  253|   84|    0|    0|    7|   57|   95|  169|  169|  169|  234|  252|  253|  252|  130|    0|    0|    0|    0|    0|    0|    0|    0|    0|    0|    0|    0|  225|  244|   56|    0|   76|  204|  252|  252|  252|  253|  252|  224|  168|  178|  252|  234|   59|    0|    0|    0|    0|    0|    0|    0|    0|    0|    0|    0|  225|  225|   26|  150|  249|  253|  227|  139|   40|   28|   28|   19|    0|    4|  103|  228|  190|    0|    0|    0|    0|    0|    0|    0|    0|    0|    0|   85|  253|  254|  253|  244|  175|    0|    0|    0|    0|    0|    0|    0|    0|    0|    0|   85|  253|    0|    0|    0|    0|    0|    0|    0|    0|    0|    0|   85|  252|  253|  240|   81|    0|    0|    0|    0|    0|    0|    0|    0|    0|    0|   13|  172|  227|    0|    0|    0|    0|    0|    0|    0|    0|    0|   19|  191|  252|  253|  196|    0|    0|    0|    0|    0|    0|    0|    0|    0|    0|   48|  123|  224|   43|    0|    0|    0|    0|    0|    0|    0|    0|   13|  194|  214|  139|  253|  246|  100|    0|    0|    0|    0|    0|    0|    0|   38|  113|  241|  227|   43|    0|    0|    0|    0|    0|    0|    0|    0|    0|  204|  209|   76|    0|   76|  244|  216|   41|    0|    0|    0|    0|    0|   19|  154|  253|  239|   38|    0|    0|    0|    0|    0|    0|    0|    0|    0|    0|  247|   65|    0|    0|    0|  144|  252|  252|  169|  169|  131|   57|  169|  225|  252|  227|   75|    0|    0|    0|    0|    0|    0|    0|    0|    0|    0|    0|  100|    0|    0|    0|    0|   13|  171|  252|  253|  252|  252|  252|  253|  252|  186|   31|    0|    0|    0|    0|    0|    0|    0|    0|    0|    0|    0|    0|    0|    0|    0|    0|    0|    0|   10|   78|  140|  215|  214|  139|  140|  115|   19|    0|    0|    0|    0|    0|    0|    0|    0|    0|    0|    0|    0|    0|    0|    0|    0|    0|    0|    0|    0|    0|    0|    0|    0|    0|    0|    0|    0|    0|    0|    0|    0|    0|    0|    0|    0|    0|    0|    0|    0|    0|    0|    0|    0|    0|    0|    0|    0|    0|    0|    0|    0|    0|    0|    0|    0|    0|    0|    0|    0|    0|    0|    0|    0|    0|    0|    0|    0|    0|    0|    0|    0|    0|    0|    0|    0|    0|    0|    0|    0|    0|    0|    0|    0|    0|    0|    0|    0|    0|    0|    0|    0|    0|    0|    0|    0|    0|    0|    0|    0|    0|    0|    0|    0|    0|    0|    0|    0|    0|    0|    0|    0|    0|    0|    0|    0|    0|    0|    0|    0|    0|    0|    0|    0|    0|    0|    0|    0|    0|    0|    0|    0|    0|    0|    0|    0|    0|    0|    0|    0|    0|    0|    0|    0|    0|    0|    0|    0|    0|    0|    0|    0|    0|    0|    0|    0|    0|    0|    0|    0|    0|    0|    0|    0|    0|    0|    0|    0|    0|    0|    0|    0|    0|    0|    0|    0|\n",
            "|  8|  0|  0|  0|  0|  0|  0|  0|  0|  0|   0|   0|   0|   0|   0|   0|   0|   0|   0|   0|   0|   0|   0|   0|   0|   0|   0|   0|   0|   0|   0|   0|   0|   0|   0|   0|   0|   0|   0|   0|   0|   0|   0|   0|   0|   0|   0|   0|   0|   0|   0|   0|   0|   0|   0|   0|   0|   0|   0|   0|   0|   0|   0|   0|   0|   0|   0|   0|   0|   0|   0|   0|   0|   0|   0|   0|   0|   0|   0|   0|   0|   0|   0|   0|   0|   0|   0|   0|   0|   0|   0|   0|   0|   0|   0|   0|   0|   0|   0|   0|    0|    0|    0|    0|    0|    0|    0|    0|    0|    0|    0|    0|    0|    0|    0|    0|    0|    0|    0|    0|    0|    0|    0|    0|    0|    0|    0|    0|    0|    0|    0|    0|    0|    0|    0|    0|    0|    0|    0|    0|    0|    0|    0|    0|    0|    0|    0|    0|    0|    0|    0|    0|    0|    0|    0|    0|    0|    0|    0|    0|    0|    0|    0|    0|    0|    0|    0|    0|    0|    0|    0|    0|    0|    0|    0|    0|    0|    0|    0|    0|   13|  153|  220|  255|  254|  197|    0|    0|    0|    0|    0|    0|    0|    0|    0|    0|    0|    0|    0|    0|    0|    0|    0|    0|    0|    0|    0|   55|  193|  253|  253|  254|  253|  213|    0|    0|    0|    0|    0|    0|    0|    0|    0|    0|    0|    0|    0|    0|    0|    0|    0|    0|    0|    0|    0|  203|  253|  234|  196|  138|  200|  213|    0|    0|    0|    0|    9|    9|    0|    0|    0|    0|    0|    0|    0|    0|    0|    0|    0|    0|    0|    0|  102|  254|  151|   13|    0|    0|   38|   96|    0|    0|   17|  134|  209|  185|    9|    0|    0|    0|    0|    0|    0|    0|    0|    0|    0|    0|    0|    7|  204|  160|    0|    0|    0|    0|    0|    0|    0|   70|  212|  254|  254|  185|    9|    0|    0|    0|    0|    0|    0|    0|    0|    0|    0|    0|    0|   24|  253|  176|    0|    0|    0|    0|    0|   38|  147|  245|  253|  248|  139|    9|    0|    0|    0|    0|    0|    0|    0|    0|    0|    0|    0|    0|    0|    5|  188|  241|   19|    0|    0|    0|  155|  245|  253|  254|  164|   42|    0|    0|    0|    0|    0|    0|    0|    0|    0|    0|    0|    0|    0|    0|    0|    0|   25|  254|   90|    0|    0|  151|  247|  210|  160|   69|    6|    0|    0|    0|    0|    0|    0|    0|    0|    0|    0|    0|    0|    0|    0|    0|    0|    0|    0|  104|  254|  136|  170|  254|  241|  101|    0|    0|    0|    0|    0|    0|    0|    0|    0|    0|    0|    0|    0|    0|    0|    0|    0|    0|    0|    0|    0|    7|  216|  253|  253|  165|   60|    0|    0|    0|    0|    0|    0|    0|    0|    0|    0|    0|    0|    0|    0|    0|    0|    0|    0|    0|    0|    0|    0|    0|   63|  253|  253|   93|    0|    0|    0|    0|    0|    0|    0|    0|    0|    0|    0|    0|    0|    0|    0|    0|    0|    0|    0|    0|    0|    0|    0|    0|  114|  253|  253|  127|    0|    0|    0|    0|    0|    0|    0|    0|    0|    0|    0|    0|    0|    0|    0|    0|    0|    0|    0|    0|    0|    0|    0|    0|  231|  113|   68|  254|  115|    0|    0|    0|    0|    0|    0|    0|    0|    0|    0|    0|    0|    0|    0|    0|    0|    0|    0|    0|    0|    0|    0|    0|  222|   38|    0|  120|  139|   26|    0|    0|    0|    0|    0|    0|    0|    0|    0|    0|    0|    0|    0|    0|    0|    0|    0|    0|    0|    0|    0|    0|  184|    0|    0|   13|  188|  133|    0|    0|    0|    0|    0|    0|    0|    0|    0|    0|    0|    0|    0|    0|    0|    0|    0|    0|    0|    0|    0|    0|  218|   34|    0|    0|  110|   42|    0|    0|    0|    0|    0|    0|    0|    0|    0|    0|    0|    0|    0|    0|    0|    0|    0|    0|    0|    0|    0|    0|  231|   46|    0|    0|  139|  138|    0|    0|    0|    0|    0|    0|    0|    0|    0|    0|    0|    0|    0|    0|    0|    0|    0|    0|    0|    0|    0|    0|  163|  159|  138|  139|  235|  137|    0|    0|    0|    0|    0|    0|    0|    0|    0|    0|    0|    0|    0|    0|    0|    0|    0|    0|    0|    0|    0|    0|   42|  249|  253|  254|  248|   92|    0|    0|    0|    0|    0|    0|    0|    0|    0|    0|    0|    0|    0|    0|    0|    0|    0|    0|    0|    0|    0|    0|    0|  140|  253|  254|  106|    0|    0|    0|    0|    0|    0|    0|    0|    0|    0|    0|    0|    0|    0|    0|    0|    0|    0|    0|    0|    0|    0|    0|    0|    0|    0|    0|    0|    0|    0|    0|    0|    0|    0|    0|    0|    0|    0|    0|    0|    0|    0|    0|    0|    0|    0|    0|    0|    0|    0|    0|    0|    0|    0|    0|    0|    0|    0|    0|    0|    0|    0|    0|    0|    0|    0|    0|    0|\n",
            "|  9|  0|  0|  0|  0|  0|  0|  0|  0|  0|   0|   0|   0|   0|   0|   0|   0|   0|   0|   0|   0|   0|   0|   0|   0|   0|   0|   0|   0|   0|   0|   0|   0|   0|   0|   0|   0|   0|   0|   0|   0|   0|   0|   0|   0|   0|   0|   0|   0|   0|   0|   0|   0|   0|   0|   0|   0|   0|   0|   0|   0|   0|   0|   0|   0|   0|   0|   0|   0|   0|   0|   0|   0|   0|   0|   0|   0|   0|   0|   0|   0|   0|   0|   0|   0|   0|   0|   0|   0|   0|   0|   0|   0|   0|   0|   0|   0|   0|   0|   0|    0|    0|    0|    0|    0|    0|    0|    0|    0|    0|    0|    0|    0|    0|    0|    0|    0|    0|    0|    0|    0|    0|    0|    0|    0|    0|    0|    0|    0|    0|    0|    0|    0|    0|    0|    0|    0|    0|    0|    0|    0|    0|    0|    0|    0|    0|    0|    0|    0|    0|    0|    0|    0|    0|    0|    0|    0|    0|    0|    0|    0|    0|    0|    0|    0|    0|    0|    0|    0|    0|    0|    0|    0|    0|    0|    0|    0|    0|    0|    0|    0|    0|    0|    0|    0|    0|    0|    0|    0|    0|    0|    0|    0|    0|    0|    0|    0|    0|    0|    0|    0|    0|    0|    0|    0|    0|    0|    0|    0|    0|   82|  214|  253|  254|   71|    0|    0|    0|    0|    0|    0|    0|    0|    0|    0|    0|    0|    0|    0|    0|    0|    0|    0|    0|    0|    0|   82|  163|  243|  253|  252|  253|  232|    0|    0|    0|    0|    0|    0|    0|    0|    0|    0|    0|    0|    0|    0|    0|    0|    0|    0|    0|    0|  113|  233|  254|  253|  203|  203|  254|  253|   62|    0|    0|    0|    0|    0|    0|    0|    0|    0|    0|    0|    0|    0|    0|    0|    0|    0|    0|    0|  253|  252|  192|   70|    0|    0|  172|  252|  102|    0|    0|    0|    0|    0|    0|    0|    0|    0|    0|    0|    0|    0|    0|    0|    0|    0|    0|  102|  254|  192|   41|    0|    0|    0|  214|  253|  123|    0|    0|    0|    0|    0|    0|    0|    0|    0|    0|    0|    0|    0|    0|    0|    0|    0|    0|  183|  253|  192|    0|    0|    0|    0|  253|  252|  162|    0|    0|    0|    0|    0|    0|    0|    0|    0|    0|    0|    0|    0|    0|    0|    0|    0|    0|  183|  254|  253|  193|  112|  132|  173|  254|  253|  102|    0|    0|    0|    0|    0|    0|    0|    0|    0|    0|    0|    0|    0|    0|    0|    0|    0|    0|   20|  253|  252|  253|  252|  253|  252|  253|  252|   61|    0|    0|    0|    0|    0|    0|    0|    0|    0|    0|    0|    0|    0|    0|    0|    0|    0|    0|    0|   21|  102|  203|  223|  183|  102|  254|  192|    0|    0|    0|    0|    0|    0|    0|    0|    0|    0|    0|    0|    0|    0|    0|    0|    0|    0|    0|    0|    0|    0|    0|   20|    0|   82|  253|  151|    0|    0|    0|    0|    0|    0|    0|    0|    0|    0|    0|    0|    0|    0|    0|    0|    0|    0|    0|    0|    0|    0|    0|    0|    0|  102|  254|   50|    0|    0|    0|    0|    0|    0|    0|    0|    0|    0|    0|    0|    0|    0|    0|    0|    0|    0|    0|    0|    0|    0|    0|    0|    0|  183|  253|   50|    0|    0|    0|    0|    0|    0|    0|    0|    0|    0|    0|    0|    0|    0|    0|    0|    0|    0|    0|    0|    0|    0|    0|    0|   51|  253|  244|   40|    0|    0|    0|    0|    0|    0|    0|    0|    0|    0|    0|    0|    0|    0|    0|    0|    0|    0|    0|    0|    0|    0|    0|    0|   51|  252|  122|    0|    0|    0|    0|    0|    0|    0|    0|    0|    0|    0|    0|    0|    0|    0|    0|    0|    0|    0|    0|    0|    0|    0|    0|    0|  113|  253|  102|    0|    0|    0|    0|    0|    0|    0|    0|    0|    0|    0|    0|    0|    0|    0|    0|    0|    0|    0|    0|    0|    0|    0|    0|    0|  152|  252|   61|    0|    0|    0|    0|    0|    0|    0|    0|    0|    0|    0|    0|    0|    0|    0|    0|    0|    0|    0|    0|    0|    0|    0|    0|   21|  255|  253|    0|    0|    0|    0|    0|    0|    0|    0|    0|    0|    0|    0|    0|    0|    0|    0|    0|    0|    0|    0|    0|    0|    0|    0|    0|  102|  253|  252|    0|    0|    0|    0|    0|    0|    0|    0|    0|    0|    0|    0|    0|    0|    0|    0|    0|    0|    0|    0|    0|    0|    0|    0|    0|  103|  255|  233|    0|    0|    0|    0|    0|    0|    0|    0|    0|    0|    0|    0|    0|    0|    0|    0|    0|    0|    0|    0|    0|    0|    0|    0|    0|  102|  213|   30|    0|    0|    0|    0|    0|    0|    0|    0|    0|    0|    0|    0|    0|    0|    0|    0|    0|    0|    0|    0|    0|    0|    0|    0|    0|    0|    0|    0|    0|    0|    0|    0|    0|    0|    0|    0|    0|    0|    0|    0|\n",
            "|  3|  0|  0|  0|  0|  0|  0|  0|  0|  0|   0|   0|   0|   0|   0|   0|   0|   0|   0|   0|   0|   0|   0|   0|   0|   0|   0|   0|   0|   0|   0|   0|   0|   0|   0|   0|   0|   0|   0|   0|   0|   0|   0|   0|   0|   0|   0|   0|   0|   0|   0|   0|   0|   0|   0|   0|   0|   0|   0|   0|   0|   0|   0|   0|   0|   0|   0|   0|   0|   0|   0|   0|   0|   0|   0|   0|   0|   0|   0|   0|   0|   0|   0|   0|   0|   0|   0|   0|   0|   0|   0|   0|   0|   0|   0|   0|   0|   0|   0|   0|    0|    0|    0|    0|    0|    0|    0|    0|    0|    0|    0|    0|    0|    0|    0|    0|    0|    0|    0|    0|    0|    0|    0|    0|    0|    0|    0|    0|    0|   62|   50|  105|  210|  253|   76|    0|    0|    0|    0|    0|    0|    0|    0|    0|    0|    0|    0|    0|    0|    0|    0|    0|    0|    0|    0|    0|   85|  234|  229|  252|  252|  252|  236|   84|    0|    0|    0|    0|    0|    0|    0|    0|    0|    0|    0|    0|    0|    0|    0|    0|    0|    0|    0|    0|  208|  252|  252|  252|  252|  252|  252|  236|   67|    0|    0|    0|    0|    0|    0|    0|    0|    0|    0|    0|    0|    0|    0|    0|    0|    0|    0|    0|  208|  252|  252|  252|  252|  252|  252|  252|  103|    0|    0|    0|    0|    0|    0|    0|    0|    0|    0|    0|    0|    0|    0|    0|    0|    0|    0|    0|   59|  225|  252|  252|  252|  252|  252|  238|   73|    0|    0|    0|    0|    0|    0|    0|    0|    0|    0|    0|    0|    0|    0|    0|    0|    0|    0|    0|    0|  164|  252|  252|  252|  252|  252|  207|    0|    0|    0|    0|    0|    0|    0|    0|    0|    0|    0|    0|    0|    0|    0|    0|   80|    0|    0|   56|  134|  210|  252|  252|  252|  252|  252|  128|    0|    0|    0|    0|    0|    0|    0|    0|    0|    0|    0|    0|    0|    0|   64|  168|  246|  238|  238|  245|  252|  252|  252|  252|  252|  252|  115|    4|    0|    0|    0|    0|    0|    0|    0|    0|    0|    0|    0|    0|    0|    0|  178|  252|  252|  252|  252|  253|  252|  252|  252|  252|  202|   59|    4|    0|    0|    0|    0|    0|    0|    0|    0|    0|    0|    0|    0|    0|    0|    0|  178|  252|  252|  252|  252|  253|  252|  252|  252|  252|   74|    0|    0|    0|    0|    0|    0|    0|    0|    0|    0|    0|    0|    0|    0|    0|    0|   45|  223|  253|  253|  253|  253|  255|  253|  253|  253|  253|   74|    0|    0|    0|    0|    0|    0|    0|    0|    0|    0|    0|    0|    0|    0|    0|    0|    0|  136|  224|  230|  192|  192|  193|  192|  231|  252|  207|   30|    0|    0|    0|    0|    0|    0|    0|    0|    0|    0|    0|    0|    0|    0|    0|    0|    0|    0|   47|   57|    0|    0|    0|    4|  169|  252|  252|  161|    0|    0|    0|    0|    0|    0|    0|    0|    0|    0|    0|    0|    0|    0|    0|    0|    0|    0|    0|    0|    0|    0|    0|   60|  252|  252|  252|   74|    0|    0|    0|    0|    0|    0|    0|    0|    0|    0|    0|    0|  224|  101|   27|    0|    0|    0|   40|   49|   40|  135|  136|  230|  252|  252|  141|    9|    0|    0|    0|    0|    0|    0|    0|    0|    0|    0|    0|    0|  253|  252|  202|  163|   47|   27|  203|  226|  191|  252|  253|  252|  250|  222|   25|    0|    0|    0|    0|    0|    0|    0|    0|    0|    0|    0|    0|    0|  253|  252|  245|  189|  252|  168|  196|  252|  252|  252|  253|  252|  157|    0|    0|    0|    0|    0|    0|    0|    0|    0|    0|    0|    0|    0|    0|    0|  253|  252|  252|  252|  252|  252|  252|  252|  252|  252|  216|  128|    5|    0|    0|    0|    0|    0|    0|    0|    0|    0|    0|    0|    0|    0|    0|    0|  227|  252|  252|  252|  252|  252|  252|  252|  217|  207|  123|    0|    0|    0|    0|    0|    0|    0|    0|    0|    0|    0|    0|    0|    0|    0|    0|    0|   43|  191|  199|  252|  120|  103|  103|  191|   24|    0|    0|    0|    0|    0|    0|    0|    0|    0|    0|    0|    0|    0|    0|    0|    0|    0|    0|    0|    0|    0|    0|    0|    0|    0|    0|    0|    0|    0|    0|    0|    0|    0|    0|    0|    0|    0|    0|    0|    0|    0|    0|    0|    0|    0|    0|    0|    0|    0|    0|    0|    0|    0|    0|    0|    0|    0|    0|    0|    0|    0|    0|    0|    0|    0|    0|    0|    0|    0|    0|    0|    0|    0|    0|    0|    0|    0|    0|    0|    0|    0|    0|    0|    0|    0|    0|    0|    0|    0|    0|    0|    0|    0|    0|    0|    0|    0|    0|    0|    0|    0|    0|    0|    0|    0|    0|    0|    0|    0|    0|    0|    0|    0|    0|    0|    0|    0|    0|    0|    0|    0|    0|    0|    0|    0|    0|    0|\n",
            "|  5|  0|  0|  0|  0|  0|  0|  0|  0|  0|   0|   0|   0|   0|   0|   0|   0|   0|   0|   0|   0|   0|   0|   0|   0|   0|   0|   0|   0|   0|   0|   0|   0|   0|   0|   0|   0|   0|   0|   0|   0|   0|   0|   0|   0|   0|   0|   0|   0|   0|   0|   0|   0|   0|   0|   0|   0|   0|   0|   0|   0|   0|   0|   0|   0|   0|   0|   0|   0|   0|   0|   0|   0|   0|   0|   0|   0|   0|   0|   0|   0|   0|   0|   0|   0|   0|   0|   0|   0|   0|   0|   0|   0|   0|   0|   0|   0|   0|   0|   0|    0|    0|    0|    0|    0|    0|    0|    0|    0|    0|    0|    0|    0|    0|    0|    0|    0|    0|    0|    0|    0|    0|    0|    0|    0|    0|    0|    0|    0|    0|    0|    0|    0|    0|    0|    0|    0|    0|    0|    0|    0|    0|    0|    0|    0|    0|    0|    0|    0|    0|    0|    0|    0|    0|    0|    0|    0|    0|    0|    7|   56|   32|  123|  254|  113|   25|    0|    0|    0|    0|    0|    0|    0|    0|    0|    0|    0|    4|   61|   60|   60|   61|   61|   60|   60|   61|  184|  212|  232|  222|  253|  253|  253|   95|    0|    0|    0|    0|    0|    0|    0|    0|    0|    0|    0|  113|  253|  253|  253|  253|  253|  253|  253|  254|  253|  253|  253|  253|  253|  253|  253|  199|    0|    0|    0|    0|    0|    0|    0|    0|    0|    0|    0|  164|  253|  253|  253|  253|  253|  253|  253|  254|  253|  253|  253|  217|  133|  133|  133|   31|    0|    0|    0|    0|    0|    0|    0|    0|    0|    0|    0|  164|  253|  253|  253|  253|  253|  253|  209|  179|  178|  178|  178|  126|    0|    0|    0|    0|    0|    0|    0|    0|    0|    0|    0|    0|    0|    0|    8|  175|  253|  253|  249|  143|   74|   74|   31|    0|    0|    0|    0|    0|    0|    0|    0|    0|    0|    0|    0|    0|    0|    0|    0|    0|    0|    0|   29|  206|  253|  253|  223|    0|    0|    0|    0|    0|    0|    0|    0|    0|    0|    0|    0|    0|    0|    0|    0|    0|    0|    0|    0|    0|    0|    0|    0|  164|  253|  253|  134|    0|    0|    0|    0|    0|    0|    0|    0|    0|    0|    0|    0|    0|    0|    0|    0|    0|    0|    0|    0|    0|    0|    0|    0|  164|  253|  253|  246|  194|   53|   38|    0|    0|    0|    0|    0|    0|    0|    0|    0|    0|    0|    0|    0|    0|    0|    0|    0|    0|    0|    0|    0|   68|  174|  253|  253|  253|  253|  235|   62|    0|    0|    0|    0|    0|    0|    0|    0|    0|    0|    0|    0|    0|    0|    0|    0|    0|    0|    0|    0|    0|    0|  133|  162|  254|  255|  254|  254|  194|   19|    0|    0|    0|    0|    0|    0|    0|    0|    0|    0|    0|    0|    0|    0|    0|    0|    0|    0|    0|    0|    0|    6|   44|  185|  239|  253|  254|  181|   57|    0|    0|    0|    0|    0|    0|    0|    0|    0|    0|    0|    0|    0|    0|    0|    0|    0|    0|    0|    0|    0|    0|    0|   69|  186|  254|  253|  239|    8|    0|    0|    0|    0|    0|    0|    0|    0|    0|    0|    0|    0|    0|    0|    0|    0|    0|    0|    0|    0|    0|    0|   22|  198|  254|  253|  253|  133|    0|    0|    0|    0|    0|    0|    0|    0|    0|    0|    0|    0|    0|    0|    0|    0|    0|    0|    0|    0|    0|   72|  195|  253|  254|  253|  249|   95|    0|    0|    0|    0|    0|    0|    0|    0|    0|    0|    0|    0|    0|    0|    0|    0|   18|    0|   27|   48|  179|  249|  253|  253|  255|  253|  220|    0|    0|    0|    0|    0|    0|    0|    0|    0|    0|    0|    0|    0|    0|    0|    0|  112|  205|  134|  240|  253|  253|  253|  253|  253|  254|  221|   42|    0|    0|    0|    0|    0|    0|    0|    0|    0|    0|    0|    0|    0|    0|    0|    0|  210|  253|  253|  253|  253|  253|  253|  253|  253|  164|   37|    0|    0|    0|    0|    0|    0|    0|    0|    0|    0|    0|    0|    0|    0|    0|    0|    0|  183|  253|  253|  253|  253|  253|  237|  208|  120|    0|    0|    0|    0|    0|    0|    0|    0|    0|    0|    0|    0|    0|    0|    0|    0|    0|    0|    0|   25|  201|  253|  253|  235|  104|   67|    0|    0|    0|    0|    0|    0|    0|    0|    0|    0|    0|    0|    0|    0|    0|    0|    0|    0|    0|    0|    0|    0|    0|    0|    0|    0|    0|    0|    0|    0|    0|    0|    0|    0|    0|    0|    0|    0|    0|    0|    0|    0|    0|    0|    0|    0|    0|    0|    0|    0|    0|    0|    0|    0|    0|    0|    0|    0|    0|    0|    0|    0|    0|    0|    0|    0|    0|    0|    0|    0|    0|    0|    0|    0|    0|    0|    0|    0|    0|    0|    0|    0|    0|    0|    0|    0|    0|    0|    0|    0|    0|    0|    0|    0|    0|    0|    0|    0|\n",
            "|  7|  0|  0|  0|  0|  0|  0|  0|  0|  0|   0|   0|   0|   0|   0|   0|   0|   0|   0|   0|   0|   0|   0|   0|   0|   0|   0|   0|   0|   0|   0|   0|   0|   0|   0|   0|   0|   0|   0|   0|   0|   0|   0|   0|   0|   0|   0|   0|   0|   0|   0|   0|   0|   0|   0|   0|   0|   0|   0|   0|   0|   0|   0|   0|   0|   0|   0|   0|   0|   0|   0|   0|   0|   0|   0|   0|   0|   0|   0|   0|   0|   0|   0|   0|   0|   0|   0|   0|   0|   0|   0|   0|   0|   0|   0|   0|   0|   0|   0|   0|    0|    0|    0|    0|    0|    0|    0|    0|    0|    0|    0|    0|    0|    0|    0|    0|    0|    0|    0|    0|    0|    0|    0|    0|    0|    0|    0|    0|    0|    0|    0|    0|    0|    0|    0|    0|    0|    0|    0|    0|    0|    0|    0|    0|    0|    0|    0|    0|    0|    0|    0|    0|    0|    0|    0|    0|    0|    0|    0|    0|    0|    0|    0|    0|    0|    0|    0|    0|    0|    0|    0|    0|    0|    0|    0|    0|    0|    0|  109|  176|    0|    0|    0|    0|    0|    0|    0|    0|    0|    0|    0|    0|    0|    0|    0|    0|    0|    0|    0|    0|    0|    0|    0|    0|    0|    0|   62|  250|   62|    0|    0|    0|    0|    0|  134|   63|    0|    0|    0|    0|    0|    0|    0|    0|    0|    0|    0|    0|    0|    0|    0|    0|    0|    0|  107|  254|  250|  106|    0|    0|    0|   85|  242|  138|    0|    0|    0|    0|    0|    0|    0|    0|    0|    0|    0|    0|    0|    0|    0|    0|    0|    0|   23|  239|  127|  245|  200|  170|  207|  251|  254|   64|    0|    0|    0|    0|    0|    0|    0|    0|    0|    0|    0|    0|    0|    0|    0|    0|    0|    0|   47|  242|    0|   32|  109|  138|  101|  126|  254|   62|    0|    0|    0|    0|    0|    0|    0|    0|    0|    0|    0|    0|    0|    0|    0|    0|    0|    0|   10|   84|    0|    0|    0|    0|    0|  146|  222|   10|    0|    0|    0|    0|    0|    0|    0|    0|    0|    0|    0|    0|    0|    0|    0|    0|    0|    0|    0|    0|    0|    0|    0|    0|   30|  238|   89|    0|    0|    0|    0|    0|    0|    0|    0|    0|    0|    0|    0|    0|    0|    0|    0|    0|    0|    0|    0|    0|    0|    0|    0|    0|  103|  254|   28|    0|    0|    0|    0|    0|    0|    0|    0|    0|    0|    0|    0|    0|    0|    0|    0|    0|    0|    0|    0|    0|    0|    0|    0|    0|  163|  180|    2|    0|    0|    0|    0|    0|    0|    0|    0|    0|    0|    0|    0|    0|    0|    0|    0|    0|    0|    0|    0|    0|    0|    0|    0|   15|  233|  108|    0|    0|    0|    0|    0|    0|    0|    0|    0|    0|    0|    0|    0|    0|    0|    0|    0|    0|    0|    0|    0|    0|    0|    0|    0|  101|  250|   28|    0|    0|    0|    0|    0|    0|    0|    0|    0|    0|    0|    0|    0|    0|    0|    0|    0|    0|    0|    0|    0|    0|    0|    0|    0|  161|  170|    0|    0|    0|    0|    0|    0|    0|    0|    0|    0|    0|    0|    0|    0|    0|    0|    0|    0|    0|    0|    0|    0|    0|    0|    0|    0|  198|  130|    0|    0|    0|    0|    0|    0|    0|    0|    0|    0|    0|    0|    0|    0|    0|    0|    0|    0|    0|    0|    0|    0|    0|    0|    0|   29|  254|  103|    0|    0|    0|    0|    0|    0|    0|    0|    0|    0|    0|    0|    0|    0|    0|    0|    0|    0|    0|    0|    0|    0|    0|    0|    0|   19|  254|   54|    0|    0|    0|    0|    0|    0|    0|    0|    0|    0|    0|    0|    0|    0|    0|    0|    0|    0|    0|    0|    0|    0|    0|    0|    0|   66|  242|   25|    0|    0|    0|    0|    0|    0|    0|    0|    0|    0|    0|    0|    0|    0|    0|    0|    0|    0|    0|    0|    0|    0|    0|    0|    0|  150|  231|    0|    0|    0|    0|    0|    0|    0|    0|    0|    0|    0|    0|    0|    0|    0|    0|    0|    0|    0|    0|    0|    0|    0|    0|    0|    0|  145|  231|    0|    0|    0|    0|    0|    0|    0|    0|    0|    0|    0|    0|    0|    0|    0|    0|    0|    0|    0|    0|    0|    0|    0|    0|    0|    0|   78|  250|  147|    0|    0|    0|    0|    0|    0|    0|    0|    0|    0|    0|    0|    0|    0|    0|    0|    0|    0|    0|    0|    0|    0|    0|    0|    0|   31|  255|  137|    0|    0|    0|    0|    0|    0|    0|    0|    0|    0|    0|    0|    0|    0|    0|    0|    0|    0|    0|    0|    0|    0|    0|    0|    0|    0|    0|    0|    0|    0|    0|    0|    0|    0|    0|    0|    0|    0|    0|    0|    0|    0|    0|    0|    0|    0|    0|    0|    0|    0|    0|    0|    0|    0|    0|    0|    0|    0|    0|    0|    0|    0|    0|    0|    0|    0|    0|    0|\n",
            "|  6|  0|  0|  0|  0|  0|  0|  0|  0|  0|   0|   0|   0|   0|   0|   0|   0|   0|   0|   0|   0|   0|   0|   0|   0|   0|   0|   0|   0|   0|   0|   0|   0|   0|   0|   0|   0|   0|   0|   0|   0|   0|   0|   0|   0|   0|   0|   0|   0|   0|   0|   0|   0|   0|   0|   0|   0|   0|   0|   0|   0|   0|   0|   0|   0|   0|   0|   0|   0|   0|   0|   0|   0|   0|   0|   0|   0|   0|   0|   0|   0|   0|   0|   0|   0|   0|   0|   0|   0|   0|   0|   0|   0|   0|   0|   0|   0|   0|   0|   0|    0|   63|  221|   92|    0|    0|    0|    0|    0|    0|    0|    0|    0|    0|    0|    0|    0|    0|    0|    0|    0|    0|    0|    0|    0|    0|    0|    0|   49|  209|  240|   62|    0|    0|    0|    0|    0|    0|    0|    0|    0|    0|    0|    0|    0|    0|    0|    0|    0|    0|    0|    0|    0|    0|    0|    0|  165|  253|   96|    0|    0|    0|    0|    0|    0|    0|    0|    0|    0|    0|    0|    0|    0|    0|    0|    0|    0|    0|    0|    0|    0|    0|    0|   80|  254|  171|   10|    0|    0|    0|    0|    0|    0|    0|    0|    0|    0|    0|    0|    0|    0|    0|    0|    0|    0|    0|    0|    0|    0|    0|   25|  222|  254|   96|    0|    0|    0|    0|    0|    0|    0|    0|    0|    0|    0|    0|    0|    0|    0|    0|    0|    0|    0|    0|    0|    0|    0|    0|   97|  253|  192|    8|    0|    0|    0|    0|    0|    0|    0|    0|    0|    0|    0|    0|    0|    0|    0|    0|    0|    0|    0|    0|    0|    0|    0|   11|  218|  251|   56|    0|    0|    0|    0|    0|    0|    0|    0|    0|    0|    0|    0|    0|    0|    0|    0|    0|    0|    0|    0|    0|    0|    0|    0|   31|  253|  167|    0|    0|    0|    0|    0|    0|    0|    0|    0|    0|    0|    0|    0|    0|    0|    0|    0|    0|    0|    0|    0|    0|    0|    0|    2|  148|  253|   37|    0|    0|    0|    0|    0|    0|    0|    0|    0|    0|    0|    0|    0|    0|    0|    0|    0|    0|    0|    0|    0|    0|    0|    0|    8|  253|  253|  209|  147|   40|    0|    0|    0|    0|    0|    0|    0|    0|    0|    0|    0|    0|    0|    0|    0|    0|    0|    0|    0|    0|    0|    0|   62|  254|  254|  254|  255|  240|   52|    0|    0|    0|    0|    0|    0|    0|    0|    0|    0|    0|    0|    0|    0|    0|    0|    0|    0|    0|    0|    0|   99|  253|  253|  201|   84|  213|  201|    4|    0|    0|    0|    0|    0|    0|    0|    0|    0|    0|    0|    0|    0|    0|    0|    0|    0|    0|    0|    0|  161|  235|   44|   12|    0|  124|  253|   29|    0|    0|    0|    0|    0|    0|    0|    0|    0|    0|    0|    0|    0|    0|    0|    0|    0|    0|    0|    0|  236|  222|    0|    0|    0|  174|  249|   56|    0|    0|    0|    0|    0|    0|    0|    0|    0|    0|    0|    0|    0|    0|    0|    0|    0|    0|    0|    0|  238|  187|    0|    0|   53|  240|  184|    0|    0|    0|    0|    0|    0|    0|    0|    0|    0|    0|    0|    0|    0|    0|    0|    0|    0|    0|    0|    0|  238|  192|    0|    0|  161|  253|  119|    0|    0|    0|    0|    0|    0|    0|    0|    0|    0|    0|    0|    0|    0|    0|    0|    0|    0|    0|    0|    0|  238|  171|    0|   52|  254|  235|   48|    0|    0|    0|    0|    0|    0|    0|    0|    0|    0|    0|    0|    0|    0|    0|    0|    0|    0|    0|    0|    0|  238|  175|   49|  226|  251|   91|    0|    0|    0|    0|    0|    0|    0|    0|    0|    0|    0|    0|    0|    0|    0|    0|    0|    0|    0|    0|    0|    0|  222|  247|  231|  253|  191|    0|    0|    0|    0|    0|    0|    0|    0|    0|    0|    0|    0|    0|    0|    0|    0|    0|    0|    0|    0|    0|    0|    0|   69|  253|  237|  153|   37|    0|    0|    0|    0|    0|    0|    0|    0|    0|    0|    0|    0|    0|    0|    0|    0|    0|    0|    0|    0|    0|    0|    0|    0|    0|    0|    0|    0|    0|    0|    0|    0|    0|    0|    0|    0|    0|    0|    0|    0|    0|    0|    0|    0|    0|    0|    0|    0|    0|    0|    0|    0|    0|    0|    0|    0|    0|    0|    0|    0|    0|    0|    0|    0|    0|    0|    0|    0|    0|    0|    0|    0|    0|    0|    0|    0|    0|    0|    0|    0|    0|    0|    0|    0|    0|    0|    0|    0|    0|    0|    0|    0|    0|    0|    0|    0|    0|    0|    0|    0|    0|    0|    0|    0|    0|    0|    0|    0|    0|    0|    0|    0|    0|    0|    0|    0|    0|    0|    0|    0|    0|    0|    0|    0|    0|    0|    0|    0|    0|    0|    0|    0|    0|    0|    0|    0|    0|    0|    0|    0|    0|    0|    0|    0|    0|    0|    0|    0|    0|    0|    0|    0|\n",
            "+---+---+---+---+---+---+---+---+---+---+----+----+----+----+----+----+----+----+----+----+----+----+----+----+----+----+----+----+----+----+----+----+----+----+----+----+----+----+----+----+----+----+----+----+----+----+----+----+----+----+----+----+----+----+----+----+----+----+----+----+----+----+----+----+----+----+----+----+----+----+----+----+----+----+----+----+----+----+----+----+----+----+----+----+----+----+----+----+----+----+----+----+----+----+----+----+----+----+----+----+-----+-----+-----+-----+-----+-----+-----+-----+-----+-----+-----+-----+-----+-----+-----+-----+-----+-----+-----+-----+-----+-----+-----+-----+-----+-----+-----+-----+-----+-----+-----+-----+-----+-----+-----+-----+-----+-----+-----+-----+-----+-----+-----+-----+-----+-----+-----+-----+-----+-----+-----+-----+-----+-----+-----+-----+-----+-----+-----+-----+-----+-----+-----+-----+-----+-----+-----+-----+-----+-----+-----+-----+-----+-----+-----+-----+-----+-----+-----+-----+-----+-----+-----+-----+-----+-----+-----+-----+-----+-----+-----+-----+-----+-----+-----+-----+-----+-----+-----+-----+-----+-----+-----+-----+-----+-----+-----+-----+-----+-----+-----+-----+-----+-----+-----+-----+-----+-----+-----+-----+-----+-----+-----+-----+-----+-----+-----+-----+-----+-----+-----+-----+-----+-----+-----+-----+-----+-----+-----+-----+-----+-----+-----+-----+-----+-----+-----+-----+-----+-----+-----+-----+-----+-----+-----+-----+-----+-----+-----+-----+-----+-----+-----+-----+-----+-----+-----+-----+-----+-----+-----+-----+-----+-----+-----+-----+-----+-----+-----+-----+-----+-----+-----+-----+-----+-----+-----+-----+-----+-----+-----+-----+-----+-----+-----+-----+-----+-----+-----+-----+-----+-----+-----+-----+-----+-----+-----+-----+-----+-----+-----+-----+-----+-----+-----+-----+-----+-----+-----+-----+-----+-----+-----+-----+-----+-----+-----+-----+-----+-----+-----+-----+-----+-----+-----+-----+-----+-----+-----+-----+-----+-----+-----+-----+-----+-----+-----+-----+-----+-----+-----+-----+-----+-----+-----+-----+-----+-----+-----+-----+-----+-----+-----+-----+-----+-----+-----+-----+-----+-----+-----+-----+-----+-----+-----+-----+-----+-----+-----+-----+-----+-----+-----+-----+-----+-----+-----+-----+-----+-----+-----+-----+-----+-----+-----+-----+-----+-----+-----+-----+-----+-----+-----+-----+-----+-----+-----+-----+-----+-----+-----+-----+-----+-----+-----+-----+-----+-----+-----+-----+-----+-----+-----+-----+-----+-----+-----+-----+-----+-----+-----+-----+-----+-----+-----+-----+-----+-----+-----+-----+-----+-----+-----+-----+-----+-----+-----+-----+-----+-----+-----+-----+-----+-----+-----+-----+-----+-----+-----+-----+-----+-----+-----+-----+-----+-----+-----+-----+-----+-----+-----+-----+-----+-----+-----+-----+-----+-----+-----+-----+-----+-----+-----+-----+-----+-----+-----+-----+-----+-----+-----+-----+-----+-----+-----+-----+-----+-----+-----+-----+-----+-----+-----+-----+-----+-----+-----+-----+-----+-----+-----+-----+-----+-----+-----+-----+-----+-----+-----+-----+-----+-----+-----+-----+-----+-----+-----+-----+-----+-----+-----+-----+-----+-----+-----+-----+-----+-----+-----+-----+-----+-----+-----+-----+-----+-----+-----+-----+-----+-----+-----+-----+-----+-----+-----+-----+-----+-----+-----+-----+-----+-----+-----+-----+-----+-----+-----+-----+-----+-----+-----+-----+-----+-----+-----+-----+-----+-----+-----+-----+-----+-----+-----+-----+-----+-----+-----+-----+-----+-----+-----+-----+-----+-----+-----+-----+-----+-----+-----+-----+-----+-----+-----+-----+-----+-----+-----+-----+-----+-----+-----+-----+-----+-----+-----+-----+-----+-----+-----+-----+-----+-----+-----+-----+-----+-----+-----+-----+-----+-----+-----+-----+-----+-----+-----+-----+-----+-----+-----+-----+-----+-----+-----+-----+-----+-----+-----+-----+-----+-----+-----+-----+-----+-----+-----+-----+-----+-----+-----+-----+-----+-----+-----+-----+-----+-----+-----+-----+-----+-----+-----+-----+-----+-----+-----+-----+-----+-----+-----+-----+-----+-----+-----+-----+-----+-----+-----+-----+-----+-----+-----+-----+-----+-----+-----+-----+-----+-----+-----+-----+-----+-----+-----+-----+-----+-----+-----+-----+-----+-----+-----+-----+-----+-----+-----+-----+-----+-----+-----+-----+-----+-----+-----+-----+-----+-----+-----+-----+-----+-----+-----+-----+-----+-----+-----+-----+-----+-----+-----+-----+-----+-----+-----+-----+-----+-----+-----+-----+-----+-----+-----+-----+-----+-----+-----+-----+-----+-----+-----+-----+-----+-----+-----+-----+-----+-----+-----+-----+-----+-----+-----+-----+-----+-----+-----+-----+-----+-----+-----+-----+-----+-----+-----+-----+-----+\n",
            "only showing top 20 rows\n",
            "\n"
          ]
        }
      ]
    },
    {
      "cell_type": "code",
      "source": [
        "ma_1 =df_chtrain.sample(False, 0.05)\n",
        "\n",
        "ma_1.show()"
      ],
      "metadata": {
        "colab": {
          "base_uri": "https://localhost:8080/"
        },
        "id": "rnUi3njbMCnR",
        "outputId": "00b7486d-f658-4a5e-975a-3b27f5d2f8a3"
      },
      "execution_count": 17,
      "outputs": [
        {
          "output_type": "stream",
          "name": "stdout",
          "text": [
            "+-----------+---------+---------+------------+-----------+-----------+-----------+--------+-------------+\n",
            "|        _c0|      _c1|      _c2|         _c3|        _c4|        _c5|        _c6|     _c7|          _c8|\n",
            "+-----------+---------+---------+------------+-----------+-----------+-----------+--------+-------------+\n",
            "|-115.550000|32.790000|23.000000| 1004.000000| 221.000000| 697.000000| 201.000000|1.635100| 59600.000000|\n",
            "|-115.730000|33.090000|27.000000|  452.000000| 103.000000| 258.000000|  61.000000|2.900000| 87500.000000|\n",
            "|-116.240000|33.710000|10.000000| 9033.000000|2224.000000|5525.000000|1845.000000|2.759800| 95000.000000|\n",
            "|-116.250000|33.810000|24.000000|  880.000000| 187.000000| 507.000000| 169.000000|3.458300| 67500.000000|\n",
            "|-116.330000|33.720000|11.000000|12327.000000|2000.000000|2450.000000|1139.000000|7.438200|353100.000000|\n",
            "|-116.380000|33.730000|10.000000|11836.000000|2405.000000|3811.000000|1570.000000|4.007900|134500.000000|\n",
            "|-116.460000|33.820000| 6.000000| 4863.000000| 920.000000|3010.000000| 828.000000|3.950800|104200.000000|\n",
            "|-116.470000|34.070000|22.000000| 5473.000000|1234.000000|2581.000000|1098.000000|1.937500| 65300.000000|\n",
            "|-116.500000|33.810000|26.000000| 5032.000000|1229.000000|3086.000000|1183.000000|2.539900| 94800.000000|\n",
            "|-116.530000|33.850000|16.000000|10077.000000|2186.000000|3048.000000|1337.000000|2.964700|110900.000000|\n",
            "|-116.550000|33.840000|28.000000| 2992.000000| 562.000000| 676.000000| 346.000000|5.761300|500001.000000|\n",
            "|-116.600000|33.490000|16.000000| 3730.000000| 827.000000|1346.000000| 592.000000|2.183000|113500.000000|\n",
            "|-116.790000|32.610000|19.000000| 2652.000000| 520.000000|1421.000000| 491.000000|3.522700|206100.000000|\n",
            "|-116.900000|32.790000|21.000000| 3770.000000| 491.000000|1410.000000| 446.000000|6.768500|294700.000000|\n",
            "|-116.910000|32.730000| 8.000000| 4630.000000| 624.000000|2048.000000| 575.000000|6.474500|300300.000000|\n",
            "|-116.930000|33.060000|16.000000| 3490.000000| 545.000000|1628.000000| 535.000000|4.883600|239900.000000|\n",
            "|-116.950000|32.780000|20.000000| 3425.000000| 448.000000|1489.000000| 443.000000|6.255200|296400.000000|\n",
            "|-116.960000|33.730000|20.000000| 4735.000000| 973.000000|2306.000000| 904.000000|3.069000| 87000.000000|\n",
            "|-116.970000|32.830000|23.000000|  149.000000|  32.000000| 101.000000|  34.000000|2.645800|112500.000000|\n",
            "|-116.970000|32.560000|23.000000| 1262.000000| 294.000000|5176.000000| 275.000000|2.562500|153300.000000|\n",
            "+-----------+---------+---------+------------+-----------+-----------+-----------+--------+-------------+\n",
            "only showing top 20 rows\n",
            "\n"
          ]
        }
      ]
    },
    {
      "cell_type": "code",
      "source": [
        "ma_2 = df_mnsmall_train.sample(False, 0.05)\n",
        "ma_2.show()"
      ],
      "metadata": {
        "colab": {
          "base_uri": "https://localhost:8080/"
        },
        "id": "1I4fLqwzMKLp",
        "outputId": "7351c7df-b64b-439c-eb13-5b9e68988cd1"
      },
      "execution_count": 18,
      "outputs": [
        {
          "output_type": "stream",
          "name": "stdout",
          "text": [
            "+---+---+---+---+---+---+---+---+---+---+----+----+----+----+----+----+----+----+----+----+----+----+----+----+----+----+----+----+----+----+----+----+----+----+----+----+----+----+----+----+----+----+----+----+----+----+----+----+----+----+----+----+----+----+----+----+----+----+----+----+----+----+----+----+----+----+----+----+----+----+----+----+----+----+----+----+----+----+----+----+----+----+----+----+----+----+----+----+----+----+----+----+----+----+----+----+----+----+----+----+-----+-----+-----+-----+-----+-----+-----+-----+-----+-----+-----+-----+-----+-----+-----+-----+-----+-----+-----+-----+-----+-----+-----+-----+-----+-----+-----+-----+-----+-----+-----+-----+-----+-----+-----+-----+-----+-----+-----+-----+-----+-----+-----+-----+-----+-----+-----+-----+-----+-----+-----+-----+-----+-----+-----+-----+-----+-----+-----+-----+-----+-----+-----+-----+-----+-----+-----+-----+-----+-----+-----+-----+-----+-----+-----+-----+-----+-----+-----+-----+-----+-----+-----+-----+-----+-----+-----+-----+-----+-----+-----+-----+-----+-----+-----+-----+-----+-----+-----+-----+-----+-----+-----+-----+-----+-----+-----+-----+-----+-----+-----+-----+-----+-----+-----+-----+-----+-----+-----+-----+-----+-----+-----+-----+-----+-----+-----+-----+-----+-----+-----+-----+-----+-----+-----+-----+-----+-----+-----+-----+-----+-----+-----+-----+-----+-----+-----+-----+-----+-----+-----+-----+-----+-----+-----+-----+-----+-----+-----+-----+-----+-----+-----+-----+-----+-----+-----+-----+-----+-----+-----+-----+-----+-----+-----+-----+-----+-----+-----+-----+-----+-----+-----+-----+-----+-----+-----+-----+-----+-----+-----+-----+-----+-----+-----+-----+-----+-----+-----+-----+-----+-----+-----+-----+-----+-----+-----+-----+-----+-----+-----+-----+-----+-----+-----+-----+-----+-----+-----+-----+-----+-----+-----+-----+-----+-----+-----+-----+-----+-----+-----+-----+-----+-----+-----+-----+-----+-----+-----+-----+-----+-----+-----+-----+-----+-----+-----+-----+-----+-----+-----+-----+-----+-----+-----+-----+-----+-----+-----+-----+-----+-----+-----+-----+-----+-----+-----+-----+-----+-----+-----+-----+-----+-----+-----+-----+-----+-----+-----+-----+-----+-----+-----+-----+-----+-----+-----+-----+-----+-----+-----+-----+-----+-----+-----+-----+-----+-----+-----+-----+-----+-----+-----+-----+-----+-----+-----+-----+-----+-----+-----+-----+-----+-----+-----+-----+-----+-----+-----+-----+-----+-----+-----+-----+-----+-----+-----+-----+-----+-----+-----+-----+-----+-----+-----+-----+-----+-----+-----+-----+-----+-----+-----+-----+-----+-----+-----+-----+-----+-----+-----+-----+-----+-----+-----+-----+-----+-----+-----+-----+-----+-----+-----+-----+-----+-----+-----+-----+-----+-----+-----+-----+-----+-----+-----+-----+-----+-----+-----+-----+-----+-----+-----+-----+-----+-----+-----+-----+-----+-----+-----+-----+-----+-----+-----+-----+-----+-----+-----+-----+-----+-----+-----+-----+-----+-----+-----+-----+-----+-----+-----+-----+-----+-----+-----+-----+-----+-----+-----+-----+-----+-----+-----+-----+-----+-----+-----+-----+-----+-----+-----+-----+-----+-----+-----+-----+-----+-----+-----+-----+-----+-----+-----+-----+-----+-----+-----+-----+-----+-----+-----+-----+-----+-----+-----+-----+-----+-----+-----+-----+-----+-----+-----+-----+-----+-----+-----+-----+-----+-----+-----+-----+-----+-----+-----+-----+-----+-----+-----+-----+-----+-----+-----+-----+-----+-----+-----+-----+-----+-----+-----+-----+-----+-----+-----+-----+-----+-----+-----+-----+-----+-----+-----+-----+-----+-----+-----+-----+-----+-----+-----+-----+-----+-----+-----+-----+-----+-----+-----+-----+-----+-----+-----+-----+-----+-----+-----+-----+-----+-----+-----+-----+-----+-----+-----+-----+-----+-----+-----+-----+-----+-----+-----+-----+-----+-----+-----+-----+-----+-----+-----+-----+-----+-----+-----+-----+-----+-----+-----+-----+-----+-----+-----+-----+-----+-----+-----+-----+-----+-----+-----+-----+-----+-----+-----+-----+-----+-----+-----+-----+-----+-----+-----+-----+-----+-----+-----+-----+-----+-----+-----+-----+-----+-----+-----+-----+-----+-----+-----+-----+-----+-----+-----+-----+-----+-----+-----+-----+-----+-----+-----+-----+-----+-----+-----+-----+-----+-----+-----+-----+-----+-----+-----+-----+-----+-----+-----+-----+-----+-----+-----+-----+-----+-----+-----+-----+-----+-----+-----+-----+-----+-----+-----+-----+-----+-----+-----+-----+-----+-----+-----+-----+-----+-----+-----+-----+-----+-----+-----+-----+-----+-----+-----+-----+-----+-----+-----+-----+-----+-----+-----+-----+-----+-----+-----+-----+-----+-----+-----+-----+-----+-----+-----+-----+-----+\n",
            "|_c0|_c1|_c2|_c3|_c4|_c5|_c6|_c7|_c8|_c9|_c10|_c11|_c12|_c13|_c14|_c15|_c16|_c17|_c18|_c19|_c20|_c21|_c22|_c23|_c24|_c25|_c26|_c27|_c28|_c29|_c30|_c31|_c32|_c33|_c34|_c35|_c36|_c37|_c38|_c39|_c40|_c41|_c42|_c43|_c44|_c45|_c46|_c47|_c48|_c49|_c50|_c51|_c52|_c53|_c54|_c55|_c56|_c57|_c58|_c59|_c60|_c61|_c62|_c63|_c64|_c65|_c66|_c67|_c68|_c69|_c70|_c71|_c72|_c73|_c74|_c75|_c76|_c77|_c78|_c79|_c80|_c81|_c82|_c83|_c84|_c85|_c86|_c87|_c88|_c89|_c90|_c91|_c92|_c93|_c94|_c95|_c96|_c97|_c98|_c99|_c100|_c101|_c102|_c103|_c104|_c105|_c106|_c107|_c108|_c109|_c110|_c111|_c112|_c113|_c114|_c115|_c116|_c117|_c118|_c119|_c120|_c121|_c122|_c123|_c124|_c125|_c126|_c127|_c128|_c129|_c130|_c131|_c132|_c133|_c134|_c135|_c136|_c137|_c138|_c139|_c140|_c141|_c142|_c143|_c144|_c145|_c146|_c147|_c148|_c149|_c150|_c151|_c152|_c153|_c154|_c155|_c156|_c157|_c158|_c159|_c160|_c161|_c162|_c163|_c164|_c165|_c166|_c167|_c168|_c169|_c170|_c171|_c172|_c173|_c174|_c175|_c176|_c177|_c178|_c179|_c180|_c181|_c182|_c183|_c184|_c185|_c186|_c187|_c188|_c189|_c190|_c191|_c192|_c193|_c194|_c195|_c196|_c197|_c198|_c199|_c200|_c201|_c202|_c203|_c204|_c205|_c206|_c207|_c208|_c209|_c210|_c211|_c212|_c213|_c214|_c215|_c216|_c217|_c218|_c219|_c220|_c221|_c222|_c223|_c224|_c225|_c226|_c227|_c228|_c229|_c230|_c231|_c232|_c233|_c234|_c235|_c236|_c237|_c238|_c239|_c240|_c241|_c242|_c243|_c244|_c245|_c246|_c247|_c248|_c249|_c250|_c251|_c252|_c253|_c254|_c255|_c256|_c257|_c258|_c259|_c260|_c261|_c262|_c263|_c264|_c265|_c266|_c267|_c268|_c269|_c270|_c271|_c272|_c273|_c274|_c275|_c276|_c277|_c278|_c279|_c280|_c281|_c282|_c283|_c284|_c285|_c286|_c287|_c288|_c289|_c290|_c291|_c292|_c293|_c294|_c295|_c296|_c297|_c298|_c299|_c300|_c301|_c302|_c303|_c304|_c305|_c306|_c307|_c308|_c309|_c310|_c311|_c312|_c313|_c314|_c315|_c316|_c317|_c318|_c319|_c320|_c321|_c322|_c323|_c324|_c325|_c326|_c327|_c328|_c329|_c330|_c331|_c332|_c333|_c334|_c335|_c336|_c337|_c338|_c339|_c340|_c341|_c342|_c343|_c344|_c345|_c346|_c347|_c348|_c349|_c350|_c351|_c352|_c353|_c354|_c355|_c356|_c357|_c358|_c359|_c360|_c361|_c362|_c363|_c364|_c365|_c366|_c367|_c368|_c369|_c370|_c371|_c372|_c373|_c374|_c375|_c376|_c377|_c378|_c379|_c380|_c381|_c382|_c383|_c384|_c385|_c386|_c387|_c388|_c389|_c390|_c391|_c392|_c393|_c394|_c395|_c396|_c397|_c398|_c399|_c400|_c401|_c402|_c403|_c404|_c405|_c406|_c407|_c408|_c409|_c410|_c411|_c412|_c413|_c414|_c415|_c416|_c417|_c418|_c419|_c420|_c421|_c422|_c423|_c424|_c425|_c426|_c427|_c428|_c429|_c430|_c431|_c432|_c433|_c434|_c435|_c436|_c437|_c438|_c439|_c440|_c441|_c442|_c443|_c444|_c445|_c446|_c447|_c448|_c449|_c450|_c451|_c452|_c453|_c454|_c455|_c456|_c457|_c458|_c459|_c460|_c461|_c462|_c463|_c464|_c465|_c466|_c467|_c468|_c469|_c470|_c471|_c472|_c473|_c474|_c475|_c476|_c477|_c478|_c479|_c480|_c481|_c482|_c483|_c484|_c485|_c486|_c487|_c488|_c489|_c490|_c491|_c492|_c493|_c494|_c495|_c496|_c497|_c498|_c499|_c500|_c501|_c502|_c503|_c504|_c505|_c506|_c507|_c508|_c509|_c510|_c511|_c512|_c513|_c514|_c515|_c516|_c517|_c518|_c519|_c520|_c521|_c522|_c523|_c524|_c525|_c526|_c527|_c528|_c529|_c530|_c531|_c532|_c533|_c534|_c535|_c536|_c537|_c538|_c539|_c540|_c541|_c542|_c543|_c544|_c545|_c546|_c547|_c548|_c549|_c550|_c551|_c552|_c553|_c554|_c555|_c556|_c557|_c558|_c559|_c560|_c561|_c562|_c563|_c564|_c565|_c566|_c567|_c568|_c569|_c570|_c571|_c572|_c573|_c574|_c575|_c576|_c577|_c578|_c579|_c580|_c581|_c582|_c583|_c584|_c585|_c586|_c587|_c588|_c589|_c590|_c591|_c592|_c593|_c594|_c595|_c596|_c597|_c598|_c599|_c600|_c601|_c602|_c603|_c604|_c605|_c606|_c607|_c608|_c609|_c610|_c611|_c612|_c613|_c614|_c615|_c616|_c617|_c618|_c619|_c620|_c621|_c622|_c623|_c624|_c625|_c626|_c627|_c628|_c629|_c630|_c631|_c632|_c633|_c634|_c635|_c636|_c637|_c638|_c639|_c640|_c641|_c642|_c643|_c644|_c645|_c646|_c647|_c648|_c649|_c650|_c651|_c652|_c653|_c654|_c655|_c656|_c657|_c658|_c659|_c660|_c661|_c662|_c663|_c664|_c665|_c666|_c667|_c668|_c669|_c670|_c671|_c672|_c673|_c674|_c675|_c676|_c677|_c678|_c679|_c680|_c681|_c682|_c683|_c684|_c685|_c686|_c687|_c688|_c689|_c690|_c691|_c692|_c693|_c694|_c695|_c696|_c697|_c698|_c699|_c700|_c701|_c702|_c703|_c704|_c705|_c706|_c707|_c708|_c709|_c710|_c711|_c712|_c713|_c714|_c715|_c716|_c717|_c718|_c719|_c720|_c721|_c722|_c723|_c724|_c725|_c726|_c727|_c728|_c729|_c730|_c731|_c732|_c733|_c734|_c735|_c736|_c737|_c738|_c739|_c740|_c741|_c742|_c743|_c744|_c745|_c746|_c747|_c748|_c749|_c750|_c751|_c752|_c753|_c754|_c755|_c756|_c757|_c758|_c759|_c760|_c761|_c762|_c763|_c764|_c765|_c766|_c767|_c768|_c769|_c770|_c771|_c772|_c773|_c774|_c775|_c776|_c777|_c778|_c779|_c780|_c781|_c782|_c783|_c784|\n",
            "+---+---+---+---+---+---+---+---+---+---+----+----+----+----+----+----+----+----+----+----+----+----+----+----+----+----+----+----+----+----+----+----+----+----+----+----+----+----+----+----+----+----+----+----+----+----+----+----+----+----+----+----+----+----+----+----+----+----+----+----+----+----+----+----+----+----+----+----+----+----+----+----+----+----+----+----+----+----+----+----+----+----+----+----+----+----+----+----+----+----+----+----+----+----+----+----+----+----+----+----+-----+-----+-----+-----+-----+-----+-----+-----+-----+-----+-----+-----+-----+-----+-----+-----+-----+-----+-----+-----+-----+-----+-----+-----+-----+-----+-----+-----+-----+-----+-----+-----+-----+-----+-----+-----+-----+-----+-----+-----+-----+-----+-----+-----+-----+-----+-----+-----+-----+-----+-----+-----+-----+-----+-----+-----+-----+-----+-----+-----+-----+-----+-----+-----+-----+-----+-----+-----+-----+-----+-----+-----+-----+-----+-----+-----+-----+-----+-----+-----+-----+-----+-----+-----+-----+-----+-----+-----+-----+-----+-----+-----+-----+-----+-----+-----+-----+-----+-----+-----+-----+-----+-----+-----+-----+-----+-----+-----+-----+-----+-----+-----+-----+-----+-----+-----+-----+-----+-----+-----+-----+-----+-----+-----+-----+-----+-----+-----+-----+-----+-----+-----+-----+-----+-----+-----+-----+-----+-----+-----+-----+-----+-----+-----+-----+-----+-----+-----+-----+-----+-----+-----+-----+-----+-----+-----+-----+-----+-----+-----+-----+-----+-----+-----+-----+-----+-----+-----+-----+-----+-----+-----+-----+-----+-----+-----+-----+-----+-----+-----+-----+-----+-----+-----+-----+-----+-----+-----+-----+-----+-----+-----+-----+-----+-----+-----+-----+-----+-----+-----+-----+-----+-----+-----+-----+-----+-----+-----+-----+-----+-----+-----+-----+-----+-----+-----+-----+-----+-----+-----+-----+-----+-----+-----+-----+-----+-----+-----+-----+-----+-----+-----+-----+-----+-----+-----+-----+-----+-----+-----+-----+-----+-----+-----+-----+-----+-----+-----+-----+-----+-----+-----+-----+-----+-----+-----+-----+-----+-----+-----+-----+-----+-----+-----+-----+-----+-----+-----+-----+-----+-----+-----+-----+-----+-----+-----+-----+-----+-----+-----+-----+-----+-----+-----+-----+-----+-----+-----+-----+-----+-----+-----+-----+-----+-----+-----+-----+-----+-----+-----+-----+-----+-----+-----+-----+-----+-----+-----+-----+-----+-----+-----+-----+-----+-----+-----+-----+-----+-----+-----+-----+-----+-----+-----+-----+-----+-----+-----+-----+-----+-----+-----+-----+-----+-----+-----+-----+-----+-----+-----+-----+-----+-----+-----+-----+-----+-----+-----+-----+-----+-----+-----+-----+-----+-----+-----+-----+-----+-----+-----+-----+-----+-----+-----+-----+-----+-----+-----+-----+-----+-----+-----+-----+-----+-----+-----+-----+-----+-----+-----+-----+-----+-----+-----+-----+-----+-----+-----+-----+-----+-----+-----+-----+-----+-----+-----+-----+-----+-----+-----+-----+-----+-----+-----+-----+-----+-----+-----+-----+-----+-----+-----+-----+-----+-----+-----+-----+-----+-----+-----+-----+-----+-----+-----+-----+-----+-----+-----+-----+-----+-----+-----+-----+-----+-----+-----+-----+-----+-----+-----+-----+-----+-----+-----+-----+-----+-----+-----+-----+-----+-----+-----+-----+-----+-----+-----+-----+-----+-----+-----+-----+-----+-----+-----+-----+-----+-----+-----+-----+-----+-----+-----+-----+-----+-----+-----+-----+-----+-----+-----+-----+-----+-----+-----+-----+-----+-----+-----+-----+-----+-----+-----+-----+-----+-----+-----+-----+-----+-----+-----+-----+-----+-----+-----+-----+-----+-----+-----+-----+-----+-----+-----+-----+-----+-----+-----+-----+-----+-----+-----+-----+-----+-----+-----+-----+-----+-----+-----+-----+-----+-----+-----+-----+-----+-----+-----+-----+-----+-----+-----+-----+-----+-----+-----+-----+-----+-----+-----+-----+-----+-----+-----+-----+-----+-----+-----+-----+-----+-----+-----+-----+-----+-----+-----+-----+-----+-----+-----+-----+-----+-----+-----+-----+-----+-----+-----+-----+-----+-----+-----+-----+-----+-----+-----+-----+-----+-----+-----+-----+-----+-----+-----+-----+-----+-----+-----+-----+-----+-----+-----+-----+-----+-----+-----+-----+-----+-----+-----+-----+-----+-----+-----+-----+-----+-----+-----+-----+-----+-----+-----+-----+-----+-----+-----+-----+-----+-----+-----+-----+-----+-----+-----+-----+-----+-----+-----+-----+-----+-----+-----+-----+-----+-----+-----+-----+-----+-----+-----+-----+-----+-----+-----+-----+-----+-----+-----+-----+-----+-----+-----+-----+-----+-----+-----+-----+-----+-----+-----+-----+-----+-----+-----+-----+-----+-----+-----+-----+-----+-----+-----+-----+-----+-----+-----+-----+\n",
            "|  4|  0|  0|  0|  0|  0|  0|  0|  0|  0|   0|   0|   0|   0|   0|   0|   0|   0|   0|   0|   0|   0|   0|   0|   0|   0|   0|   0|   0|   0|   0|   0|   0|   0|   0|   0|   0|   0|   0|   0|   0|   0|   0|   0|   0|   0|   0|   0|   0|   0|   0|   0|   0|   0|   0|   0|   0|   0|   0|   0|   0|   0|   0|   0|   0|   0|   0|   0|   0|   0|   0|   0|   0|   0|   0|   0|   0|   0|   0|   0|   0|   0|   0|   0|   0|   0|   0|   0|   0|   0|   0|   0|   0|   0|   0|   0|   0|   0|   0|   0|    0|    0|    0|    0|    0|    0|    0|    0|    0|    0|    0|    0|    0|    0|    0|    0|    0|    0|    0|    0|    0|    0|    0|    0|    0|    0|    0|    0|    0|    0|    0|    0|    0|    0|    0|    0|    0|    0|    0|    0|    0|    0|    0|    0|    0|    0|    0|    0|    0|   63|  144|    0|    0|    0|    0|    0|    0|    0|    0|    0|    0|    0|    0|    0|    0|    0|    0|    0|    0|    0|    0|    0|    0|    0|    0|    0|   21|  206|  174|   10|    0|    0|    0|    0|    0|    0|    0|    0|    0|    0|    0|    0|    0|    0|    0|    0|    0|    0|    0|    0|    0|    0|    0|    0|   21|  206|  252|  138|    0|    0|    0|    0|    0|    0|    0|   73|   78|   16|    0|    0|    0|    0|    0|    0|    0|    0|    0|    0|    0|    0|    0|    0|   21|  206|  252|  179|    0|    0|    0|    0|    0|    0|    0|  217|  252|  190|    0|    0|    0|    0|    0|    0|    0|    0|    0|    0|    0|    0|    0|    0|   37|  252|  252|  179|    0|    0|    0|    0|    0|    0|    0|  217|  252|  252|    0|    0|    0|    0|    0|    0|    0|    0|    0|    0|    0|    0|    0|    0|   37|  252|  252|  179|    0|    0|    0|    0|    0|    0|    0|  217|  252|  210|    0|    0|    0|    0|    0|    0|    0|    0|    0|    0|    0|    0|    0|    0|   37|  252|  252|  231|   51|    0|    0|    0|    0|    0|   16|  222|  252|  108|    0|    0|    0|    0|    0|    0|    0|    0|    0|    0|    0|    0|    0|    0|   16|  190|  252|  252|   71|    0|    0|    0|    0|    0|  109|  252|  231|   46|    0|    0|    0|    0|    0|    0|    0|    0|    0|    0|    0|    0|    0|    0|    0|   84|  253|  253|  133|    0|    0|    0|    0|    0|  171|  253|  217|    0|    0|    0|    0|    0|    0|    0|    0|    0|    0|    0|    0|    0|    0|    0|    0|    1|  252|  252|  247|  217|   73|   73|   73|  155|  253|  252|  215|    0|    0|    0|    0|    0|    0|    0|    0|    0|    0|    0|    0|    0|    0|    0|    0|    1|  149|  252|  252|  252|  253|  252|  252|  252|  253|  252|  195|    0|    0|    0|    0|    0|    0|    0|    0|    0|    0|    0|    0|    0|    0|    0|    0|    0|   47|  148|  252|  252|  253|  252|  252|  252|  253|  252|   71|    0|    0|    0|    0|    0|    0|    0|    0|    0|    0|    0|    0|    0|    0|    0|    0|    0|    0|    0|  105|  144|  145|  144|  144|  207|  255|  222|   41|    0|    0|    0|    0|    0|    0|    0|    0|    0|    0|    0|    0|    0|    0|    0|    0|    0|    0|    0|    0|    0|    0|    0|    0|  144|  253|  179|    0|    0|    0|    0|    0|    0|    0|    0|    0|    0|    0|    0|    0|    0|    0|    0|    0|    0|    0|    0|    0|    0|    0|    0|    0|  144|  253|  179|    0|    0|    0|    0|    0|    0|    0|    0|    0|    0|    0|    0|    0|    0|    0|    0|    0|    0|    0|    0|    0|    0|    0|    0|   21|  206|  253|  179|    0|    0|    0|    0|    0|    0|    0|    0|    0|    0|    0|    0|    0|    0|    0|    0|    0|    0|    0|    0|    0|    0|    0|    0|   21|  207|  255|  180|    0|    0|    0|    0|    0|    0|    0|    0|    0|    0|    0|    0|    0|    0|    0|    0|    0|    0|    0|    0|    0|    0|    0|    0|    0|  144|  253|  242|  114|   31|   42|    0|    0|    0|    0|    0|    0|    0|    0|    0|    0|    0|    0|    0|    0|    0|    0|    0|    0|    0|    0|    0|    0|   41|  232|  252|  252|  211|  125|    0|    0|    0|    0|    0|    0|    0|    0|    0|    0|    0|    0|    0|    0|    0|    0|    0|    0|    0|    0|    0|    0|    0|   47|  148|  231|  108|    0|    0|    0|    0|    0|    0|    0|    0|    0|    0|    0|    0|    0|    0|    0|    0|    0|    0|    0|    0|    0|    0|    0|    0|    0|    0|    0|    0|    0|    0|    0|    0|    0|    0|    0|    0|    0|    0|    0|    0|    0|    0|    0|    0|    0|    0|    0|    0|    0|    0|    0|    0|    0|    0|    0|    0|    0|    0|    0|    0|    0|    0|    0|    0|    0|    0|    0|    0|    0|    0|    0|    0|    0|    0|    0|    0|    0|    0|    0|    0|    0|    0|    0|    0|    0|    0|    0|    0|    0|    0|    0|\n",
            "|  8|  0|  0|  0|  0|  0|  0|  0|  0|  0|   0|   0|   0|   0|   0|   0|   0|   0|   0|   0|   0|   0|   0|   0|   0|   0|   0|   0|   0|   0|   0|   0|   0|   0|   0|   0|   0|   0|   0|   0|   0|   0|   0|   0|   0|   0|   0|   0|   0|   0|   0|   0|   0|   0|   0|   0|   0|   0|   0|   0|   0|   0|   0|   0|   0|   0|   0|   0|   0|   0|   0|   0|   0|   0|   0|   0|   0|   0|   0|   0|   0|   0|   0|   0|   0|   0|   0|   0|   0|   0|   0|   0|   0|   0|   0|   0|   0|   0|   0|   0|    0|    0|    0|    0|    0|    0|    0|    0|    0|    0|    0|    0|    0|    0|    0|    0|    0|    0|    0|    0|    0|    0|    0|    0|    0|    0|    0|    0|    0|    0|    0|    0|    0|    0|    0|    0|    0|    0|    0|    0|    0|    0|    0|    0|    0|    0|    0|    0|    0|    0|    0|    0|   10|  179|  192|  253|  128|   16|    0|    0|    0|    0|    0|    0|    0|    0|    0|    0|    0|    0|    0|    0|    0|    0|    0|    0|    0|    0|    0|    0|   28|   84|  116|  252|  252|  215|   57|  131|  131|   32|    0|    0|    0|    0|    0|    0|    0|    0|    0|    0|    0|    0|    0|    0|    0|    0|    0|    0|    0|    0|   19|  224|  252|  252|  253|  252|  252|  177|    0|    0|    0|    0|    0|    0|    0|    0|    0|    0|    0|    0|    0|    0|    0|    0|    0|    0|   38|  163|  226|  243|  252|  252|  253|  252|  214|   40|    0|    0|    0|    0|    0|    0|    0|    0|    0|    0|    0|    0|    0|    0|    0|    0|    0|   45|  229|  253|  255|  253|  231|  175|  179|  253|  253|   40|    0|    0|    0|    0|    0|    0|    0|    0|    0|    0|    0|    0|    0|    0|    0|    0|    0|  169|  252|  252|  222|  121|   19|    0|   16|  215|  252|   65|    0|    0|    0|    0|    0|    0|    0|    0|    0|    0|    0|    0|    0|    0|    0|    0|   23|  234|  252|  214|   25|    0|    0|    0|   66|  252|  252|   28|    0|    0|    0|    0|    0|    0|    0|    0|    0|    0|    0|    0|    0|    0|    0|    0|   16|  215|  252|  139|    0|    0|    0|   51|  241|  252|  214|   15|    0|    0|    0|    0|    0|    0|    0|    0|    0|    0|    0|    0|    0|    0|    0|    0|    0|  170|  253|  253|   79|   10|   10|  179|  254|  253|  156|    0|    0|    0|    0|    0|    0|    0|    0|    0|    0|    0|    0|    0|    0|    0|    0|    0|    0|   82|  240|  252|  253|  196|  197|  252|  241|  103|   19|    0|    0|    0|    0|    0|    0|    0|    0|    0|    0|    0|    0|    0|    0|    0|    0|    0|    0|    0|   81|  243|  253|  252|  252|  252|  156|   19|    0|    0|    0|    0|    0|    0|    0|    0|    0|    0|    0|    0|    0|    0|    0|    0|    0|    0|    0|    0|   89|  237|  253|  252|  252|  252|    0|    0|    0|    0|    0|    0|    0|    0|    0|    0|    0|    0|    0|    0|    0|    0|    0|    0|    0|    0|    0|  120|  253|  253|  254|  253|  253|  253|   13|    0|    0|    0|    0|    0|    0|    0|    0|    0|    0|    0|    0|    0|    0|    0|    0|    0|    0|    0|   70|  225|  252|  252|  197|  121|  215|  252|  188|    0|    0|    0|    0|    0|    0|    0|    0|    0|    0|    0|    0|    0|    0|    0|    0|    0|    0|   51|  253|  252|  224|   68|    0|   26|  222|  252|   88|    0|    0|    0|    0|    0|    0|    0|    0|    0|    0|    0|    0|    0|    0|    0|    0|    0|    0|    0|  253|  252|  168|    0|    0|   26|  222|  252|  113|    0|    0|    0|    0|    0|    0|    0|    0|    0|    0|    0|    0|    0|    0|    0|    0|    0|    0|   51|  254|  228|   31|    0|   79|  216|  253|  253|   51|    0|    0|    0|    0|    0|    0|    0|    0|    0|    0|    0|    0|    0|    0|    0|    0|    0|    0|    0|  253|  252|  100|  157|  216|  252|  252|  227|    0|    0|    0|    0|    0|    0|    0|    0|    0|    0|    0|    0|    0|    0|    0|    0|    0|    0|    0|    0|  253|  252|  252|  252|  253|  252|  148|   31|    0|    0|    0|    0|    0|    0|    0|    0|    0|    0|    0|    0|    0|    0|    0|    0|    0|    0|    0|    0|   40|  165|  252|  252|  140|   65|    6|    0|    0|    0|    0|    0|    0|    0|    0|    0|    0|    0|    0|    0|    0|    0|    0|    0|    0|    0|    0|    0|    0|    0|    0|    0|    0|    0|    0|    0|    0|    0|    0|    0|    0|    0|    0|    0|    0|    0|    0|    0|    0|    0|    0|    0|    0|    0|    0|    0|    0|    0|    0|    0|    0|    0|    0|    0|    0|    0|    0|    0|    0|    0|    0|    0|    0|    0|    0|    0|    0|    0|    0|    0|    0|    0|    0|    0|    0|    0|    0|    0|    0|    0|    0|    0|    0|    0|    0|    0|    0|    0|    0|    0|    0|    0|    0|\n",
            "|  4|  0|  0|  0|  0|  0|  0|  0|  0|  0|   0|   0|   0|   0|   0|   0|   0|   0|   0|   0|   0|   0|   0|   0|   0|   0|   0|   0|   0|   0|   0|   0|   0|   0|   0|   0|   0|   0|   0|   0|   0|   0|   0|   0|   0|   0|   0|   0|   0|   0|   0|   0|   0|   0|   0|   0|   0|   0|   0|   0|   0|   0|   0|   0|   0|   0|   0|   0|   0|   0|   0|   0|   0|   0|   0|   0|   0|   0|   0|   0|   0|   0|   0|   0|   0|   0|   0|   0|   0|   0|   0|   0|   0|   0|   0|   0|   0|   0|   0|   0|    0|    0|    0|    0|    0|    0|    0|    0|    0|    0|    0|    0|    0|    0|    0|    0|    0|    0|    0|    0|    0|    0|    0|    0|    0|    0|    0|    0|    0|    0|    0|    0|    0|    0|    0|    0|    0|    0|    0|    0|    0|    0|    0|    0|    0|    0|    0|    0|    0|    0|    0|    0|    0|   57|  237|   59|    0|    0|    0|    0|    0|    0|    0|    0|    0|    0|    0|    0|    0|    0|    0|    0|    0|    0|    0|    0|    0|    0|    0|    0|   51|  235|  250|   22|    0|    0|    0|    0|    0|    0|    0|    0|    0|    0|    0|    0|    0|    0|    0|    0|    0|    0|    0|    0|    0|    0|    0|   11|  182|  254|  191|    0|    0|    0|    0|    0|    0|    0|    0|    0|    0|    0|    0|    0|    0|    0|    0|    0|    0|    0|    0|    0|    0|    0|    0|  150|  254|  208|   39|    0|    0|    0|    0|    0|    0|    0|    0|    0|    0|    0|    0|    0|    0|    0|    0|    0|    0|    0|    0|    0|    0|    0|   89|  248|  254|  181|    0|    0|    0|    0|    0|   27|  162|  173|    0|    0|    0|    0|    0|    0|    0|    0|    0|    0|    0|    0|    0|    0|    0|   59|  248|  255|  214|   27|    0|    0|    0|    0|   26|  170|  254|  131|    0|    0|    0|    0|    0|    0|    0|    0|    0|    0|    0|    0|    0|    0|   33|  234|  254|  214|   29|    0|    0|    0|    0|    0|  138|  254|  211|   14|    0|    0|    0|    0|    0|    0|    0|    0|    0|    0|    0|    0|    0|    0|  106|  254|  248|   59|    0|    0|    0|    0|    0|   54|  233|  247|   55|    0|    0|    0|    0|    0|    0|    0|    0|    0|    0|    0|    0|    0|    0|    0|  143|  254|  183|    0|    0|    0|    0|    0|    0|  146|  254|  221|    0|    0|    0|    0|    0|    0|    0|    0|    0|    0|    0|    0|    0|    0|    0|    0|  245|  254|   61|    0|    0|    0|    0|    0|   21|  211|  254|   55|    0|    0|    0|   22|    0|    0|    0|    0|    0|    0|    0|    0|    0|    0|    0|    0|  204|  254|  154|   31|    0|    0|    0|    0|  139|  254|  184|    3|    0|    0|  137|  175|    0|    0|    0|    0|    0|    0|    0|    0|    0|    0|    0|    0|   76|  244|  254|  222|   98|   42|   42|   42|  212|  254|  180|   98|  146|  240|  242|   75|    0|    0|    0|    0|    0|    0|    0|    0|    0|    0|    0|    0|    0|   80|  211|  254|  254|  254|  254|  254|  254|  254|  254|  254|  254|  166|   46|    0|    0|    0|    0|    0|    0|    0|    0|    0|    0|    0|    0|    0|    0|    0|    8|   88|  120|  187|  224|  254|  254|  219|  120|   64|   15|    2|    0|    0|    0|    0|    0|    0|    0|    0|    0|    0|    0|    0|    0|    0|    0|    0|    0|    0|    0|    0|    6|  254|  254|   34|    0|    0|    0|    0|    0|    0|    0|    0|    0|    0|    0|    0|    0|    0|    0|    0|    0|    0|    0|    0|    0|    0|    0|    0|    6|  254|  254|    5|    0|    0|    0|    0|    0|    0|    0|    0|    0|    0|    0|    0|    0|    0|    0|    0|    0|    0|    0|    0|    0|    0|    0|    0|    6|  254|  228|    4|    0|    0|    0|    0|    0|    0|    0|    0|    0|    0|    0|    0|    0|    0|    0|    0|    0|    0|    0|    0|    0|    0|    0|    0|    6|  254|  155|    0|    0|    0|    0|    0|    0|    0|    0|    0|    0|    0|    0|    0|    0|    0|    0|    0|    0|    0|    0|    0|    0|    0|    0|    0|    6|  254|  178|    1|    0|    0|    0|    0|    0|    0|    0|    0|    0|    0|    0|    0|    0|    0|    0|    0|    0|    0|    0|    0|    0|    0|    0|    0|    1|   68|  234|  132|    0|    0|    0|    0|    0|    0|    0|    0|    0|    0|    0|    0|    0|    0|    0|    0|    0|    0|    0|    0|    0|    0|    0|    0|    0|    0|    0|    0|    0|    0|    0|    0|    0|    0|    0|    0|    0|    0|    0|    0|    0|    0|    0|    0|    0|    0|    0|    0|    0|    0|    0|    0|    0|    0|    0|    0|    0|    0|    0|    0|    0|    0|    0|    0|    0|    0|    0|    0|    0|    0|    0|    0|    0|    0|    0|    0|    0|    0|    0|    0|    0|    0|    0|    0|    0|    0|    0|    0|    0|    0|    0|    0|    0|    0|    0|\n",
            "|  2|  0|  0|  0|  0|  0|  0|  0|  0|  0|   0|   0|   0|   0|   0|   0|   0|   0|   0|   0|   0|   0|   0|   0|   0|   0|   0|   0|   0|   0|   0|   0|   0|   0|   0|   0|   0|   0|   0|   0|   0|   0|   0|   0|   0|   0|   0|   0|   0|   0|   0|   0|   0|   0|   0|   0|   0|   0|   0|   0|   0|   0|   0|   0|   0|   0|   0|   0|   0|   0|   0|   0|   0|   0|  55| 254| 124|   0|   0|   0|   0|   0|   0|   0|   0|   0|   0|   0|   0|   0|   0|   0|   0|   0|   0|   0|   0|   0|   0|   0|    3|  100|  218|  253|  112|    0|    0|    0|    0|    0|    0|    0|    0|    0|    0|    0|    0|    0|    0|    0|    0|    0|    0|    0|    0|    0|    0|   25|  167|  253|  246|  188|   23|    0|    0|    0|    0|    0|    0|    0|    0|    0|    0|    0|    0|    0|    0|    0|    0|    0|    0|    0|    0|    0|  105|  214|  253|  253|  181|    0|    0|    0|    0|    0|    0|    0|    0|    0|    0|    0|    0|    0|    0|    0|    0|    0|    0|    0|    0|    0|   24|  171|  250|  254|  253|  140|   24|    0|    0|    0|    0|    0|    0|    0|    0|    0|    0|    0|    0|    0|    0|    0|    0|    0|    0|    0|    0|   25|  200|  253|  253|  254|  253|  216|  100|    0|    0|    0|    0|    0|    0|    0|    0|    0|    0|    0|    0|    0|    0|    0|    0|    0|    0|    0|    0|  183|  253|  253|  253|  254|  253|  253|  244|  177|   20|    0|    0|    0|    0|    0|    0|    0|    0|    0|    0|    0|    0|    0|    0|    0|    0|    0|    0|  206|  253|  253|  160|  254|  253|  253|  253|  253|  118|    0|    0|    0|    0|    0|    0|    0|    0|    0|    0|    0|    0|    0|    0|    0|    0|    0|    0|   19|   24|   24|    1|   29|  144|  212|  253|  253|   60|    0|    0|    0|   59|    0|    0|    0|    0|    0|    0|    0|    0|    0|    0|    0|    0|    0|    0|    0|    0|    0|    0|    0|    0|  157|  253|  253|  118|    0|    0|    0|    0|    0|    0|    0|    0|    0|    0|    0|    0|    0|    0|    0|    0|    0|    0|    0|    0|    0|    0|    0|    0|   37|  255|  254|  220|   25|    0|    6|  180|    0|    0|    0|    0|    0|    0|    0|    0|    0|    0|    0|    0|    0|    0|    0|    0|    0|    0|    0|    0|   16|  205|  253|  253|   56|   25|  181|  132|    0|    0|    0|    0|    0|    0|    0|    0|    0|    0|    0|    0|    0|    0|    0|    0|    0|    0|    0|    0|    0|  169|  253|  253|  207|  253|  238|  114|    0|    0|    0|    0|    0|    0|    0|    0|    3|   49|   49|   49|   49|   49|   49|   49|   49|   49|   49|   49|  125|  226|  253|  253|  253|  235|   59|    0|    0|    0|    0|    0|    0|    0|    0|    0|  128|  253|  253|  253|  253|  253|  253|  253|  253|  253|  254|  253|  253|  253|  253|  253|  163|   45|    0|    0|    0|    0|    0|    0|    0|    0|    0|    0|  220|  253|  253|  253|  253|  253|  253|  253|  253|  253|  254|  253|  253|  253|  253|  106|   12|    0|    0|    0|    0|    0|    0|    0|    0|    0|    0|    0|   31|  176|  253|  253|  253|  253|  213|   60|  157|  111|   52|  202|  253|  253|  233|   40|    0|    0|    0|    0|    0|    0|    0|    0|    0|    0|    0|    0|    0|    4|  171|  253|  253|  253|  253|  223|  218|  218|  221|  253|  253|  235|   62|    0|    0|    0|    0|    0|    0|    0|    0|    0|    0|    0|    0|    0|    0|    0|   32|  165|  253|  253|  253|  253|  253|  253|  254|  253|  238|   59|    0|    0|    0|    0|    0|    0|    0|    0|    0|    0|    0|    0|    0|    0|    0|    0|    0|    3|   11|   11|   93|  253|  253|  253|  132|  132|   56|    0|    0|    0|    0|    0|    0|    0|    0|    0|    0|    0|    0|    0|    0|    0|    0|    0|    0|    0|    0|    0|    0|    0|    0|    0|    0|    0|    0|    0|    0|    0|    0|    0|    0|    0|    0|    0|    0|    0|    0|    0|    0|    0|    0|    0|    0|    0|    0|    0|    0|    0|    0|    0|    0|    0|    0|    0|    0|    0|    0|    0|    0|    0|    0|    0|    0|    0|    0|    0|    0|    0|    0|    0|    0|    0|    0|    0|    0|    0|    0|    0|    0|    0|    0|    0|    0|    0|    0|    0|    0|    0|    0|    0|    0|    0|    0|    0|    0|    0|    0|    0|    0|    0|    0|    0|    0|    0|    0|    0|    0|    0|    0|    0|    0|    0|    0|    0|    0|    0|    0|    0|    0|    0|    0|    0|    0|    0|    0|    0|    0|    0|    0|    0|    0|    0|    0|    0|    0|    0|    0|    0|    0|    0|    0|    0|    0|    0|    0|    0|    0|    0|    0|    0|    0|    0|    0|    0|    0|    0|    0|    0|    0|    0|    0|    0|    0|    0|    0|    0|    0|    0|    0|    0|    0|    0|    0|    0|    0|    0|\n",
            "|  3|  0|  0|  0|  0|  0|  0|  0|  0|  0|   0|   0|   0|   0|   0|   0|   0|   0|   0|   0|   0|   0|   0|   0|   0|   0|   0|   0|   0|   0|   0|   0|   0|   0|   0|   0|   0|   0|   0|   0|   0|   0|   0|   0|   0|   0|   0|   0|   0|   0|   0|   0|   0|   0|   0|   0|   0|   0|   0|   0|   0|   0|   0|   0|   0|   0|   0|   0|   0|   0|   0|   0|   0|   0|   0|   0|   0|   0|   0|   0|   0|   0|   0|   0|   0|   0|   0|   0|   0|   0|   0|   0|   0|   0|   0|   0|   0|   0|   0|   0|    0|    0|    0|    0|    0|    0|    0|    0|    0|    0|    0|    0|    0|    0|    0|    0|    0|    0|    0|    0|    0|   68|  253|  253|  253|  246|  121|    0|    0|    0|    0|    0|    0|    0|    0|    0|    0|    0|    0|    0|    0|    0|    0|    0|    0|    0|    0|    0|    0|  137|  252|  252|  252|  252|  252|  241|   68|    0|    0|    0|    0|    0|    0|    0|    0|    0|    0|    0|    0|    0|    0|    0|    0|    0|    0|    0|    0|   67|  252|  188|  168|  252|  252|  253|  241|  142|    0|    0|    0|    0|    0|    0|    0|    0|    0|    0|    0|    0|    0|    0|    0|    0|    0|    0|    0|   11|   39|   13|    5|   39|  151|  253|  252|  237|   76|    0|    0|    0|    0|    0|    0|    0|    0|    0|    0|    0|    0|    0|    0|    0|    0|    0|    0|    0|    0|    0|    0|    0|   28|  147|  252|  252|  172|    0|    0|    0|    0|    0|    0|    0|    0|    0|    0|    0|    0|    0|    0|    0|    0|    0|    0|    0|    0|    0|    0|    0|    0|   32|  243|  252|  143|    0|    0|    0|    0|    0|    0|    0|    0|    0|    0|    0|    0|    0|    0|    0|    0|    0|    0|    0|    0|    0|    0|    0|   22|  104|  248|  188|   13|    0|    0|    0|    0|    0|    0|    0|    0|    0|    0|    0|    0|    0|    0|    0|    0|    0|    0|    0|    6|   98|   41|  160|  208|  253|  252|  144|    0|    0|    0|    0|    0|    0|    0|    0|    0|    0|    0|    0|    0|    0|    0|    0|    0|    0|    0|    0|   54|  252|  252|  252|  252|  253|  113|   11|    0|    0|    0|    0|    0|    0|    0|    0|    0|    0|    0|    0|    0|    0|    0|    0|    0|    0|    0|    0|   26|  210|  252|  252|  252|  253|  139|   14|    0|    0|    0|    0|    0|    0|    0|    0|    0|    0|    0|    0|    0|    0|    0|    0|    0|    0|    0|    0|    0|    0|    0|    8|  197|  255|  253|  204|   19|    0|    0|    0|    0|    0|    0|    0|    0|    0|    0|    0|    0|    0|    0|    0|    0|    0|    0|    0|    0|    0|    0|    0|    7|  197|  252|  252|  199|   23|    0|    0|    0|    0|    0|    0|    0|    0|    0|    0|    0|    0|    0|    0|    0|    0|    0|    0|   20|   79|    0|    0|    0|   13|  241|  252|  252|  102|    0|    0|    0|    0|    0|    0|    0|    0|    0|    0|    0|    0|    0|    0|    0|    0|    0|    0|  166|  212|    0|    0|    0|    0|   37|  230|  252|  185|    0|    0|    0|    0|    0|    0|    0|    0|    0|    0|    0|    0|    0|    0|    0|    0|    0|    0|   81|  244|  179|    0|    0|    0|    0|  122|  252|  238|   52|    0|    0|    0|    0|    0|    0|    0|    0|    0|    0|    0|    0|    0|    0|    0|    0|    0|   54|  252|  245|   79|    0|    0|   80|  211|  252|  238|   52|    0|    0|    0|    0|    0|    0|    0|    0|    0|    0|    0|    0|    0|    0|    0|    0|    0|   17|  198|  252|  199|   41|  104|  206|  252|  252|  185|    0|    0|    0|    0|    0|    0|    0|    0|    0|    0|    0|    0|    0|    0|    0|    0|    0|    0|    0|   89|  252|  252|  252|  253|  252|  252|  229|   96|    0|    0|    0|    0|    0|    0|    0|    0|    0|    0|    0|    0|    0|    0|    0|    0|    0|    0|    0|   38|  238|  246|  252|  253|  252|  240|   37|    0|    0|    0|    0|    0|    0|    0|    0|    0|    0|    0|    0|    0|    0|    0|    0|    0|    0|    0|    0|    0|    0|   70|  119|  190|  119|   12|    0|    0|    0|    0|    0|    0|    0|    0|    0|    0|    0|    0|    0|    0|    0|    0|    0|    0|    0|    0|    0|    0|    0|    0|    0|    0|    0|    0|    0|    0|    0|    0|    0|    0|    0|    0|    0|    0|    0|    0|    0|    0|    0|    0|    0|    0|    0|    0|    0|    0|    0|    0|    0|    0|    0|    0|    0|    0|    0|    0|    0|    0|    0|    0|    0|    0|    0|    0|    0|    0|    0|    0|    0|    0|    0|    0|    0|    0|    0|    0|    0|    0|    0|    0|    0|    0|    0|    0|    0|    0|    0|    0|    0|    0|    0|    0|    0|    0|    0|    0|    0|    0|    0|    0|    0|    0|    0|    0|    0|    0|    0|    0|    0|    0|    0|    0|    0|    0|    0|    0|    0|    0|    0|\n",
            "|  3|  0|  0|  0|  0|  0|  0|  0|  0|  0|   0|   0|   0|   0|   0|   0|   0|   0|   0|   0|   0|   0|   0|   0|   0|   0|   0|   0|   0|   0|   0|   0|   0|   0|   0|   0|   0|   0|   0|   0|   0|   0|   0|   0|   0|   0|   0|   0|   0|   0|   0|   0|   0|   0|   0|   0|   0|   0|   0|   0|   0|   0|   0|   0|   0|   0|   0|   0|   0|   0|   0|   0|   0|   0|   0|   0|   0|   0|   0|   0|   0|   0|   0|   0|   0|   0|   0|   0|   0|   0|   0|   0|   0|   0|   0|   0|   0|   0|   0|   0|    0|    0|    0|    0|    0|    0|    0|    0|    0|    0|    0|    0|    0|    0|    0|    0|    0|    0|    0|    0|    0|    0|    0|    0|    0|    0|    0|    0|    0|    0|    0|    0|    0|    0|    0|    0|    0|    0|    0|    0|    0|    0|    0|    0|    0|    0|    0|    0|    0|    0|    0|    0|    0|    0|   64|  145|  230|  227|   33|    0|    0|    0|    0|    0|    0|    0|    0|    0|    0|    0|    0|    0|    0|    0|    0|    0|    0|    0|    0|   40|  116|  200|  252|  206|  215|  254|   76|    0|    0|    0|    0|    0|    0|    0|    0|    0|    0|    0|    0|    0|    0|    0|    0|    0|    5|   53|  200|  245|  226|  158|   42|   34|  213|  210|    4|    0|    0|    0|    0|    0|    0|    0|    0|    0|    0|    0|    0|    0|    0|    0|    7|  112|  200|  254|  200|   73|   17|    0|    5|  160|  240|   57|    0|    0|    0|    0|    0|    0|    0|    0|    0|    0|    0|    0|    0|    0|    0|    0|  160|  223|  104|   53|   17|    0|    0|   28|  161|  239|   90|    0|    0|    0|    0|    0|    0|    0|    0|    0|    0|    0|    0|    0|    0|    0|    0|    0|   60|   11|    0|    0|    0|    0|   26|  212|  250|  111|    0|    0|    0|    0|    0|    0|    0|    0|    0|    0|    0|    0|    0|    0|    0|    0|    0|    0|    0|    0|    0|    0|    0|   25|  215|  209|   58|    0|    0|    0|    0|    0|    0|    0|    0|    0|    0|    0|    0|    0|    0|    0|    0|    0|    0|    0|    0|    0|    0|    0|    0|  160|  192|   45|    0|    0|    0|    0|    0|    0|    0|    0|    0|    0|    0|    0|    0|    0|    0|    0|    0|    0|    0|    0|    0|    0|    0|    0|    0|  245|  140|    7|    0|    0|    0|    0|    0|    0|    0|    0|    0|    0|    0|    0|    0|    0|    0|    0|    0|    0|    0|    0|    0|    0|    0|    0|    0|  203|  254|  228|  224|  224|  159|  134|  111|   45|    7|    0|    0|    0|    0|    0|    0|    0|    0|    0|    0|    0|    0|    0|    0|    0|    0|    0|    0|   28|   65|  133|  208|  223|  223|  233|  254|  254|  202|   46|    0|    0|    0|    0|    0|    0|    0|    0|    0|    0|    0|    0|    0|    0|    0|    0|    0|    0|    0|    0|    0|    0|    0|   19|   58|   77|  233|  228|    0|    0|    0|    0|    0|    0|    0|    0|    0|    0|    0|    0|    0|    0|    0|    0|    0|    0|    0|    0|    0|    0|    0|    0|    0|    0|  131|  228|    0|    0|    0|    0|    0|    0|    0|    0|    0|    0|    0|    0|    0|    0|    0|    0|    0|    0|    0|    0|    0|    0|    0|    0|    0|   37|  243|  228|    0|    0|    0|    0|    0|    0|    0|    0|    0|    0|    0|    0|    0|    0|    0|    0|    0|    0|    0|    0|    0|    0|    0|    0|   18|  201|  244|  105|    0|    0|    0|    0|    0|    0|    0|    0|    0|    0|    0|    0|    0|    0|    0|    0|    0|    0|    0|    0|    0|    0|    0|   65|  204|  243|  137|    0|    0|    0|    0|    0|    0|    0|    0|    0|    0|    0|    0|    0|    0|    0|    0|    0|    0|   12|    3|    0|    0|   24|  163|  243|  254|  160|   13|    0|    0|    0|    0|    0|    0|    0|    0|    0|    0|    0|    0|    0|    0|    0|    0|    0|   10|  186|   24|   43|  128|  227|  254|  199|   83|    5|    0|    0|    0|    0|    0|    0|    0|    0|    0|    0|    0|    0|    0|    0|    0|    0|    0|    0|   86|  254|  211|  254|  248|  165|   61|    0|    0|    0|    0|    0|    0|    0|    0|    0|    0|    0|    0|    0|    0|    0|    0|    0|    0|    0|    0|    0|   26|  189|  234|  149|   40|    0|    0|    0|    0|    0|    0|    0|    0|    0|    0|    0|    0|    0|    0|    0|    0|    0|    0|    0|    0|    0|    0|    0|    0|    0|    0|    0|    0|    0|    0|    0|    0|    0|    0|    0|    0|    0|    0|    0|    0|    0|    0|    0|    0|    0|    0|    0|    0|    0|    0|    0|    0|    0|    0|    0|    0|    0|    0|    0|    0|    0|    0|    0|    0|    0|    0|    0|    0|    0|    0|    0|    0|    0|    0|    0|    0|    0|    0|    0|    0|    0|    0|    0|    0|    0|    0|    0|    0|    0|    0|    0|    0|    0|    0|    0|    0|    0|    0|\n",
            "|  2|  0|  0|  0|  0|  0|  0|  0|  0|  0|   0|   0|   0|   0|   0|   0|   0|   0|   0|   0|   0|   0|   0|   0|   0|   0|   0|   0|   0|   0|   0|   0|   0|   0|   0|   0|   0|   0|   0|   0|   0|   0|   0|   0|   0|   0|   0|   0|   0|   0|   0|   0|   0|   0|   0|   0|   0|   0|   0|   0|   0|   0|   0|   0|   0|   0|   0|   0|   0|   0|   0|   0|   0|   0|   0|   0|   0|   0|   0|   0|   0|   0|   0|   0|   0|   0|   0|   0|   0|   0|   0|   0|   0|   0|   0|   0|   0|   0|   0|   0|    0|    0|    0|    0|    0|    0|    0|    0|    0|    0|    0|    0|    0|    0|    0|    0|    0|    0|    0|    0|    0|    0|    0|    0|    0|  141|  170|  114|    0|    0|    0|    0|    0|    0|    0|    0|    0|    0|    0|    0|    0|    0|    0|    0|    0|    0|    0|    0|    0|    0|    0|    0|    0|  255|  255|  255|  114|    0|    0|    0|    0|    0|    0|    0|    0|    0|    0|    0|    0|    0|    0|    0|    0|    0|    0|    0|    0|    0|    0|    0|    0|  255|  114|  226|  255|   86|    0|    0|    0|    0|    0|    0|    0|    0|    0|    0|    0|    0|    0|    0|    0|    0|    0|    0|    0|    0|    0|    0|    0|    0|    0|   57|  255|  226|    0|    0|    0|    0|    0|    0|    0|    0|    0|    0|    0|    0|    0|    0|    0|    0|    0|    0|    0|    0|    0|    0|    0|    0|    0|    0|  255|  255|   86|    0|    0|    0|    0|    0|    0|    0|    0|    0|    0|    0|    0|    0|    0|    0|    0|    0|    0|    0|    0|    0|    0|    0|    0|    0|  198|  255|  170|    0|    0|    0|    0|    0|    0|    0|    0|    0|    0|    0|    0|    0|    0|    0|    0|    0|    0|    0|    0|    0|    0|    0|    0|    0|  141|  255|  170|    0|    0|    0|    0|    0|    0|    0|    0|    0|    0|    0|    0|    0|    0|    0|    0|    0|    0|    0|    0|    0|    0|    0|    0|    0|  170|  255|  170|    0|    0|    0|    0|    0|    0|    0|    0|    0|    0|    0|    0|    0|    0|    0|    0|    0|    0|    0|    0|    0|    0|    0|    0|    0|  170|  255|  170|    0|    0|    0|    0|    0|    0|   29|  141|    0|    0|    0|    0|    0|    0|    0|    0|    0|    0|    0|    0|    0|    0|    0|    0|    0|  255|  255|  141|    0|    0|    0|  114|  170|  255|  255|  141|    0|    0|    0|    0|    0|    0|    0|    0|    0|    0|    0|    0|    0|    0|    0|   86|   86|  255|  255|  226|  170|  255|  255|  255|  255|  114|   29|    0|    0|    0|    0|    0|    0|    0|    0|    0|    0|   86|  114|  141|  170|  198|  255|  255|  255|  255|  255|  255|  255|  170|  141|   86|    0|    0|    0|    0|    0|    0|    0|    0|    0|    0|    0|    0|  198|  255|  255|  255|  255|  255|  255|  255|  255|  255|  170|   29|    0|    0|    0|    0|    0|    0|    0|    0|    0|    0|    0|    0|    0|    0|    0|    0|  255|  255|  255|  255|  141|   86|   86|  198|  255|  198|    0|    0|    0|    0|    0|    0|    0|    0|    0|    0|    0|    0|    0|    0|    0|    0|    0|    0|  255|  255|  255|    0|    0|    0|   86|  255|  198|    0|    0|    0|    0|    0|    0|    0|    0|    0|    0|    0|    0|    0|    0|    0|    0|    0|    0|    0|  141|  255|  255|  141|   86|  114|  255|  255|   29|    0|    0|    0|    0|    0|    0|    0|    0|    0|    0|    0|    0|    0|    0|    0|    0|    0|    0|    0|    0|  170|  255|  255|  255|  255|  255|   57|    0|    0|    0|    0|    0|    0|    0|    0|    0|    0|    0|    0|    0|    0|    0|    0|    0|    0|    0|    0|    0|    0|  114|  170|  170|  170|   57|    0|    0|    0|    0|    0|    0|    0|    0|    0|    0|    0|    0|    0|    0|    0|    0|    0|    0|    0|    0|    0|    0|    0|    0|    0|    0|    0|    0|    0|    0|    0|    0|    0|    0|    0|    0|    0|    0|    0|    0|    0|    0|    0|    0|    0|    0|    0|    0|    0|    0|    0|    0|    0|    0|    0|    0|    0|    0|    0|    0|    0|    0|    0|    0|    0|    0|    0|    0|    0|    0|    0|    0|    0|    0|    0|    0|    0|    0|    0|    0|    0|    0|    0|    0|    0|    0|    0|    0|    0|    0|    0|    0|    0|    0|    0|    0|    0|    0|    0|    0|    0|    0|    0|    0|    0|    0|    0|    0|    0|    0|    0|    0|    0|    0|    0|    0|    0|    0|    0|    0|    0|    0|    0|    0|    0|    0|    0|    0|    0|    0|    0|    0|    0|    0|    0|    0|    0|    0|    0|    0|    0|    0|    0|    0|    0|    0|    0|    0|    0|    0|    0|    0|    0|    0|    0|    0|    0|    0|    0|    0|    0|    0|    0|    0|    0|    0|    0|    0|    0|    0|    0|    0|    0|    0|    0|    0|    0|    0|    0|    0|    0|    0|    0|\n",
            "|  0|  0|  0|  0|  0|  0|  0|  0|  0|  0|   0|   0|   0|   0|   0|   0|   0|   0|   0|   0|   0|   0|   0|   0|   0|   0|   0|   0|   0|   0|   0|   0|   0|   0|   0|   0|   0|   0|   0|   0|   0|   0|   0|   0|   0|   0|   0|   0|   0|   0|   0|   0|   0|   0|   0|   0|   0|   0|   0|   0|   0|   0|   0|   0|   0|   0|   0|   0|   0|   0|   0|   0|   0|   0|   0|   0|   0|   0|   0|   0|   0|   0|   0|   0|   0|   0|   0|   0|   0|   0|   0|   0|   0|   0|   0|   0|   0|   0|   0|   0|    0|    0|    0|    0|    0|    0|    0|    0|    0|    0|    0|    0|    0|    0|    0|    0|    0|    0|    0|    0|    0|    0|    0|    0|    0|    0|    0|    0|    0|    0|    0|    0|    0|    0|    0|    0|    0|    0|    0|    0|    0|    0|    0|    0|    0|    0|    0|    0|    0|    0|   51|  132|  130|  213|  254|  252|  252|  252|  214|   51|   51|   10|    0|    0|    0|    0|    0|    0|    0|    0|    0|    0|    0|    0|    0|    0|    0|    0|  252|  250|  250|  250|  252|  250|  250|  250|  252|  250|  250|  130|    0|    0|    0|    0|    0|    0|    0|    0|    0|    0|    0|    0|    0|    0|    0|  123|  252|  250|  250|  250|  252|  250|  250|  250|  252|  250|  250|  250|  123|    0|    0|    0|    0|    0|    0|    0|    0|    0|    0|    0|    0|    0|    0|  202|  252|  250|  250|  250|  252|  250|  250|  250|  252|  250|  250|  250|  243|  121|    0|    0|    0|    0|    0|    0|    0|    0|    0|    0|    0|    0|  152|  252|  254|  252|  222|   40|    0|    0|    0|  163|    0|   82|  232|  252|  254|  171|   20|    0|    0|    0|    0|    0|    0|    0|    0|    0|    0|    0|  151|  250|  252|  250|  100|    0|    0|    0|    0|    0|    0|    0|  151|  250|  252|  250|  100|    0|    0|    0|    0|    0|    0|    0|    0|    0|    0|   62|  211|  250|  252|  250|  100|    0|    0|    0|    0|    0|    0|    0|   60|  221|  252|  250|  100|    0|    0|    0|    0|    0|    0|    0|    0|    0|    0|  102|  250|  250|  252|  169|   20|    0|    0|    0|    0|    0|    0|    0|    0|   40|  252|  250|  100|    0|    0|    0|    0|    0|    0|    0|    0|    0|    0|  103|  252|  252|  203|    0|    0|    0|    0|    0|    0|    0|    0|    0|    0|    0|  254|  252|  252|   49|    0|    0|    0|    0|    0|    0|    0|    0|    0|  102|  250|  250|  121|    0|    0|    0|    0|    0|    0|    0|    0|    0|    0|    0|  252|  250|  189|   29|    0|    0|    0|    0|    0|    0|    0|    0|    0|  102|  250|  250|    0|    0|    0|    0|    0|    0|    0|    0|    0|    0|    0|    0|  252|  250|  100|    0|    0|    0|    0|    0|    0|    0|    0|    0|   41|  221|  250|  250|    0|    0|    0|    0|    0|    0|    0|    0|    0|    0|    0|    0|  252|  250|  100|    0|    0|    0|    0|    0|    0|    0|    0|    0|   51|  252|  252|  252|    0|    0|    0|    0|    0|    0|    0|    0|    0|    0|    0|    0|  254|  252|  100|    0|    0|    0|    0|    0|    0|    0|    0|    0|   31|  190|  250|  250|   82|    0|    0|    0|    0|    0|    0|    0|    0|    0|    0|   82|  252|  250|  100|    0|    0|    0|    0|    0|    0|    0|    0|    0|    0|  102|  250|  250|  202|    0|    0|    0|    0|    0|    0|    0|    0|   62|  151|  231|  252|  250|  100|    0|    0|    0|    0|    0|    0|    0|    0|    0|    0|  102|  250|  250|  243|  121|    0|    0|    0|    0|    0|    0|   41|  221|  250|  250|  252|  169|   20|    0|    0|    0|    0|    0|    0|    0|    0|    0|    0|   82|  202|  243|  255|  252|  252|   90|   52|   51|  172|  252|  254|  252|  252|  252|  163|    0|    0|    0|    0|    0|    0|    0|    0|    0|    0|    0|    0|    0|    0|  202|  252|  250|  250|  250|  252|  250|  250|  250|  252|  250|  250|  169|    0|    0|    0|    0|    0|    0|    0|    0|    0|    0|    0|    0|    0|    0|    0|   80|  252|  250|  250|  250|  252|  250|  250|  250|  252|  189|  100|   20|    0|    0|    0|    0|    0|    0|    0|    0|    0|    0|    0|    0|    0|    0|    0|    0|   49|  130|  250|  250|  252|  250|  250|  250|  212|   29|    0|    0|    0|    0|    0|    0|    0|    0|    0|    0|    0|    0|    0|    0|    0|    0|    0|    0|    0|    0|    0|    0|    0|    0|    0|    0|    0|    0|    0|    0|    0|    0|    0|    0|    0|    0|    0|    0|    0|    0|    0|    0|    0|    0|    0|    0|    0|    0|    0|    0|    0|    0|    0|    0|    0|    0|    0|    0|    0|    0|    0|    0|    0|    0|    0|    0|    0|    0|    0|    0|    0|    0|    0|    0|    0|    0|    0|    0|    0|    0|    0|    0|    0|    0|    0|    0|    0|    0|    0|    0|    0|    0|    0|\n",
            "|  1|  0|  0|  0|  0|  0|  0|  0|  0|  0|   0|   0|   0|   0|   0|   0|   0|   0|   0|   0|   0|   0|   0|   0|   0|   0|   0|   0|   0|   0|   0|   0|   0|   0|   0|   0|   0|   0|   0|   0|   0|   0|   0|   0|   0|   0|   0|   0|   0|   0|   0|   0|   0|   0|   0|   0|   0|   0|   0|   0|   0|   0|   0|   0|   0|   0|   0|   0|   0|   0|   0|   0|   0|   0|   0|   0|   0|   0|   0|   0|   0|   0|   0|   0|   0|   0|   0|   0|   0|   0|   0|   0|   0|   0|   0|   0|   0|   0|   0|   0|    0|    0|    0|    0|    0|    0|    0|    0|    0|    0|    0|    0|    0|    0|    0|    0|    0|    0|    0|    0|    0|    0|    0|    0|    0|    0|    0|    0|    0|  191|  255|    0|    0|    0|    0|    0|    0|    0|    0|    0|    0|    0|    0|    0|    0|    0|    0|    0|    0|    0|    0|    0|    0|    0|    0|    0|  128|  255|  255|    0|    0|    0|    0|    0|    0|    0|    0|    0|    0|    0|    0|    0|    0|    0|    0|    0|    0|    0|    0|    0|    0|    0|    0|    0|  255|  255|  255|    0|    0|    0|    0|    0|    0|    0|    0|    0|    0|    0|    0|    0|    0|    0|    0|    0|    0|    0|    0|    0|    0|    0|    0|    0|  255|  255|  255|    0|    0|    0|    0|    0|    0|    0|    0|    0|    0|    0|    0|    0|    0|    0|    0|    0|    0|    0|    0|    0|    0|    0|    0|   64|  255|  255|  191|    0|    0|    0|    0|    0|    0|    0|    0|    0|    0|    0|    0|    0|    0|    0|    0|    0|    0|    0|    0|    0|    0|    0|    0|  128|  255|  255|  128|    0|    0|    0|    0|    0|    0|    0|    0|    0|    0|    0|    0|    0|    0|    0|    0|    0|    0|    0|    0|    0|    0|    0|    0|  255|  255|  255|    0|    0|    0|    0|    0|    0|    0|    0|    0|    0|    0|    0|    0|    0|    0|    0|    0|    0|    0|    0|    0|    0|    0|    0|  128|  255|  255|  128|    0|    0|    0|    0|    0|    0|    0|    0|    0|    0|    0|    0|    0|    0|    0|    0|    0|    0|    0|    0|    0|    0|    0|    0|  128|  255|  255|  128|    0|    0|    0|    0|    0|    0|    0|    0|    0|    0|    0|    0|    0|    0|    0|    0|    0|    0|    0|    0|    0|    0|    0|    0|  128|  255|  255|  128|    0|    0|    0|    0|    0|    0|    0|    0|    0|    0|    0|    0|    0|    0|    0|    0|    0|    0|    0|    0|    0|    0|    0|    0|  255|  255|  255|   64|    0|    0|    0|    0|    0|    0|    0|    0|    0|    0|    0|    0|    0|    0|    0|    0|    0|    0|    0|    0|    0|    0|    0|    0|  255|  255|  255|    0|    0|    0|    0|    0|    0|    0|    0|    0|    0|    0|    0|    0|    0|    0|    0|    0|    0|    0|    0|    0|    0|    0|    0|   64|  255|  255|  128|    0|    0|    0|    0|    0|    0|    0|    0|    0|    0|    0|    0|    0|    0|    0|    0|    0|    0|    0|    0|    0|    0|    0|    0|  128|  255|  255|   64|    0|    0|    0|    0|    0|    0|    0|    0|    0|    0|    0|    0|    0|    0|    0|    0|    0|    0|    0|    0|    0|    0|    0|    0|  128|  255|  255|    0|    0|    0|    0|    0|    0|    0|    0|    0|    0|    0|    0|    0|    0|    0|    0|    0|    0|    0|    0|    0|    0|    0|    0|    0|  255|  255|  255|    0|    0|    0|    0|    0|    0|    0|    0|    0|    0|    0|    0|    0|    0|    0|    0|    0|    0|    0|    0|    0|    0|    0|    0|    0|  255|  255|  255|    0|    0|    0|    0|    0|    0|    0|    0|    0|    0|    0|    0|    0|    0|    0|    0|    0|    0|    0|    0|    0|    0|    0|    0|    0|  255|  255|  255|    0|    0|    0|    0|    0|    0|    0|    0|    0|    0|    0|    0|    0|    0|    0|    0|    0|    0|    0|    0|    0|    0|    0|    0|   64|  255|  255|  255|    0|    0|    0|    0|    0|    0|    0|    0|    0|    0|    0|    0|    0|    0|    0|    0|    0|    0|    0|    0|    0|    0|    0|    0|    0|  255|  255|  191|    0|    0|    0|    0|    0|    0|    0|    0|    0|    0|    0|    0|    0|    0|    0|    0|    0|    0|    0|    0|    0|    0|    0|    0|    0|    0|    0|    0|    0|    0|    0|    0|    0|    0|    0|    0|    0|    0|    0|    0|    0|    0|    0|    0|    0|    0|    0|    0|    0|    0|    0|    0|    0|    0|    0|    0|    0|    0|    0|    0|    0|    0|    0|    0|    0|    0|    0|    0|    0|    0|    0|    0|    0|    0|    0|    0|    0|    0|    0|    0|    0|    0|    0|    0|    0|    0|    0|    0|    0|    0|    0|    0|    0|    0|    0|    0|    0|    0|    0|    0|    0|    0|    0|    0|    0|    0|    0|    0|    0|    0|    0|    0|    0|    0|    0|    0|    0|    0|    0|    0|    0|    0|    0|    0|    0|\n",
            "|  3|  0|  0|  0|  0|  0|  0|  0|  0|  0|   0|   0|   0|   0|   0|   0|   0|   0|   0|   0|   0|   0|   0|   0|   0|   0|   0|   0|   0|   0|   0|   0|   0|   0|   0|   0|   0|   0|   0|   0|   0|   0|   0|   0|   0|   0|   0|   0|   0|   0|   0|   0|   0|   0|   0|   0|   0|   0|   0|   0|   0|   0|   0|   0|   0|   0|   0|   0|   0|   0|   0|   0|   0|   0|   0|   0|   0|   0|   0|   0|   0|   0|   0|   0|   0|   0|   0|   0|   0|   0|   0|   0|   0|   0|   0|   0|   0|   0|   0|   0|    0|    0|    0|    0|    0|    0|    0|    0|    0|    0|    0|    0|    0|    0|    0|    0|    0|    0|    0|    0|    0|    0|    0|    0|   31|   56|  212|  176|  254|  254|  160|   28|    0|    0|    0|    0|    0|    0|    0|    0|    0|    0|    0|    0|    0|    0|    0|    0|    0|    0|    0|    0|  136|  250|  243|  243|  243|  243|  250|  183|   33|    0|    0|    0|    0|    0|    0|    0|    0|    0|    0|    0|    0|    0|    0|    0|    0|    0|    0|    0|   15|   56|    0|    0|    0|    0|   60|  235|   74|    0|    0|    0|    0|    0|    0|    0|    0|    0|    0|    0|    0|    0|    0|    0|    0|    0|    0|    0|    0|    0|    0|    0|    0|    0|    0|  224|   74|    0|    0|    0|    0|    0|    0|    0|    0|    0|    0|    0|    0|    0|    0|    0|    0|    0|    0|    0|    0|    0|    0|    0|    0|    0|   78|  244|  142|    0|    0|    0|    0|    0|    0|    0|    0|    0|    0|    0|    0|    0|    0|    0|    0|    0|    0|    0|    0|    0|    0|    0|    8|   76|  212|  253|   84|    0|    0|    0|    0|    0|    0|    0|    0|    0|    0|    0|    0|    0|    0|    0|    0|    0|    0|    0|    0|    0|   17|  165|  201|  253|  253|  202|   21|    0|    0|    0|    0|    0|    0|    0|    0|    0|    0|    0|    0|    0|    0|    0|    0|    0|    0|  135|  239|  239|  242|  253|  253|  251|  186|   58|    0|    0|    0|    0|    0|    0|    0|    0|    0|    0|    0|    0|    0|    0|    0|    0|    0|    0|    0|  147|  253|  253|  253|  253|  194|   71|    0|    0|    0|    0|    0|    0|    0|    0|    0|    0|    0|    0|    0|    0|    0|    0|    0|    0|    0|    0|    0|   35|  218|  242|  253|  253|  227|   24|    0|    0|    0|    0|    0|    0|    0|    0|    0|    0|    0|    0|    0|    0|    0|    0|    0|    0|    0|    0|    0|    0|   20|   38|   49|   93|  250|  122|    0|    0|    0|    0|    0|    0|    0|    0|    0|    0|    0|    0|    0|    0|    0|    0|    0|    0|    0|    0|    0|    0|    0|    0|    0|    0|   23|  223|   53|    0|    0|    0|    0|    0|    0|    0|    0|    0|    0|    0|    0|    0|    0|    0|    0|    0|    0|    0|    0|    0|    0|    0|    0|    0|    0|  214|   84|    0|    0|    0|    0|    0|    0|    0|    0|    0|    0|    0|    0|    0|    0|    0|    0|    0|    0|    0|    0|    0|    0|    0|    0|    0|    0|  214|   84|    0|    0|    0|    0|    0|    0|    0|    0|    0|    0|    0|    0|    0|    0|    0|    0|    0|    0|    0|    0|    0|    0|    0|    0|    0|    0|  214|   84|    0|    0|    0|    0|    0|    0|    0|    0|    0|    0|    0|    0|    0|    0|    0|    0|    0|   15|  179|   18|    0|    0|    0|    0|    0|   75|  242|   84|    0|    0|    0|    0|    0|    0|    0|    0|    0|    0|    0|    0|    0|    0|    0|    0|    0|   21|  253|   38|    0|    0|    0|   55|  215|  246|  251|   73|    0|    0|    0|    0|    0|    0|    0|    0|    0|    0|    0|    0|    0|    0|    0|    0|    0|   13|  226|  221|  189|  150|  189|  252|  253|  253|  128|    0|    0|    0|    0|    0|    0|    0|    0|    0|    0|    0|    0|    0|    0|    0|    0|    0|    0|    0|   79|  253|  253|  253|  254|  245|  207|   86|    2|    0|    0|    0|    0|    0|    0|    0|    0|    0|    0|    0|    0|    0|    0|    0|    0|    0|    0|    0|   16|  156|  253|  253|  216|   85|    0|    0|    0|    0|    0|    0|    0|    0|    0|    0|    0|    0|    0|    0|    0|    0|    0|    0|    0|    0|    0|    0|    0|    0|    0|    0|    0|    0|    0|    0|    0|    0|    0|    0|    0|    0|    0|    0|    0|    0|    0|    0|    0|    0|    0|    0|    0|    0|    0|    0|    0|    0|    0|    0|    0|    0|    0|    0|    0|    0|    0|    0|    0|    0|    0|    0|    0|    0|    0|    0|    0|    0|    0|    0|    0|    0|    0|    0|    0|    0|    0|    0|    0|    0|    0|    0|    0|    0|    0|    0|    0|    0|    0|    0|    0|    0|    0|    0|    0|    0|    0|    0|    0|    0|    0|    0|    0|    0|    0|    0|    0|    0|    0|    0|    0|    0|    0|    0|    0|    0|    0|    0|    0|    0|    0|    0|\n",
            "|  2|  0|  0|  0|  0|  0|  0|  0|  0|  0|   0|   0|   0|   0|   0|   0|   0|   0|   0|   0|   0|   0|   0|   0|   0|   0|   0|   0|   0|   0|   0|   0|   0|   0|   0|   0|   0|   0|   0|   0|   0|   0|   0|   0|   0|   0|   0|   0|   0|   0|   0|   0|   0|   0|   0|   0|   0|   0|   0|   0|   0|   0|   0|   0|   0|   0|   0|   0|   0|   0|   0|   0|   0|   0|   0|   0|   0|   0|   0|   0|   0|   0|   0|   0|   0|   0|   0|   0|   0|   0|   0|   0|   0|   0|   0|   0|   0|   0|   0|   0|    0|    0|    0|    0|    0|    0|    0|    0|    0|    0|    0|    0|    0|    0|    0|    0|    0|    0|    0|    0|    0|    4|   43|   43|  149|  148|  148|  123|   43|    0|    0|    0|    0|    0|    0|    0|    0|    0|    0|    0|    0|    0|    0|    0|    0|    0|    0|    0|   29|  188|  253|  253|  254|  253|  253|  253|  253|  174|   21|    0|    0|    0|    0|    0|    0|    0|    0|    0|    0|    0|    0|    0|    0|    0|    0|    0|  166|  232|  232|  232|  144|  152|  135|  232|  241|  254|  238|   72|    0|    0|    0|    0|    0|    0|    0|    0|    0|    0|    0|    0|    0|    0|    0|    0|    0|    0|    0|    0|    0|    0|    0|    0|   36|  228|  253|  211|   83|    0|    0|    0|    0|    0|    0|    0|    0|    0|    0|    0|    0|    0|    0|    0|    0|    0|    0|    0|    0|    0|    0|    0|    0|   43|  227|  253|  190|    0|    0|    0|    0|    0|    0|    0|    0|    0|    0|    0|    0|    0|    0|    0|    0|    0|    0|    0|    0|    0|    0|    0|    0|    0|  129|  254|  228|   25|    0|    0|    0|    0|    0|    0|    0|    0|    0|    0|    0|    0|    0|    0|    0|    0|    0|    0|    0|    0|    0|    0|    0|    0|   57|  247|  253|   78|    0|    0|    0|    0|    0|    0|    0|    0|    0|    0|    0|    0|    0|    0|    0|    0|    0|    0|    0|    0|    0|    0|    0|    0|    0|  233|  253|  147|    0|    0|    0|    0|    0|    0|    0|    0|    0|    0|    0|    0|    0|    0|    0|    0|    0|    0|    0|    0|    0|    0|    0|    0|   57|  247|  253|  147|    0|    0|    0|    0|    0|    0|    0|    0|    0|    0|    0|    0|    0|    0|    0|    0|    0|    0|    0|    0|    0|    0|    0|    0|  129|  253|  253|   59|    0|    0|    0|    0|    0|    0|    0|    0|    0|    0|    0|    0|    0|    0|    0|    0|    0|    0|    0|    0|    0|    0|    0|    0|  192|  255|  217|   18|    0|    0|    0|    0|    0|    0|    0|    0|    0|    0|    0|    0|    0|    0|    0|    0|    0|    0|    0|    0|    0|    0|    0|   68|  238|  253|  190|    0|    0|    0|    0|    0|    0|    0|    0|    0|    0|    0|    0|    0|    0|    0|    0|    0|    6|   22|   22|   22|   11|    0|    0|  246|  253|  234|   51|    0|    0|    0|    2|   22|   66|    0|    0|    0|    0|    0|    0|    0|    0|    0|   22|  118|  191|  253|  254|  253|  211|  169|  169|  254|  253|  158|   64|   64|   82|  169|  177|  237|  145|    0|    0|    0|    0|    0|    0|    0|    0|   18|  200|  253|  253|  253|  254|  253|  253|  253|  253|  254|  253|  253|  253|  253|  254|  253|  156|   67|    0|    0|    0|    0|    0|    0|    0|    0|    0|  211|  254|  180|   80|    0|    0|   33|  238|  254|  254|  213|  132|  107|  107|  107|   45|    0|    0|    0|    0|    0|    0|    0|    0|    0|    0|    0|    0|  254|  253|  127|    0|    0|  147|  238|  253|  253|  138|    0|    0|    0|    0|    0|    0|    0|    0|    0|    0|    0|    0|    0|    0|    0|    0|    0|    0|  201|  253|  243|  233|  233|  254|  253|  225|  100|    4|    0|    0|    0|    0|    0|    0|    0|    0|    0|    0|    0|    0|    0|    0|    0|    0|    0|    0|   67|  211|  253|  253|  253|  190|  111|    7|    0|    0|    0|    0|    0|    0|    0|    0|    0|    0|    0|    0|    0|    0|    0|    0|    0|    0|    0|    0|    0|   14|   42|   42|   42|    0|    0|    0|    0|    0|    0|    0|    0|    0|    0|    0|    0|    0|    0|    0|    0|    0|    0|    0|    0|    0|    0|    0|    0|    0|    0|    0|    0|    0|    0|    0|    0|    0|    0|    0|    0|    0|    0|    0|    0|    0|    0|    0|    0|    0|    0|    0|    0|    0|    0|    0|    0|    0|    0|    0|    0|    0|    0|    0|    0|    0|    0|    0|    0|    0|    0|    0|    0|    0|    0|    0|    0|    0|    0|    0|    0|    0|    0|    0|    0|    0|    0|    0|    0|    0|    0|    0|    0|    0|    0|    0|    0|    0|    0|    0|    0|    0|    0|    0|    0|    0|    0|    0|    0|    0|    0|    0|    0|    0|    0|    0|    0|    0|    0|    0|    0|    0|    0|    0|    0|    0|    0|    0|    0|    0|    0|    0|    0|    0|\n",
            "|  6|  0|  0|  0|  0|  0|  0|  0|  0|  0|   0|   0|   0|   0|   0|   0|   0|   0|   0|   0|   0|   0|   0|   0|   0|   0|   0|   0|   0|   0|   0|   0|   0|   0|   0|   0|   0|   0|   0|   0|   0|   0|   0|   0|   0|   0|   0|   0|   0|   0|   0|   0|   0|   0|   0|   0|   0|   0|   0|   0|   0|   0|   0|   0|   0|   0|   0|   0|   0|   0|   0|   0|   0| 176| 255| 229|   0|   0|   0|   0|   0|   0|   0|   0|   0|   0|   0|   0|   0|   0|   0|   0|   0|   0|   0|   0|   0|   0|   0|   0|   26|  231|  253|  146|    0|    0|    0|    0|    0|    0|    0|    0|    0|    0|    0|    0|    0|    0|    0|    0|    0|    0|    0|    0|    0|    0|    0|    0|  125|  253|  253|  104|    0|    0|    0|    0|    0|    0|    0|    0|    0|    0|    0|    0|    0|    0|    0|    0|    0|    0|    0|    0|    0|    0|    4|   64|  241|  252|  206|   16|    0|    0|    0|    0|    0|    0|    0|    0|    0|    0|    0|    0|    0|    0|    0|    0|    0|    0|    0|    0|    0|    0|   50|  253|  254|  244|   34|    0|    0|    0|    0|    0|    0|    0|    0|    0|    0|    0|    0|    0|    0|    0|    0|    0|    0|    0|    0|    0|    0|   24|  231|  253|  246|   54|    0|    0|    0|    0|    0|    0|    0|    0|    0|    0|    0|    0|    0|    0|    0|    0|    0|    0|    0|    0|    0|    0|    0|  195|  253|  253|  122|    0|    0|    0|    0|    0|    0|    0|    0|    0|    0|    0|    0|    0|    0|    0|    0|    0|    0|    0|    0|    0|    0|    0|   93|  250|  253|  209|    6|    0|    0|    0|    0|    0|    0|    0|    0|    0|    0|    0|    0|    0|    0|    0|    0|    0|    0|    0|    0|    0|    0|    0|  179|  254|  254|  132|    0|    0|    0|    0|    0|    0|    0|    0|    0|    0|    0|    0|    0|    0|    0|    0|    0|    0|    0|    0|    0|    0|    0|   34|  243|  254|  224|   22|    0|    0|    0|    0|    0|    0|    0|    0|    0|    0|    0|    0|    0|    0|    0|    0|    0|    0|    0|    0|    0|    0|    0|    0|  161|  254|  203|    0|    0|    0|    0|    0|    0|    0|    0|    0|    0|    0|    0|    0|    0|    0|    0|    0|    0|    0|    0|    0|    0|    0|    8|   61|  203|  254|  180|    0|    0|    0|   17|  110|  141|    8|    0|    0|    0|    0|    0|    0|    0|    0|    0|    0|    0|    0|    0|    0|    2|   16|  200|  253|  253|  248|   20|    7|   78|  115|  192|  254|  241|  140|    0|    0|    0|    0|    0|    0|    0|    0|    0|    0|    0|    0|    0|    0|   48|  253|  253|  253|  242|   76|   14|  185|  253|  253|  253|  254|  253|  120|    0|    0|    0|    0|    0|    0|    0|    0|    0|    0|    0|    0|    0|    7|  211|  254|  241|  156|   70|    0|   60|  254|  254|  181|   74|  242|  254|  172|   26|    0|    0|    0|    0|    0|    0|    0|    0|    0|    0|    0|    0|   45|  243|  253|  164|   22|    0|    0|  220|  253|  253|   82|  229|  254|  253|  120|    0|    0|    0|    0|    0|    0|    0|    0|    0|    0|    0|    0|    0|   26|  205|  254|  242|  107|   91|  172|  253|  254|  254|  246|  254|  250|  117|    9|    0|    0|    0|    0|    0|    0|    0|    0|    0|    0|    0|    0|    0|    0|   95|  254|  254|  254|  254|  254|  254|  254|  254|  254|  253|  119|    0|    0|    0|    0|    0|    0|    0|    0|    0|    0|    0|    0|    0|    0|    0|    0|   13|  191|  254|  254|  254|  254|  254|  254|  254|  251|  142|   13|    0|    0|    0|    0|    0|    0|    0|    0|    0|    0|    0|    0|    0|    0|    0|    0|    0|   16|  144|  226|  253|  253|  234|  152|   54|   51|    0|    0|    0|    0|    0|    0|    0|    0|    0|    0|    0|    0|    0|    0|    0|    0|    0|    0|    0|    0|    0|    0|    0|    0|    0|    0|    0|    0|    0|    0|    0|    0|    0|    0|    0|    0|    0|    0|    0|    0|    0|    0|    0|    0|    0|    0|    0|    0|    0|    0|    0|    0|    0|    0|    0|    0|    0|    0|    0|    0|    0|    0|    0|    0|    0|    0|    0|    0|    0|    0|    0|    0|    0|    0|    0|    0|    0|    0|    0|    0|    0|    0|    0|    0|    0|    0|    0|    0|    0|    0|    0|    0|    0|    0|    0|    0|    0|    0|    0|    0|    0|    0|    0|    0|    0|    0|    0|    0|    0|    0|    0|    0|    0|    0|    0|    0|    0|    0|    0|    0|    0|    0|    0|    0|    0|    0|    0|    0|    0|    0|    0|    0|    0|    0|    0|    0|    0|    0|    0|    0|    0|    0|    0|    0|    0|    0|    0|    0|    0|    0|    0|    0|    0|    0|    0|    0|    0|    0|    0|    0|    0|    0|    0|    0|    0|    0|    0|    0|    0|    0|    0|    0|    0|    0|    0|    0|    0|    0|    0|\n",
            "|  2|  0|  0|  0|  0|  0|  0|  0|  0|  0|   0|   0|   0|   0|   0|   0|   0|   0|   0|   0|   0|   0|   0|   0|   0|   0|   0|   0|   0|   0|   0|   0|   0|   0|   0|   0|   0|   0|   0|   0|   0|   0|   0|   0|   0|   0|   0|   0|   0|   0|   0|   0|   0|   0|   0|   0|   0|   0|   0|   0|   0|   0|   0|   0|   0|   0|   0|   0|   0|   0|   0|   0|   0|   0|   0|   0|   0|   0|   0|   0|   0|   0|   0|   0|   0|   0|   0|   0|   0|   0|   0|   0|   0|   0|   0|   0|  39| 228| 254| 157|  125|  125|  106|    0|    0|    0|    0|    0|    0|    0|    0|    0|    0|    0|    0|    0|    0|    0|    0|    0|    0|    0|    0|   40|  227|  253|  253|  253|  253|  253|  252|  248|  155|    0|    0|    0|    0|    0|    0|    0|    0|    0|    0|    0|    0|    0|    0|    0|    0|    0|    0|   85|  253|  253|  253|  253|  253|  253|  253|  253|  252|  155|    0|    0|    0|    0|    0|    0|    0|    0|    0|    0|    0|    0|    0|    0|    0|    0|    0|    7|   59|  232|  253|  229|  224|  253|  253|  253|  253|  242|   46|    0|    0|    0|    0|    0|    0|    0|    0|    0|    0|    0|    0|    0|    0|    0|    0|    0|    0|   20|   25|   20|   18|  133|  253|  253|  253|  253|  110|    0|    0|    0|    0|    0|    0|    0|    0|    0|    0|    0|    0|    0|    0|    0|    0|    0|    0|    0|    0|    0|    0|    6|  180|  253|  253|  253|  110|    0|    0|    0|    0|    0|    0|    0|    0|    0|    0|    0|    0|    0|    0|    0|    0|    0|    0|    0|    0|    0|    0|    0|  169|  253|  253|  253|  110|    0|    0|    0|    0|    0|    0|    0|    0|    0|    0|    0|    0|    0|    0|    0|    0|    0|    0|    0|    0|    0|    0|   38|  239|  253|  253|  253|  110|    0|    0|    0|    0|    0|    0|    0|    0|    0|    0|    0|    0|    0|    0|    0|    0|    0|    0|    0|    0|    0|    0|   46|  253|  253|  253|  248|   79|    0|    0|    0|    0|    0|    0|    0|    0|    0|    0|    0|    0|    0|    0|    0|    0|    0|    0|    0|    0|    0|    0|   80|  253|  253|  253|  234|    0|    0|    0|    0|    0|    0|    0|    0|    0|    0|    0|    0|    0|    0|    0|    0|    0|    0|    0|    0|    0|    0|    0|  176|  253|  253|  253|  136|    0|    0|    0|    0|    0|    0|    0|    0|    0|    0|    0|    0|    0|    0|    0|    0|   46|   53|  160|   79|   39|    0|   65|  232|  253|  253|  234|   29|    0|    0|    0|    0|    0|    0|    0|    0|    0|    0|    0|    0|    0|    0|    0|   92|  244|  253|  253|  253|  233|  176|  232|  253|  253|  253|  136|    0|    0|    0|    0|    0|    0|    0|    0|    0|    0|    0|    0|    0|    0|    0|   91|  245|  253|  253|  253|  253|  253|  253|  253|  253|  253|  211|   32|    0|    0|    0|    0|    0|    0|    0|    0|    0|    0|    0|    0|    0|    0|   72|  247|  253|  253|  225|  220|  247|  253|  253|  253|  253|  253|   91|    0|    0|    0|    0|    0|    0|    0|    0|    0|    0|    0|    0|    0|    0|    0|  112|  253|  253|  197|   15|    9|  207|  253|  253|  253|  253|  233|   44|    0|    0|    0|    0|    0|    0|    0|    0|    0|    0|    0|    0|    0|    0|    0|  103|  252|  253|  216|   83|  182|  253|  253|  253|  253|  253|  253|   91|    0|    0|    0|    0|    0|    0|    0|    0|    0|    0|    0|    0|    0|    0|    0|    0|  228|  253|  253|  253|  253|  253|  253|  253|  253|  253|  253|  166|    5|    0|    0|    0|    0|    0|    0|    0|    0|    0|    0|    0|    0|    0|    0|    0|  105|  253|  253|  253|  253|  253|  248|  247|  251|  253|  253|  253|  167|    0|    0|    0|    0|    0|    0|    0|    0|    0|    0|    0|    0|    0|    0|    0|   51|  173|  253|  253|  253|  149|   28|    0|  183|  253|  253|  253|  227|    0|    0|    0|    0|    0|    0|    0|    0|    0|    0|    0|    0|    0|    0|    0|    0|    0|    0|    0|    0|    0|    0|    0|    0|    0|    0|    0|    0|    0|    0|    0|    0|    0|    0|    0|    0|    0|    0|    0|    0|    0|    0|    0|    0|    0|    0|    0|    0|    0|    0|    0|    0|    0|    0|    0|    0|    0|    0|    0|    0|    0|    0|    0|    0|    0|    0|    0|    0|    0|    0|    0|    0|    0|    0|    0|    0|    0|    0|    0|    0|    0|    0|    0|    0|    0|    0|    0|    0|    0|    0|    0|    0|    0|    0|    0|    0|    0|    0|    0|    0|    0|    0|    0|    0|    0|    0|    0|    0|    0|    0|    0|    0|    0|    0|    0|    0|    0|    0|    0|    0|    0|    0|    0|    0|    0|    0|    0|    0|    0|    0|    0|    0|    0|    0|    0|    0|    0|    0|    0|    0|    0|    0|    0|    0|    0|    0|    0|    0|\n",
            "|  2|  0|  0|  0|  0|  0|  0|  0|  0|  0|   0|   0|   0|   0|   0|   0|   0|   0|   0|   0|   0|   0|   0|   0|   0|   0|   0|   0|   0|   0|   0|   0|   0|   0|   0|   0|   0|   0|   0|   0|   0|   0|   0|   0|   0|   0|   0|   0|   0|   0|   0|   0|   0|   0|   0|   0|   0|   0|   0|   0|   0|   0|   0|   0|   0|   0|   0|   0|   0|   0|   0|   0|   0|   0|   0|   0|   0|   0|   0|   0|   0|   0|   0|   0|   0|   0|   0|   0|   0|   0|   0|   0|   0|   0|   0|   0|   0|   0|   0|   0|    0|    0|    0|    0|    0|    0|    0|    0|    0|    0|    0|    0|    0|    0|    0|    0|    0|    0|    0|    0|    0|   17|  118|  138|  139|  159|  253|  201|  253|  191|  138|  138|   44|    3|    0|    0|    0|    0|    0|    0|    0|    0|    0|    0|    0|    0|    0|    0|  104|  228|  252|  252|  253|  252|  252|  252|  252|  253|  252|  252|  252|  169|   22|    0|    0|    0|    0|    0|    0|    0|    0|    0|    0|    0|    0|   11|  203|  233|  183|  183|  184|  183|  183|  183|  183|  222|  252|  252|  252|  252|  199|    0|    0|    0|    0|    0|    0|    0|    0|    0|    0|    0|    0|    0|  103|   64|    0|    0|    0|    0|    0|    0|    0|   25|   45|   77|  236|  252|  230|    0|    0|    0|    0|    0|    0|    0|    0|    0|    0|    0|    0|    0|    0|    0|    0|    0|    0|    0|    0|    0|    0|    0|    0|   32|  228|  252|  230|    0|    0|    0|    0|    0|    0|    0|    0|    0|    0|    0|    0|    0|    0|    0|    0|    0|    0|    0|    0|    0|    0|    0|   26|  222|  253|  253|  221|    0|    0|    0|    0|    0|    0|    0|    0|    0|    0|    0|    0|    0|    0|    0|    0|    0|    0|    0|    0|    0|    0|    5|  136|  252|  252|  231|   42|    0|    0|    0|    0|    0|    0|    0|    0|    0|    0|    0|    0|    0|    0|    0|    0|    0|    0|    0|    0|    0|    0|  138|  252|  252|  227|  100|    0|    0|    0|    0|    0|    0|    0|    0|    0|    0|    0|    0|    0|    0|    0|    0|    0|    0|    0|    0|    0|    0|  189|  253|  252|  252|   66|    0|    0|    0|    0|    0|    0|    0|    0|    0|    0|    0|    0|    0|    0|    0|    0|    0|    0|    0|    0|    0|   32|  157|  250|  253|  231|  106|    4|    0|    0|    0|    0|    0|    0|    0|    0|    0|    0|    0|    0|    0|    0|    0|    0|    0|    0|    0|    3|   97|  222|  253|  253|  231|   95|    0|    0|    0|    0|    0|    0|    0|    0|    0|    0|    0|    0|    0|    0|    0|    0|    0|    0|    0|    0|   22|  170|  252|  252|  252|  157|   42|    0|    0|    0|    0|    0|    0|    0|    0|    0|    0|    0|    0|    0|    0|    0|    0|    0|    0|    0|    0|   26|  205|  253|  252|  233|  141|    6|    0|    0|    0|    0|    0|    0|    0|    0|    0|    0|    0|    0|    0|    0|    0|    0|    0|    0|    0|    0|   26|  203|  252|  253|  235|   64|    0|    0|    0|    0|    0|    0|    0|    0|    0|    0|    0|    0|    0|    0|    0|    0|    0|    0|    0|    0|    0|   22|  205|  252|  252|  243|   60|    0|    0|    0|    0|    0|    0|    0|    0|   64|  136|  230|  188|   11|    0|    0|    0|    0|    0|    0|    0|    0|   24|  253|  253|  253|  180|    0|    0|    0|    0|    0|    3|   24|   24|   24|  181|  255|  253|  205|   74|    0|    0|    0|    0|    0|    0|    0|    0|    0|   45|  252|  252|  193|    8|    0|    0|    0|   17|   99|  170|  252|  252|  252|  252|  228|  185|   25|    0|    0|    0|    0|    0|    0|    0|    0|    0|    0|  107|  252|  252|  227|  184|  185|  184|  184|  209|  252|  253|  252|  252|  227|  130|   32|    0|    0|    0|    0|    0|    0|    0|    0|    0|    0|    0|    0|   15|  219|  252|  252|  252|  253|  252|  252|  252|  252|  203|  139|   45|   29|    0|    0|    0|    0|    0|    0|    0|    0|    0|    0|    0|    0|    0|    0|    0|   36|  137|  232|  252|  253|  252|  168|  137|   85|   11|    0|    0|    0|    0|    0|    0|    0|    0|    0|    0|    0|    0|    0|    0|    0|    0|    0|    0|    0|    0|    0|    0|    0|    0|    0|    0|    0|    0|    0|    0|    0|    0|    0|    0|    0|    0|    0|    0|    0|    0|    0|    0|    0|    0|    0|    0|    0|    0|    0|    0|    0|    0|    0|    0|    0|    0|    0|    0|    0|    0|    0|    0|    0|    0|    0|    0|    0|    0|    0|    0|    0|    0|    0|    0|    0|    0|    0|    0|    0|    0|    0|    0|    0|    0|    0|    0|    0|    0|    0|    0|    0|    0|    0|    0|    0|    0|    0|    0|    0|    0|    0|    0|    0|    0|    0|    0|    0|    0|    0|    0|    0|    0|    0|    0|    0|    0|    0|    0|    0|    0|    0|    0|    0|\n",
            "|  8|  0|  0|  0|  0|  0|  0|  0|  0|  0|   0|   0|   0|   0|   0|   0|   0|   0|   0|   0|   0|   0|   0|   0|   0|   0|   0|   0|   0|   0|   0|   0|   0|   0|   0|   0|   0|   0|   0|   0|   0|   0|   0|   0|   0|   0|   0|   0|   0|   0|   0|   0|   0|   0|   0|   0|   0|   0|   0|   0|   0|   0|   0|   0|   0|   0|   0|   0|   0|   0|   0|   0|   0|   0|   0|   0|   0|   0|   0|   0|   0|   0|   0|   0|   0|   0|   0|   0|   0|   0|   0|   0|   0|   0|   0|   0|   0|   0|   0|   0|    0|    0|    0|    0|    0|    0|    0|    0|    0|    0|    0|    0|    0|    0|    0|    0|    0|    0|    0|    0|    0|    0|    0|    0|    0|    0|    3|   74|  254|  255|  202|   75|    0|    0|    0|    0|    0|    0|    0|    0|    0|    0|    0|    0|    0|    0|    0|    0|    0|    0|    0|    0|    0|    4|  127|  245|  218|  173|  152|  242|   15|    0|    0|    0|    0|    0|    0|    0|    0|    0|    0|    0|    0|    0|    0|    0|    0|    0|    0|    0|    5|  179|  253|  169|    0|    0|    0|  168|  160|    0|    0|    0|    0|    0|    0|    0|    0|    0|    0|    0|    0|    0|    0|    0|    0|    0|    0|    0|   40|  253|  167|   20|    0|    0|    0|  130|  160|    0|    0|    0|    0|    0|    0|    0|    0|    0|    0|    0|    0|    0|    0|    0|    0|    0|    0|    0|  166|  253|  116|    0|    0|    0|    0|  121|   20|    0|    0|    0|    0|    0|    0|    0|    0|    0|    0|    0|    0|    0|    0|    0|    0|    0|    0|    0|  243|  253|   94|    0|    0|    0|    0|   69|    0|   20|   80|    0|    0|    0|    0|    0|    0|    0|    0|    0|    0|    0|    0|    0|    0|    0|    0|    0|  243|  253|   94|    0|    0|    5|   59|  185|  243|  245|  185|    0|    0|    0|    0|    0|    0|    0|    0|    0|    0|    0|    0|    0|    0|    0|    0|    0|  165|  253|  105|    6|  116|  236|  253|  252|  230|  152|   31|    0|    0|    0|    0|    0|    0|    0|    0|    0|    0|    0|    0|    0|    0|    0|    0|    0|    6|  253|  238|  182|  253|  238|  159|   90|    0|    0|    0|    0|    0|    0|    0|    0|    0|    0|    0|    0|    0|    0|    0|    0|    0|    0|    0|    0|    6|  253|  253|  253|  235|   67|    0|    0|    0|    0|    0|    0|    0|    0|    0|    0|    0|    0|    0|    0|    0|    0|    0|    0|    0|    0|    0|   33|  136|  253|  253|  253|  200|   13|    0|    0|    0|    0|    0|    0|    0|    0|    0|    0|    0|    0|    0|    0|    0|    0|    0|    0|    0|    0|   34|  161|  253|  244|  218|  253|  253|   85|    0|    0|    0|    0|    0|    0|    0|    0|    0|    0|    0|    0|    0|    0|    0|    0|    0|    0|    0|    0|  197|  253|  195|   21|   15|  184|  253|  245|   74|    0|    0|    0|    0|    0|    0|    0|    0|    0|    0|    0|    0|    0|    0|    0|    0|    0|    3|  133|  252|  198|    8|    0|    0|   32|  223|  253|  141|    0|    0|    0|    0|    0|    0|    0|    0|    0|    0|    0|    0|    0|    0|    0|    0|    0|   54|  253|  253|   78|    0|    0|    0|    0|  127|  253|  206|    3|    0|    0|    0|    0|    0|    0|    0|    0|    0|    0|    0|    0|    0|    0|    0|    0|   54|  253|  195|   10|    0|    0|    0|   12|  165|  253|  232|    4|    0|    0|    0|    0|    0|    0|    0|    0|    0|    0|    0|    0|    0|    0|    0|    0|   54|  253|  164|    0|    0|    0|   11|  110|  253|  253|  141|    0|    0|    0|    0|    0|    0|    0|    0|    0|    0|    0|    0|    0|    0|    0|    0|    0|   54|  253|  235|   97|   84|   84|  166|  253|  253|  222|   40|    0|    0|    0|    0|    0|    0|    0|    0|    0|    0|    0|    0|    0|    0|    0|    0|    0|   33|  228|  253|  253|  253|  253|  253|  230|  117|   22|    0|    0|    0|    0|    0|    0|    0|    0|    0|    0|    0|    0|    0|    0|    0|    0|    0|    0|    0|   46|  176|  253|  253|  253|  178|  104|    0|    0|    0|    0|    0|    0|    0|    0|    0|    0|    0|    0|    0|    0|    0|    0|    0|    0|    0|    0|    0|    0|    0|    0|    0|    0|    0|    0|    0|    0|    0|    0|    0|    0|    0|    0|    0|    0|    0|    0|    0|    0|    0|    0|    0|    0|    0|    0|    0|    0|    0|    0|    0|    0|    0|    0|    0|    0|    0|    0|    0|    0|    0|    0|    0|    0|    0|    0|    0|    0|    0|    0|    0|    0|    0|    0|    0|    0|    0|    0|    0|    0|    0|    0|    0|    0|    0|    0|    0|    0|    0|    0|    0|    0|    0|    0|    0|    0|    0|    0|    0|    0|    0|    0|    0|    0|    0|    0|    0|    0|    0|    0|    0|    0|    0|    0|    0|    0|    0|    0|    0|    0|    0|    0|    0|\n",
            "|  6|  0|  0|  0|  0|  0|  0|  0|  0|  0|   0|   0|   0|   0|   0|   0|   0|   0|   0|   0|   0|   0|   0|   0|   0|   0|   0|   0|   0|   0|   0|   0|   0|   0|   0|   0|   0|   0|   0|   0|   0|   0|   0|   0|   0|   0|   0|   0|   0|   0|   0|   0|   0|   0|   0|   0|   0|   0|   0|   0|   0|   0|   0|   0|   0|   0|   0|   0|   4| 150| 253|  87|   0|   0|   0|   0|   0|   0|   0|   0|   0|   0|   0|   0|   0|   0|   0|   0|   0|   0|   0|   0|   0|   0|   0|   0|  73| 252| 252| 143|    0|    0|    0|    0|    0|    0|    0|    0|    0|    0|    0|    0|    0|    0|    0|    0|    0|    0|    0|    0|    0|    0|    0|    0|   73|  252|  252|  143|    0|    0|    0|    0|    0|    0|    0|    0|    0|    0|    0|    0|    0|    0|    0|    0|    0|    0|    0|    0|    0|    0|    0|    0|   73|  252|  252|  143|    0|    0|    0|    0|    0|    0|    0|    0|    0|    0|    0|    0|    0|    0|    0|    0|    0|    0|    0|    0|    0|    0|    0|    0|  159|  252|  252|  115|    0|    0|    0|    0|    0|    0|    0|    0|    0|    0|    0|    0|    0|    0|    0|    0|    0|    0|    0|    0|    0|    0|    0|   47|  238|  252|  224|   17|    0|    0|    0|    0|    0|    0|    0|    0|    0|    0|    0|    0|    0|    0|    0|    0|    0|    0|    0|    0|    0|    0|    0|  158|  252|  252|   58|    0|    0|    0|    0|    0|    0|    0|    0|    0|    0|    0|    0|    0|    0|    0|    0|    0|    0|    0|    0|    0|    0|    0|    0|  181|  252|  252|   36|    0|    0|    0|    0|    0|    0|    0|    0|    0|    0|    0|    0|    0|    0|    0|    0|    0|    0|    0|    0|    0|    0|    0|    0|  181|  252|  252|   36|    0|    0|    0|    0|    0|    0|    0|    0|    0|    0|    0|    0|    0|    0|    0|    0|    0|    0|    0|    0|    0|    0|    0|    0|  181|  252|  171|    2|    0|    0|    0|    0|    0|    0|    0|    0|    0|    0|    0|    0|    0|    0|    0|    0|    0|    0|    0|    0|    0|    0|    0|   26|  219|  253|  213|   29|   65|  132|  255|  253|  253|  253|  167|   32|    0|    0|    0|    0|    0|    0|    0|    0|    0|    0|    0|    0|    0|    0|    0|   49|  252|  252|  252|  252|  252|  252|  253|  252|  252|  252|  252|  128|    0|    0|    0|    0|    0|    0|    0|    0|    0|    0|    0|    0|    0|    0|    0|   49|  252|  252|  252|  252|  252|  252|  217|  146|   96|  200|  252|  180|    0|    0|    0|    0|    0|    0|    0|    0|    0|    0|    0|    0|    0|    0|    0|   49|  252|  252|  252|  252|  179|   84|    0|    0|    7|  185|  252|  180|    0|    0|    0|    0|    0|    0|    0|    0|    0|    0|    0|    0|    0|    0|    0|   37|  235|  252|  252|  229|  110|    0|    0|    0|   37|  252|  252|  180|    0|    0|    0|    0|    0|    0|    0|    0|    0|    0|    0|    0|    0|    0|    0|    0|  181|  252|  252|   99|    0|    0|    0|   42|  156|  252|  252|  145|    0|    0|    0|    0|    0|    0|    0|    0|    0|    0|    0|    0|    0|    0|    0|    0|  121|  232|  252|  234|   96|   45|   51|  232|  252|  252|  252|   60|    0|    0|    0|    0|    0|    0|    0|    0|    0|    0|    0|    0|    0|    0|    0|    0|    0|   90|  252|  252|  252|  235|  237|  252|  252|  252|  200|    9|    0|    0|    0|    0|    0|    0|    0|    0|    0|    0|    0|    0|    0|    0|    0|    0|    0|    7|  157|  252|  252|  252|  253|  252|  252|  156|   18|    0|    0|    0|    0|    0|    0|    0|    0|    0|    0|    0|    0|    0|    0|    0|    0|    0|    0|    0|    4|   58|  183|  252|  253|  183|   57|    4|    0|    0|    0|    0|    0|    0|    0|    0|    0|    0|    0|    0|    0|    0|    0|    0|    0|    0|    0|    0|    0|    0|    0|    0|    0|    0|    0|    0|    0|    0|    0|    0|    0|    0|    0|    0|    0|    0|    0|    0|    0|    0|    0|    0|    0|    0|    0|    0|    0|    0|    0|    0|    0|    0|    0|    0|    0|    0|    0|    0|    0|    0|    0|    0|    0|    0|    0|    0|    0|    0|    0|    0|    0|    0|    0|    0|    0|    0|    0|    0|    0|    0|    0|    0|    0|    0|    0|    0|    0|    0|    0|    0|    0|    0|    0|    0|    0|    0|    0|    0|    0|    0|    0|    0|    0|    0|    0|    0|    0|    0|    0|    0|    0|    0|    0|    0|    0|    0|    0|    0|    0|    0|    0|    0|    0|    0|    0|    0|    0|    0|    0|    0|    0|    0|    0|    0|    0|    0|    0|    0|    0|    0|    0|    0|    0|    0|    0|    0|    0|    0|    0|    0|    0|    0|    0|    0|    0|    0|    0|    0|    0|    0|    0|    0|    0|    0|    0|    0|    0|    0|    0|    0|    0|    0|    0|    0|\n",
            "|  8|  0|  0|  0|  0|  0|  0|  0|  0|  0|   0|   0|   0|   0|   0|   0|   0|   0|   0|   0|   0|   0|   0|   0|   0|   0|   0|   0|   0|   0|   0|   0|   0|   0|   0|   0|   0|   0|   0|   0|   0|   0|   0|   0|   0|   0|   0|   0|   0|   0|   0|   0|   0|   0|   0|   0|   0|   0|   0|   0|   0|   0|   0|   0|   0|   0|   0|   0|   0|   0|   0|   0|   0|   0|   0|   0|   0|   0|   0|   0|   0|   0|   0|   0|   0|   0|   0|   0|   0|   0|   0|   0|   0|   0|   0|   0|   0|   0|   0|   0|    0|    0|    0|    0|    0|    0|    0|    0|    0|    0|    0|    0|    0|    0|    0|    0|    0|    0|    0|    0|    0|    0|    0|    0|    0|    0|    0|    0|    0|    0|    0|    0|    0|    0|    0|    0|    0|    0|    0|    0|    0|    0|    0|    0|    0|    0|    0|    0|    0|    0|   14|   67|  156|  156|  231|  255|  254|  186|  141|   36|    0|    0|    0|    0|    0|    0|    0|    0|    0|    0|    0|    0|    0|    0|    0|    0|    0|   53|  224|  253|  253|  234|  233|  234|  233|  233|  251|  238|   91|    0|    0|    0|    0|    0|    0|    0|    0|    0|    0|    0|    0|    0|    0|    0|   28|  235|  254|  179|   78|    6|    0|    0|    0|    0|   87|  235|  236|   95|    0|    0|    0|    0|    0|    0|    0|    0|    0|    0|    0|    0|    0|    0|  129|  253|  161|    3|    0|    0|    0|    0|    0|    0|    0|   90|  254|  135|    0|    0|    0|    0|    0|    0|    0|    0|    0|    0|    0|    0|    0|    0|   62|  253|  218|   15|    0|    0|    0|    0|    0|    0|    0|   76|  254|  135|    0|    0|    0|    0|    0|    0|    0|    0|    0|    0|    0|    0|    0|    0|   16|  195|  255|  163|   41|    0|    0|   14|   32|    0|   10|  209|  241|   68|    0|    0|    0|    0|    0|    0|    0|    0|    0|    0|    0|    0|    0|    0|    0|   15|  238|  253|  241|  214|  214|  224|  128|    7|  168|  253|  142|    0|    0|    0|    0|    0|    0|    0|    0|    0|    0|    0|    0|    0|    0|    0|    0|    0|   18|  166|  253|  253|  253|  183|   56|  199|  253|  154|    0|    0|    0|    0|    0|    0|    0|    0|    0|    0|    0|    0|    0|    0|    0|    0|    0|    0|    0|  118|  155|  140|   58|  129|  243|  253|  164|   27|    0|    0|    0|    0|    0|    0|    0|    0|    0|    0|    0|    0|    0|    0|    0|    0|    0|    0|   23|  229|  253|  253|  253|  254|  253|  192|    5|    0|    0|    0|    0|    0|    0|    0|    0|    0|    0|    0|    0|    0|    0|    0|    0|    0|    0|    0|    0|   83|  206|  254|  254|  255|  254|  254|  111|   14|    0|    0|    0|    0|    0|    0|    0|    0|    0|    0|    0|    0|    0|    0|    0|    0|    0|    0|    0|   17|  211|  253|  200|   99|  182|  253|  253|  185|    8|    0|    0|    0|    0|    0|    0|    0|    0|    0|    0|    0|    0|    0|    0|    0|    0|    0|    0|  185|  253|  195|   18|    0|    6|  108|  247|  253|   98|    0|    0|    0|    0|    0|    0|    0|    0|    0|    0|    0|    0|    0|    0|    0|    0|    0|   10|  220|  253|  102|    0|    0|    0|    0|   92|  253|  150|    0|    0|    0|    0|    0|    0|    0|    0|    0|    0|    0|    0|    0|    0|    0|    0|    0|   97|  253|  222|   12|    0|    0|    0|    0|   40|  253|  195|    0|    0|    0|    0|    0|    0|    0|    0|    0|    0|    0|    0|    0|    0|    0|    0|    0|  156|  254|  137|    0|    0|    0|    0|    0|   62|  254|  173|    0|    0|    0|    0|    0|    0|    0|    0|    0|    0|    0|    0|    0|    0|    0|    0|    0|   74|  253|  241|   24|    0|    0|    2|   50|  228|  253|   91|    0|    0|    0|    0|    0|    0|    0|    0|    0|    0|    0|    0|    0|    0|    0|    0|    0|   41|  241|  253|  196|   48|   49|  129|  253|  253|  192|    0|    0|    0|    0|    0|    0|    0|    0|    0|    0|    0|    0|    0|    0|    0|    0|    0|    0|    0|  147|  253|  253|  245|  246|  253|  240|  161|   27|    0|    0|    0|    0|    0|    0|    0|    0|    0|    0|    0|    0|    0|    0|    0|    0|    0|    0|    0|    5|  126|  155|  230|  254|  162|   40|    0|    0|    0|    0|    0|    0|    0|    0|    0|    0|    0|    0|    0|    0|    0|    0|    0|    0|    0|    0|    0|    0|    0|    0|    0|    0|    0|    0|    0|    0|    0|    0|    0|    0|    0|    0|    0|    0|    0|    0|    0|    0|    0|    0|    0|    0|    0|    0|    0|    0|    0|    0|    0|    0|    0|    0|    0|    0|    0|    0|    0|    0|    0|    0|    0|    0|    0|    0|    0|    0|    0|    0|    0|    0|    0|    0|    0|    0|    0|    0|    0|    0|    0|    0|    0|    0|    0|    0|    0|    0|    0|    0|    0|    0|    0|\n",
            "|  1|  0|  0|  0|  0|  0|  0|  0|  0|  0|   0|   0|   0|   0|   0|   0|   0|   0|   0|   0|   0|   0|   0|   0|   0|   0|   0|   0|   0|   0|   0|   0|   0|   0|   0|   0|   0|   0|   0|   0|   0|   0|   0|   0|   0|   0|   0|   0|   0|   0|   0|   0|   0|   0|   0|   0|   0|   0|   0|   0|   0|   0|   0|   0|   0|   0|   0|   0|   0|   0|   0|   0|   0|   0|   0|   0|   0|   0|   0|   0|   0|   0|   0|   0|   0|   0|   0|   0|   0|   0|   0|   0|   0|   0|   0|   0|   0|   0|   0|   0|    0|    0|    0|    0|    0|    0|    0|    0|    0|    0|    0|    0|    0|    0|    0|    0|    0|    0|    0|    0|    0|    0|    0|    0|    0|    0|    0|    0|    0|    0|    0|    0|    0|    0|    0|    0|    0|    0|    0|    0|    0|    0|    0|    0|    0|    0|    0|    0|    0|    0|    0|    0|    0|    0|    0|    0|  255|  253|  150|    0|    0|    0|    0|    0|    0|    0|    0|    0|    0|    0|    0|    0|    0|    0|    0|    0|    0|    0|    0|    0|    0|    0|   11|  147|  253|  252|  249|  110|    0|    0|    0|    0|    0|    0|    0|    0|    0|    0|    0|    0|    0|    0|    0|    0|    0|    0|    0|    0|    0|    0|   54|  252|  253|  252|  252|  132|    0|    0|    0|    0|    0|    0|    0|    0|    0|    0|    0|    0|    0|    0|    0|    0|    0|    0|    0|    0|    0|    0|  193|  252|  253|  252|  252|  132|    0|    0|    0|    0|    0|    0|    0|    0|    0|    0|    0|    0|    0|    0|    0|    0|    0|    0|    0|    0|    0|    0|  193|  252|  253|  252|  247|   94|    0|    0|    0|    0|    0|    0|    0|    0|    0|    0|    0|    0|    0|    0|    0|    0|    0|    0|    0|    0|    0|   11|  200|  252|  253|  244|  121|    0|    0|    0|    0|    0|    0|    0|    0|    0|    0|    0|    0|    0|    0|    0|    0|    0|    0|    0|    0|    0|    0|   90|  252|  252|  253|  192|    0|    0|    0|    0|    0|    0|    0|    0|    0|    0|    0|    0|    0|    0|    0|    0|    0|    0|    0|    0|    0|    0|    0|  142|  252|  252|  253|  192|    0|    0|    0|    0|    0|    0|    0|    0|    0|    0|    0|    0|    0|    0|    0|    0|    0|    0|    0|    0|    0|    0|    0|  238|  252|  252|  253|  192|    0|    0|    0|    0|    0|    0|    0|    0|    0|    0|    0|    0|    0|    0|    0|    0|    0|    0|    0|    0|    0|    0|   80|  246|  252|  252|  253|  192|    0|    0|    0|    0|    0|    0|    0|    0|    0|    0|    0|    0|    0|    0|    0|    0|    0|    0|    0|    0|    0|    0|  134|  253|  253|  253|  255|  193|    0|    0|    0|    0|    0|    0|    0|    0|    0|    0|    0|    0|    0|    0|    0|    0|    0|    0|    0|    0|    0|    0|  134|  252|  252|  252|  253|  192|    0|    0|    0|    0|    0|    0|    0|    0|    0|    0|    0|    0|    0|    0|    0|    0|    0|    0|    0|    0|    0|    0|  134|  252|  252|  252|  253|   96|    0|    0|    0|    0|    0|    0|    0|    0|    0|    0|    0|    0|    0|    0|    0|    0|    0|    0|    0|    0|    0|    0|  134|  252|  252|  252|  204|   23|    0|    0|    0|    0|    0|    0|    0|    0|    0|    0|    0|    0|    0|    0|    0|    0|    0|    0|    0|    0|    0|    9|  169|  252|  252|  252|  105|    0|    0|    0|    0|    0|    0|    0|    0|    0|    0|    0|    0|    0|    0|    0|    0|    0|    0|    0|    0|    0|    0|   30|  252|  252|  252|  252|   89|    0|    0|    0|    0|    0|    0|    0|    0|    0|    0|    0|    0|    0|    0|    0|    0|    0|    0|    0|    0|    0|    0|   14|  189|  252|  252|  252|    0|    0|    0|    0|    0|    0|    0|    0|    0|    0|    0|    0|    0|    0|    0|    0|    0|    0|    0|    0|    0|    0|    0|    0|  134|  252|  252|  252|    0|    0|    0|    0|    0|    0|    0|    0|    0|    0|    0|    0|    0|    0|    0|    0|    0|    0|    0|    0|    0|    0|    0|    0|  134|  252|  252|  252|    0|    0|    0|    0|    0|    0|    0|    0|    0|    0|    0|    0|    0|    0|    0|    0|    0|    0|    0|    0|    0|    0|    0|    0|   55|  244|  252|  252|    0|    0|    0|    0|    0|    0|    0|    0|    0|    0|    0|    0|    0|    0|    0|    0|    0|    0|    0|    0|    0|    0|    0|    0|    0|    0|    0|    0|    0|    0|    0|    0|    0|    0|    0|    0|    0|    0|    0|    0|    0|    0|    0|    0|    0|    0|    0|    0|    0|    0|    0|    0|    0|    0|    0|    0|    0|    0|    0|    0|    0|    0|    0|    0|    0|    0|    0|    0|    0|    0|    0|    0|    0|    0|    0|    0|    0|    0|    0|    0|    0|    0|    0|    0|    0|    0|    0|    0|    0|    0|    0|    0|    0|    0|    0|    0|    0|\n",
            "|  7|  0|  0|  0|  0|  0|  0|  0|  0|  0|   0|   0|   0|   0|   0|   0|   0|   0|   0|   0|   0|   0|   0|   0|   0|   0|   0|   0|   0|   0|   0|   0|   0|   0|   0|   0|   0|   0|   0|   0|   0|   0|   0|   0|   0|   0|   0|   0|   0|   0|   0|   0|   0|   0|   0|   0|   0|   0|   0|   0|   0|   0|   0|   0|   0|   0|   0|   0|   0|   0|   0|   0|   0|   0|   0|   0|   0|   0|   0|   0|   0|   0|   0|   0|   0|   0|   0|   0|   0|   0|   0|   0|   0|   0|   0|   0|   0|   0|   0|   0|    0|    0|    0|    0|    0|    0|    0|    0|    0|    0|    0|    0|    0|    0|    0|    0|    0|    0|    0|    0|    0|    0|    0|    0|    0|    0|    0|    0|    0|    0|    0|    0|    0|    0|    0|    0|    0|    0|    0|    0|    0|    0|    0|    0|    0|    0|    0|    0|    0|    0|    0|    0|    0|    0|    0|    0|    0|    0|    0|    0|    0|    0|    0|    0|    0|    0|    0|    0|    0|    0|    0|    0|    0|    0|    0|    0|    0|    0|   50|  252|  255|  220|  110|   94|   73|   13|    1|    0|    0|    0|    0|    0|    0|    0|    0|    0|    0|    0|    0|    0|    0|    0|    0|    0|    0|    0|   20|  248|  247|  209|  229|  204|  236|  254|  129|    0|    0|    0|    0|    0|    0|    0|    0|    0|    0|    0|    0|    0|    0|    0|    0|    0|    0|    0|   57|  240|  127|    0|    0|    0|   15|  182|  251|   94|    0|    0|    0|    0|    0|    0|    0|    0|    0|    0|    0|    0|    0|    0|    0|    0|    0|    0|   36|   99|    0|    0|    0|    0|    0|    0|  250|  152|    0|    0|    0|    0|    0|    0|    0|    0|    0|    0|    0|    0|    0|    0|    0|    0|    0|    0|    0|   11|    0|    0|    0|    0|    0|    0|  250|  178|    0|    0|    0|    0|    0|    0|    0|    0|    0|    0|    0|    0|    0|    0|    0|    0|    0|    0|    0|    0|    0|    0|    0|    0|    0|   95|  253|   79|    0|    0|    0|    0|    0|    0|    0|    0|    0|    0|    0|    0|    0|    0|    0|    0|    0|    0|    0|    0|    0|    0|    0|    0|    0|  236|  248|   26|    0|    0|    0|    0|    0|    0|    0|    0|    0|    0|    0|    0|    0|    0|    0|    0|    0|    0|    0|    0|    0|    0|    0|    0|   51|  249|  215|    0|    0|    0|    0|    0|    0|    0|    0|    0|    0|    0|    0|    0|    0|    0|    0|    0|    0|    0|    0|    0|    0|    0|    0|    0|  206|  254|   70|    0|    0|    0|    0|    0|    0|    0|    0|    0|    0|    0|    0|    0|    0|    0|    0|    0|    0|    0|    0|    0|    0|    0|    0|  145|  248|  204|    2|    0|    0|    0|    0|    0|    0|    0|    0|    0|    0|    0|    0|    0|    0|    0|    0|    0|    0|    0|    0|    0|    0|    0|   22|  235|  254|   54|    0|    0|    0|    0|    0|    0|    0|    0|    0|    0|    0|    0|    0|    0|    0|    0|    0|    0|    0|    0|    0|    0|    0|    0|  133|  254|  196|    7|    0|    0|    0|    0|    0|    0|    0|    0|    0|    0|    0|    0|    0|    0|    0|    0|    0|    0|    0|    0|    0|    0|    0|   18|  234|  221|   16|    0|    0|    0|    0|    0|    0|    0|    0|    0|    0|    0|    0|    0|    0|    0|    0|    0|    0|    0|    0|    0|    0|    0|    0|  162|  254|  120|    0|    0|    0|    0|    0|    0|    0|    0|    0|    0|    0|    0|    0|    0|    0|    0|    0|    0|    0|    0|    0|    0|    0|    0|   39|  215|  186|   12|    0|    0|    0|    0|    0|    0|    0|    0|    0|    0|    0|    0|    0|    0|    0|    0|    0|    0|    0|    0|    0|    0|    0|    0|  159|  250|   46|    0|    0|    0|    0|    0|    0|    0|    0|    0|    0|    0|    0|    0|    0|    0|    0|    0|    0|    0|    0|    0|    0|    0|    0|   58|  239|  145|    0|    0|    0|    0|    0|    0|    0|    0|    0|    0|    0|    0|    0|    0|    0|    0|    0|    0|    0|    0|    0|    0|    0|    0|   17|  211|  232|   50|    0|    0|    0|    0|    0|    0|    0|    0|    0|    0|    0|    0|    0|    0|    0|    0|    0|    0|    0|    0|    0|    0|    0|    0|  168|  254|   84|    0|    0|    0|    0|    0|    0|    0|    0|    0|    0|    0|    0|    0|    0|    0|    0|    0|    0|    0|    0|    0|    0|    0|    0|    0|  208|  172|    4|    0|    0|    0|    0|    0|    0|    0|    0|    0|    0|    0|    0|    0|    0|    0|    0|    0|    0|    0|    0|    0|    0|    0|    0|    0|    0|    0|    0|    0|    0|    0|    0|    0|    0|    0|    0|    0|    0|    0|    0|    0|    0|    0|    0|    0|    0|    0|    0|    0|    0|    0|    0|    0|    0|    0|    0|    0|    0|    0|    0|    0|    0|    0|    0|    0|    0|    0|    0|    0|    0|    0|    0|\n",
            "|  2|  0|  0|  0|  0|  0|  0|  0|  0|  0|   0|   0|   0|   0|   0|   0|   0|   0|   0|   0|   0|   0|   0|   0|   0|   0|   0|   0|   0|   0|   0|   0|   0|   0|   0|   0|   0|   0|   0|   0|   0|   0|   0|   0|   0|   0|   0|   0|   0|   0|   0|   0|   0|   0|   0|   0|   0|   0|   0|   0|   0|   0|   0|   0|   0|   0|   0|   0|   0|   0|   0|   0|   0|   0|   0|   0|   0|   0|   0|   0|   0|   0|   0|   0|   0|   0|   0|   0|   0|   0|   0|   0|   0|   0|   0|   0|   0|   0|   0|   0|    0|    0|    0|    0|    0|    0|    0|    0|    0|    0|    0|    0|    0|    0|    0|    0|    0|    0|    0|    0|    0|    0|    0|    0|    0|    0|    0|    0|    0|   16|  218|   51|    0|    0|    0|    0|    0|    0|    0|    0|    0|    0|    0|    0|    0|    0|    0|    0|    0|    0|    0|    0|    0|    0|    0|    0|    0|   98|  253|   51|    0|    0|    0|    0|    0|    0|    0|    0|    0|    0|    0|    0|    0|    0|    0|    0|    0|    0|    0|    0|    0|    0|    0|    0|  113|  233|  253|   51|    0|    0|    0|    0|    0|    0|    0|    0|    0|    0|    0|    0|    0|    0|    0|    0|    0|    0|    0|    0|    0|    0|    5|  123|  254|  253|  253|   69|    0|    0|    0|    0|    0|    0|    0|    0|    0|    0|    0|    0|    0|    0|    0|    0|    0|    0|    0|    0|    0|    7|  173|  253|  254|  149|  244|   87|    0|    0|    0|    0|    0|    0|    0|    0|    0|    0|    0|    0|    0|    0|    0|    0|    0|    0|    0|    0|    0|  107|  253|  253|  126|   81|  253|   51|    0|    0|    0|    0|    0|    0|    0|    0|    0|    0|    0|    0|    0|    0|    0|    0|    0|    0|    0|    0|    0|   77|  205|   97|    0|  125|  247|   34|    0|    0|    0|    0|    0|    0|    0|    0|    0|    0|    0|    0|    0|    0|    0|    0|    0|    0|    0|    0|    0|    0|    0|    0|   14|  210|  146|    0|    0|    0|    0|    0|    0|    0|    0|    0|    0|    0|    0|    0|    0|    0|    0|    0|    0|    0|    0|    0|    0|    0|    0|    0|   97|  247|   45|    0|    0|    0|    0|    0|    0|    0|    0|    0|    0|    0|    0|    0|    0|    0|    0|    0|    0|    0|    0|    0|    0|    0|    0|   10|  249|  147|    0|    0|    0|    0|    0|    0|    0|    0|    0|    0|    0|    0|    0|    0|    0|    0|    0|    0|    0|    0|    0|    0|    0|    0|    2|  189|  237|   38|    0|    0|    0|    0|    0|    0|    0|    0|    0|    0|    0|    0|    0|    0|    0|    0|    0|    0|    0|    0|    0|    0|    0|    0|  126|  253|  130|    0|    0|    0|    0|    0|    0|    0|    0|    0|    0|    0|    0|    0|    0|    0|    0|    0|    0|    0|    0|    0|   17|  141|  200|  254|  254|  254|   82|    0|    0|    0|    0|    0|    0|    0|    0|    0|    0|    0|    0|    0|    0|    0|    0|    0|    0|    0|    0|   50|  206|  226|  172|  253|  251|  237|  205|    3|    0|    0|    0|    0|    0|    0|    0|    0|    0|    0|    0|    0|    0|    0|    0|    0|    0|    0|    4|  211|  175|   12|  191|  246|   94|   95|  254|   62|    0|    0|    0|    0|    0|    0|    0|    0|    0|    0|    0|    0|    0|    0|    0|    0|    0|    0|   69|  253|  182|  203|  240|   94|    0|   14|  254|  151|    0|    0|    0|    0|    0|    0|    0|    0|    0|    0|    0|    0|    0|    0|    0|    0|    0|    0|  137|  254|  254|  195|   37|    0|    0|    0|  255|  152|    0|    0|    0|    0|    0|    0|    0|    0|    0|    0|    0|    0|    0|    0|    0|    0|    0|    0|   40|   85|   62|    4|    0|    0|    0|    0|  227|  192|   41|    0|    0|    0|    0|    0|    0|    0|    0|    0|    0|    0|    0|    0|    0|    0|    0|    0|    0|    0|    0|    0|    0|    0|    0|    0|  145|  253|   97|    0|    0|    0|    0|    0|    0|    0|    0|    0|    0|    0|    0|    0|    0|    0|    0|    0|    0|    0|    0|    0|    0|    0|    0|    0|   83|  253|   34|    0|    0|    0|    0|    0|    0|    0|    0|    0|    0|    0|    0|    0|    0|    0|    0|    0|    0|    0|    0|    0|    0|    0|    0|    0|    0|    0|    0|    0|    0|    0|    0|    0|    0|    0|    0|    0|    0|    0|    0|    0|    0|    0|    0|    0|    0|    0|    0|    0|    0|    0|    0|    0|    0|    0|    0|    0|    0|    0|    0|    0|    0|    0|    0|    0|    0|    0|    0|    0|    0|    0|    0|    0|    0|    0|    0|    0|    0|    0|    0|    0|    0|    0|    0|    0|    0|    0|    0|    0|    0|    0|    0|    0|    0|    0|    0|    0|    0|    0|    0|    0|    0|    0|    0|    0|    0|    0|    0|    0|    0|    0|    0|    0|    0|    0|    0|    0|    0|    0|    0|    0|    0|\n",
            "+---+---+---+---+---+---+---+---+---+---+----+----+----+----+----+----+----+----+----+----+----+----+----+----+----+----+----+----+----+----+----+----+----+----+----+----+----+----+----+----+----+----+----+----+----+----+----+----+----+----+----+----+----+----+----+----+----+----+----+----+----+----+----+----+----+----+----+----+----+----+----+----+----+----+----+----+----+----+----+----+----+----+----+----+----+----+----+----+----+----+----+----+----+----+----+----+----+----+----+----+-----+-----+-----+-----+-----+-----+-----+-----+-----+-----+-----+-----+-----+-----+-----+-----+-----+-----+-----+-----+-----+-----+-----+-----+-----+-----+-----+-----+-----+-----+-----+-----+-----+-----+-----+-----+-----+-----+-----+-----+-----+-----+-----+-----+-----+-----+-----+-----+-----+-----+-----+-----+-----+-----+-----+-----+-----+-----+-----+-----+-----+-----+-----+-----+-----+-----+-----+-----+-----+-----+-----+-----+-----+-----+-----+-----+-----+-----+-----+-----+-----+-----+-----+-----+-----+-----+-----+-----+-----+-----+-----+-----+-----+-----+-----+-----+-----+-----+-----+-----+-----+-----+-----+-----+-----+-----+-----+-----+-----+-----+-----+-----+-----+-----+-----+-----+-----+-----+-----+-----+-----+-----+-----+-----+-----+-----+-----+-----+-----+-----+-----+-----+-----+-----+-----+-----+-----+-----+-----+-----+-----+-----+-----+-----+-----+-----+-----+-----+-----+-----+-----+-----+-----+-----+-----+-----+-----+-----+-----+-----+-----+-----+-----+-----+-----+-----+-----+-----+-----+-----+-----+-----+-----+-----+-----+-----+-----+-----+-----+-----+-----+-----+-----+-----+-----+-----+-----+-----+-----+-----+-----+-----+-----+-----+-----+-----+-----+-----+-----+-----+-----+-----+-----+-----+-----+-----+-----+-----+-----+-----+-----+-----+-----+-----+-----+-----+-----+-----+-----+-----+-----+-----+-----+-----+-----+-----+-----+-----+-----+-----+-----+-----+-----+-----+-----+-----+-----+-----+-----+-----+-----+-----+-----+-----+-----+-----+-----+-----+-----+-----+-----+-----+-----+-----+-----+-----+-----+-----+-----+-----+-----+-----+-----+-----+-----+-----+-----+-----+-----+-----+-----+-----+-----+-----+-----+-----+-----+-----+-----+-----+-----+-----+-----+-----+-----+-----+-----+-----+-----+-----+-----+-----+-----+-----+-----+-----+-----+-----+-----+-----+-----+-----+-----+-----+-----+-----+-----+-----+-----+-----+-----+-----+-----+-----+-----+-----+-----+-----+-----+-----+-----+-----+-----+-----+-----+-----+-----+-----+-----+-----+-----+-----+-----+-----+-----+-----+-----+-----+-----+-----+-----+-----+-----+-----+-----+-----+-----+-----+-----+-----+-----+-----+-----+-----+-----+-----+-----+-----+-----+-----+-----+-----+-----+-----+-----+-----+-----+-----+-----+-----+-----+-----+-----+-----+-----+-----+-----+-----+-----+-----+-----+-----+-----+-----+-----+-----+-----+-----+-----+-----+-----+-----+-----+-----+-----+-----+-----+-----+-----+-----+-----+-----+-----+-----+-----+-----+-----+-----+-----+-----+-----+-----+-----+-----+-----+-----+-----+-----+-----+-----+-----+-----+-----+-----+-----+-----+-----+-----+-----+-----+-----+-----+-----+-----+-----+-----+-----+-----+-----+-----+-----+-----+-----+-----+-----+-----+-----+-----+-----+-----+-----+-----+-----+-----+-----+-----+-----+-----+-----+-----+-----+-----+-----+-----+-----+-----+-----+-----+-----+-----+-----+-----+-----+-----+-----+-----+-----+-----+-----+-----+-----+-----+-----+-----+-----+-----+-----+-----+-----+-----+-----+-----+-----+-----+-----+-----+-----+-----+-----+-----+-----+-----+-----+-----+-----+-----+-----+-----+-----+-----+-----+-----+-----+-----+-----+-----+-----+-----+-----+-----+-----+-----+-----+-----+-----+-----+-----+-----+-----+-----+-----+-----+-----+-----+-----+-----+-----+-----+-----+-----+-----+-----+-----+-----+-----+-----+-----+-----+-----+-----+-----+-----+-----+-----+-----+-----+-----+-----+-----+-----+-----+-----+-----+-----+-----+-----+-----+-----+-----+-----+-----+-----+-----+-----+-----+-----+-----+-----+-----+-----+-----+-----+-----+-----+-----+-----+-----+-----+-----+-----+-----+-----+-----+-----+-----+-----+-----+-----+-----+-----+-----+-----+-----+-----+-----+-----+-----+-----+-----+-----+-----+-----+-----+-----+-----+-----+-----+-----+-----+-----+-----+-----+-----+-----+-----+-----+-----+-----+-----+-----+-----+-----+-----+-----+-----+-----+-----+-----+-----+-----+-----+-----+-----+-----+-----+-----+-----+-----+-----+-----+-----+-----+-----+-----+-----+-----+-----+-----+-----+-----+-----+-----+-----+-----+-----+-----+-----+-----+-----+-----+-----+-----+-----+-----+-----+-----+-----+-----+-----+-----+-----+-----+-----+-----+-----+\n",
            "only showing top 20 rows\n",
            "\n"
          ]
        }
      ]
    },
    {
      "cell_type": "code",
      "source": [],
      "metadata": {
        "id": "W7ubcfOtMRWf"
      },
      "execution_count": null,
      "outputs": []
    },
    {
      "cell_type": "markdown",
      "source": [
        "### 3. Transformaciones con pyspark [6 puntos]\n",
        "(1 punto por pregunta)"
      ],
      "metadata": {
        "id": "MjxI2Xd6cRu1"
      }
    },
    {
      "cell_type": "markdown",
      "source": [
        "<center>\n",
        "<img src=\"https://live.staticflickr.com/13/91801406_0e71d7f019_b.jpg\" width=350 />\n",
        "\n"
      ],
      "metadata": {
        "id": "bPfhWPZeHXUH"
      }
    },
    {
      "cell_type": "markdown",
      "source": [
        "**Nota: NO SE PERMITE EL USO DE PANDAS EN ESTA SECCIÓN**\n",
        "\n",
        "Para continuar con el análisis, los especistas de Bodoque les gustaría tener nuevas variables disponibles. Tras las notas de la reunión usted llega a la conclusión de que tiene que realizar las siguientes tareas (con el dataset preprocesado de la seccion anterior):\n",
        "\n",
        "\n",
        "1.   Agregar una columna llamada \"Transaction bp\" con el **monto total** de la transacción en bodoque pesos. Se considera que $x$ dólares equivalen a $log(48+|x^{36}|)$ bodoque pesos.\n",
        "2.   Crear una columna llamada \"Transaction Month\" con el mes en que se realiza una transacción.\n",
        "3.   Crear la variable *Type of purchase* según la catidad de unidades vendidas de acuerdo a las siguientes categorías.\n",
        "  * Compra minorista: 5 productos o menos.\n",
        "  * Compra mayorista: 6 produtos o más.\n",
        "4. Imprima los registros de compras hechas por alienígenas en el comecio mayorista.  Utilice `.filter()`.\n",
        "5. Cuente la cantidad de compras realizadas por humanos y la cantidad de compras realizadas por alienígenas. Utilice `.groupby()`.\n",
        "6. Muestre una tabla con la recaudación promedio por transacción para cada método de pago, tanto para humanos como alienígenas. Utilice `pivot()`."
      ],
      "metadata": {
        "id": "lbIDKn44cWhI"
      }
    },
    {
      "cell_type": "code",
      "source": [
        "# Escriba su respuesta aquí"
      ],
      "metadata": {
        "id": "cbtFJi3mHnkK"
      },
      "execution_count": null,
      "outputs": []
    },
    {
      "cell_type": "markdown",
      "source": [
        "### 4. EDA [18 puntos]\n",
        "(1 punto por gráfico y 1 punto por su interpretación)"
      ],
      "metadata": {
        "id": "17Muj6u2jOLq"
      }
    },
    {
      "cell_type": "markdown",
      "source": [
        "<center>\n",
        "<img src=\"https://i.pinimg.com/originals/41/7e/7b/417e7b9089bcc20c4909df8954c6e742.gif\" width=400 />\n",
        "\n"
      ],
      "metadata": {
        "id": "7F3yo66wFQ0z"
      }
    },
    {
      "cell_type": "markdown",
      "source": [
        "Esta sección tiene como objetivo evaluar su habilidad para generar reportes y conclusiones a partir de los patrones identificados en los datos proporcionados por Bodoque. Específicamente, se enfoca en **caracterizar las transacciones** y **explorar las diferencias y similitudes en el comportamiento de humanos y aliens**. Utilice el dataset que ya incluye las transformaciones necesarias.\n",
        "\n",
        "Por favor, asegúrese de que **todas** las visualizaciones que realice cumplan con los siguientes criterios:\n",
        "- Deben ser relevantes y fáciles de interpretar.\n",
        "- Cada gráfico debe incluir un título claro, nombres en los ejes y leyendas adecuadas.\n",
        "- Adjunte una breve descripción interpretativa junto a cada gráfico para explicar los resultados visualizados.\n",
        "\n",
        "Para llevar a cabo esta tarea, siga los siguientes pasos utilizando la librería de visualización de su elección (matplotlib, seaborn, plotly, etc):\n",
        "\n",
        "1. **Conversión del DataFrame a formato pandas**: Pase el DataFrame procesado a formato pandas. Evite realizar transformaciones adicionales con pandas.\n",
        "2. **Visualización de Variables Categóricas**:\n",
        "   - Genere **tres gráficos de barras** que diferencien entre humanos y aliens. Analice y comente cualquier diferencia o similitud observada entre estos dos grupos.\n",
        "3. **Visualización de Variables Numéricas**:\n",
        "   - Elabore **tres distplots** para examinar las distribuciones de variables numéricas, diferenciando entre humanos y aliens. Comente las diferencias o similitudes notables.\n",
        "4. **Análisis de Patrones en Transacciones**:\n",
        "   - Cree **tres gráficos avanzados** que ayuden a identificar patrones en las transacciones. Estos gráficos deben incorporar al menos dos dimensiones y diferir de los anteriores. Algunos ejemplos podrían ser un lineplot que muestre la cantidad de transacciones mensuales por canal de venta, o un barplot que exhiba los tres productos más vendidos por canal.\n",
        "\n",
        "Estos pasos le permitirán no solo visualizar datos complejos de manera efectiva, sino también interpretar estos datos para extraer insights valiosos acerca del comportamiento de los consumidores en el contexto de Bodoque."
      ],
      "metadata": {
        "id": "ayN5LYRamE7-"
      }
    },
    {
      "cell_type": "code",
      "source": [
        "# Escriba su respuesta aquí"
      ],
      "metadata": {
        "id": "tGw5y36IxRk3"
      },
      "execution_count": null,
      "outputs": []
    },
    {
      "cell_type": "markdown",
      "source": [
        "### 5. Particiones y consultas en SQL [6 puntos]\n",
        "(2 puntos por pregunta)"
      ],
      "metadata": {
        "id": "97zN2_g4vgY6"
      }
    },
    {
      "cell_type": "markdown",
      "source": [
        "<center>\n",
        "<img src=\"https://gitlab.com/imezadelajara/datos_clase_7_mds7202/-/raw/main/misc_images/1696330143457.gif\" width=400 />"
      ],
      "metadata": {
        "id": "viNvNuE_odgc"
      }
    },
    {
      "cell_type": "markdown",
      "source": [
        "El equipo de Bodoque e-shop ha solicitado que los datos estén disponibles en una tabla SQL consultable. Además, están interesados en aprovechar las funciones de ventana en SQL para análisis avanzados. Las funciones de ventana permiten realizar cálculos sobre un conjunto de filas que están relacionadas con la fila actual. Por ejemplo, UNBOUNDED PRECEDING se usa para indicar que el rango de la función de ventana comienza desde la primera fila de la partición o del conjunto de resultados, lo cual es útil para calcular sumas acumulativas hasta la fila actual. Las variaciones comunes de este uso incluyen:\n",
        "\n",
        "- `UNBOUNDED PRECEDING` to `CURRENT ROW`: Calcula desde el inicio de la partición hasta la fila actual.\n",
        "- `UNBOUNDED PRECEDING` to `UNBOUNDED FOLLOWING`: Cubre todas las filas dentro de la partición.\n",
        "- `VALUE PRECEDING` to `VALUE FOLLOWING`: Establece un rango específico basado en valores antes y después de la fila actual."
      ],
      "metadata": {
        "id": "SCdHwyGBwVx8"
      }
    },
    {
      "cell_type": "markdown",
      "source": [
        "<center>\n",
        "<img src=\"https://learnsql.com/blog/sql-window-functions-rows-clause/1.png\" width=500 />"
      ],
      "metadata": {
        "id": "VntjejKLleIa"
      }
    },
    {
      "cell_type": "markdown",
      "source": [
        "Ejemplo de uso en SQL:\n",
        "\n",
        "```sql\n",
        "STAT(COL1_NAME) OVER (PARTITION BY COL2_NAME ORDER BY COL3_NAME ROWS BETWEEN X PRECEDING AND CURRENT ROW)\n",
        "```\n",
        "\n",
        "\n",
        "Responda y realice los siguientes puntos:\n",
        "\n",
        "1. **Creación de Tabla con PySpark**:\n",
        "   - Desarrolle un script utilizando PySpark para crear una tabla a partir de un DataFrame previamente transformado. Seleccione y utilice una variable específica para la partición de la tabla. Justifique su elección de esta variable considerando factores como el tamaño del DataFrame, la distribución de los datos y el impacto potencial en el rendimiento de futuras consultas.\n",
        "\n",
        "2. **Consulta SQL para Principales Clientes**:\n",
        "   - Ejecute una consulta SQL para identificar los 10 clientes que más productos han comprado. La consulta debe retornar el ID del cliente junto con el total de productos comprados, ordenados en forma descendente.\n",
        "\n",
        "3. **Implementación de Función de Ventana en SQL y Equivalente en Spark**:\n",
        "   - Implemente una función de ventana en SQL para calcular la compra más alta realizada por cada usuario en los últimos tres meses. Además, describa cómo se podría realizar una función equivalente en Spark, considerando las capacidades específicas de PySpark para manejar este tipo de consultas.\n",
        "\n"
      ],
      "metadata": {
        "id": "D8XJ7NrPllKG"
      }
    },
    {
      "cell_type": "code",
      "source": [
        "# Código Aquí"
      ],
      "metadata": {
        "id": "Xe_JQ3npiM6_"
      },
      "execution_count": null,
      "outputs": []
    },
    {
      "cell_type": "markdown",
      "source": [
        "### 6. UDF [10 puntos]\n",
        "(2 por pregunta)"
      ],
      "metadata": {
        "id": "AKQs-augfZBv"
      }
    },
    {
      "cell_type": "markdown",
      "source": [
        "<center>\n",
        "<img src=\"https://64.media.tumblr.com/ba8c705edd2bed0a28d9458811155d69/tumblr_pap19zg4ae1w3zg6go1_400.gifv\" width=400 />"
      ],
      "metadata": {
        "id": "ovDBGi-uhhdD"
      }
    },
    {
      "cell_type": "markdown",
      "source": [
        "\n",
        "\n",
        "Un experto en predicciones y programación le ha proporcionado un objeto serializado (`pickle`) diseñado para calcular las probabilidades de que un cliente cometa o no un fraude. Este experto sugiere que, para maximizar las capacidades de procesamiento distribuido de Spark, debería implementar `Scalar User Defined Functions` (udf). Esto le permitirá aplicar el objeto serializado en un entorno distribuido a lo largo de toda la población de datos. Un aspecto clave de la función desarrollada por el experto es que se enfoca exclusivamente en las siguientes columnas para realizar las predicciones: `['Transaction Amount', 'Quantity', 'Customer Age', 'Transaction Hour']`.\n",
        "\n",
        "Aparte, el experto le proporciona las siguientes instrucciones para usar las UDF en Spark:\n",
        "\n",
        "```python\n",
        "from pyspark.sql.functions import udf\n",
        "from pyspark.sql.types import FloatType\n",
        "\n",
        "def custom_function(col):\n",
        "    pass\n",
        "\n",
        "udf_function = udf(custom_function, FloatType())\n",
        "```\n",
        "\n",
        "Basándose en la estructura proporcionada, debe desarrollar una función que ejecute un código específico. Tenga en cuenta que esta función solo puede recibir columnas de Spark y debe retornar el valor deseado. Posteriormente, deberá utilizar esta función UDF indicando la función personalizada y el formato de salida.\n",
        "\n",
        "Siga los siguientes pasos para implementar la solución y responda las preguntas:\n",
        "\n",
        "1. **Cargar el objeto serializado**: Revise el tipo de objeto y deduzca su función.\n",
        "2. **Explorar el objeto**: Utilice las funciones `dir` y `help` para identificar qué método del objeto predice la probabilidad.\n",
        "3. **Crear una función personalizada**: Elabore una función que prediga la probabilidad de fraude utilizando el último valor de la lista generada por el objeto serializado. Puede modificar el nombre de la función para reflejar su propósito.\n",
        "4. **Definir la función UDF**: Establezca la función UDF con la función personalizada que ha creado.\n",
        "5. **Generar una nueva columna**: Añada una nueva columna `prediction` a su DataFrame en Spark utilizando la función UDF y muestre un ejemplo de cómo se aplica. ¿Qué beneficios podría generar utilizar udf?"
      ],
      "metadata": {
        "id": "TJUUnpi8qKHD"
      }
    },
    {
      "cell_type": "code",
      "source": [
        "# Código Aquí"
      ],
      "metadata": {
        "id": "bPJVs2OBezN_"
      },
      "execution_count": null,
      "outputs": []
    }
  ]
}